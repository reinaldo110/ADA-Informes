{
  "cells": [
    {
      "cell_type": "markdown",
      "metadata": {
        "id": "jT2qsbCS3Fzu"
      },
      "source": [
        "# 1. Problema del sub-arreglo máximo\n",
        "**Entrada**: Arreglo de números $[a_1,a_n]$\n",
        "\n",
        "**Salida**: Sub-arreglo $[a_i,..,a_j]$, tal que la suma de los elementos es mayor o igual a cualquier otro sub-arreglo, es decir, $\\sum\\limits_{k=i}^j a_k \\geq \\sum\\limits_{k=i'}^{j'} a_k$ , para cualquier par $(i',j')$, con $i' \\leq j'\\leq n$.\n",
        "\n",
        "El problema del sub-arreglo máximo es cuando buscamos un conjunto de elementos contiguos dentro de un arreglo tal que dicho conjunto sea mayor a cualquier otro sub-arreglo posible en el arreglo.\n",
        "\n",
        "Este tiene varias aplicaciones reales. Por ejemplo, podemos ocupar este sub-arreglo máximo en una lista de ingresos de una compañía X para observar en que partes del año reciben más ingresos.\n"
      ]
    },
    {
      "cell_type": "markdown",
      "metadata": {
        "id": "nn1Sn60L3mrJ"
      },
      "source": [
        "# 2. Sub-Arreglo Máximo\n",
        "\n",
        "El siguiente código muestra una implementación divide y vencerás del algoritmo para encontrar el **Sub-Arreglo Máximo**."
      ]
    },
    {
      "cell_type": "markdown",
      "metadata": {
        "id": "ye6dYlnqLNtD"
      },
      "source": [
        "## 2.1. Código"
      ]
    },
    {
      "cell_type": "code",
      "execution_count": 89,
      "metadata": {},
      "outputs": [],
      "source": [
        "import random as rd\n",
        "from termcolor import colored\n",
        "import math as mt\n",
        "import matplotlib.pyplot as plt\n",
        "import copy\n",
        "import datetime\n",
        "from timeit import repeat"
      ]
    },
    {
      "cell_type": "code",
      "execution_count": 129,
      "metadata": {
        "colab": {
          "base_uri": "https://localhost:8080/"
        },
        "id": "X6zMAoC1aos8",
        "outputId": "1ff78cbd-428d-431b-c950-c4da7e8f4818"
      },
      "outputs": [],
      "source": [
        "def maxSubMid(A, low, mid, high, cont, verbose=False):\n",
        "    if verbose:\n",
        "        print(\"------------ INICIO FUNCION NO RECURSIVA ------------\")\n",
        "        print(\"Arreglo actual: \", colored(f\"{str(A[low:high+1])}\",\"green\"), \"\\n\")\n",
        "    suma = 0\n",
        "    izq = der = -mt.inf\n",
        "    cont += 1\n",
        "    for i in range(mid, low-1, -1):\n",
        "        suma += A[i]\n",
        "        cont += 1\n",
        "        if suma > izq:\n",
        "            izq = suma\n",
        "            indIzq = i\n",
        "            if verbose: print(\"Nueva suma izquierda: \", colored(f\"{str(suma)}\",\"red\"), \"\\nNuevo índice izquierdo: \", colored(f\"{str(indIzq)}\",\"red\"), \"\\n\")\n",
        "    \n",
        "    suma = 0\n",
        "    for i in range(mid, high + 1):\n",
        "        suma += A[i]\n",
        "        cont += 1\n",
        "        if suma > der:\n",
        "            der = suma\n",
        "            indDer = i\n",
        "            if verbose: print(\"Nueva suma derecha: \", colored(f\"{str(suma)}\",\"blue\"), \"\\nNuevo índice derecho: \", colored(f\"{str(indDer)}\",\"blue\"), \"\\n\")\n",
        "    \n",
        "    if verbose: print(\"------------ FIN FUNCION NO RECURSIVA ------------\")\n",
        "    return max(izq + der - A[mid], izq, der), indIzq, indDer, cont"
      ]
    },
    {
      "cell_type": "code",
      "execution_count": 108,
      "metadata": {},
      "outputs": [],
      "source": [
        "def maxSubArray(A, low, high, cont = 0, verbose=False):\n",
        "    if low > high: \n",
        "        if verbose: print(\"high menor a low, arreglo inválido, retornando -inf como suma...\")\n",
        "        return -mt.inf, low, high, cont\n",
        "    if low == high: \n",
        "        if verbose: print(\"low == high, arreglo de un elemento, retornando A[low] como suma...\")\n",
        "        return A[low], low, high, cont\n",
        "    mid = (low + high) // 2\n",
        "    if verbose:\n",
        "        print(\"Funcion Recursiva:\")\n",
        "        print(\"Arreglo Recibido:\", colored(f\"{str(A[low:high+1])}\",\"yellow\"))\n",
        "        print(\"Arreglo Dividido:\",colored(f\"{str(A[low:mid+1])}\",\"red\"),\",\",colored(f\"{str(A[mid+1:high+1])}\",\"blue\"), \"\\n\")\n",
        "    sumIzq, indIzqIzq, indIzqDer, cont = maxSubArray(A, low, mid - 1, cont, verbose)\n",
        "    sumDer, indDerIzq, indDerDer, cont = maxSubArray(A, mid + 1, high, cont, verbose)\n",
        "    sumMid, indMidIzq, indMidDer, cont = maxSubMid(A, low, mid, high, cont, verbose)\n",
        "    maxSub = max(sumIzq, sumDer, sumMid)\n",
        "    if verbose:\n",
        "        print(\"Arreglo Izquierdo: \", colored(f\"{str(A[indIzqIzq:indIzqDer+1])}\",\"red\"))\n",
        "        print(\"Suma Arreglo Izquierdo: \", colored(f\"{str(sumIzq)}\",\"red\"), \"\\n\")\n",
        "        print(\"Arreglo Medio: \", colored(f\"{str(A[indMidIzq:indMidDer+1])}\",\"green\"))\n",
        "        print(\"Suma Arreglo Medio: \", colored(f\"{str(sumMid)}\",\"green\"), \"\\n\")\n",
        "        print(\"Arreglo Derecho: \", colored(f\"{str(A[indDerIzq:indDerDer+1])}\",\"blue\"))\n",
        "        print(\"Suma Arreglo Derecho: \", colored(f\"{str(sumDer)}\",\"blue\"), \"\\n\")\n",
        "    if maxSub == sumIzq: \n",
        "        if verbose: print(\"Subarreglo Máximo es el izquierdo, retornándolo...\\n\")\n",
        "        return maxSub, indIzqIzq, indIzqDer, cont\n",
        "    elif maxSub == sumDer: \n",
        "        if verbose: print(\"Subarreglo Máximo es el derecho, retornándolo...\\n\")\n",
        "        return maxSub, indDerIzq, indDerDer, cont\n",
        "    elif maxSub == sumMid: \n",
        "        if verbose: print(\"Subarreglo Máximo es el que pasa por el medio, retornándolo...\\n\")\n",
        "        return maxSub, indMidIzq, indMidDer, cont\n"
      ]
    },
    {
      "cell_type": "markdown",
      "metadata": {
        "id": "XHIw15F97CnZ"
      },
      "source": [
        "## 2.2. Descripción del algoritmo\n",
        "\n",
        "El algoritmo recibe como entrada una lista (o arreglo) $a$ de $n$ elementos, e indices para el inicio y final del arreglo. Luego, comenzamos a buscar el sub-arreglo máximo de la siguiente manera:\n",
        "\n",
        "1. Se guarda el índice de la mitad del arreglo $\\frac{n}{2}$.\n",
        "\n",
        "2. Se llama recursivamente la función de nuevo para ir dividiendo el arreglo en sub arreglos, los cuales cada uno comparará su arreglo izquierdo, medio (Que pasa por el punto medio del arreglo) y derecho, y retornará el mayor de ellos.\n",
        "\n",
        "3. Para obtener el sub-arreglo máximo que pasa por el punto medio, se llama una función separada no recursiva la cual hace dos sumatorias para el lado izquierdo y derecho del arreglo, y retorna el mayor entre la sumatoria izquierda, derecha o la suma de ambas menos el valor del medio.\n",
        "\n",
        "4. Al terminar la recursión, se retorna la suma del sub-arreglo máximo."
      ]
    },
    {
      "cell_type": "markdown",
      "metadata": {
        "id": "o0BhPA6mio_M"
      },
      "source": [
        "## 2.3. Ejemplo\n",
        "\n",
        "Por ejemplo, tenemos un arreglo:\n",
        "\n",
        "$a=[1,2,4,-1,6,-5]$\n",
        "\n",
        "Comenzamos subdividiendo el arreglo por la mitad\n",
        "\n",
        "$a_1=[1,2,4]$, $b_1=[-1,6,-5]$\n",
        "\n",
        "Lo repetimos en el lado izquierdo hasta terminar con arreglos de un elemento, sin el valor de mid:\n",
        "\n",
        "$a_2=[1, 2]$, $b_2=[4]$\n",
        "\n",
        "$a_3=[1]$, $a_4=[2]$\n",
        "\n",
        "Aquí sucederán tres cosas, El lado izquierdo $a_3$ al hacer recursión recibirá un high menor a low, al cual retornaremos -inf como la suma para evitar errores, el lado derecho $a_4$ recibirá un high igual a low, al cual retornaremos $a[low]$, y finalmente, comenzaremos la función no recursiva para conseguir el sub-arreglo máximo que pase por el punto medio del sub-arreglo $a_2$ (explicada posteriormente).\n",
        "\n",
        "Después de todo esto, la función escoge la mayor suma entre las sumas del lado izquierdo, lado derecho y el sub-arreglo medio, y la retorna junto a sus índices.\n",
        "\n",
        "Esto se repetirá para el lado derecho del arreglo $b_1$, \n",
        "\n",
        "Para explicar la función de sub-arreglo máximo que pase por el punto medio, mejor ocuparé el arreglo completo $a$ para más claridad:\n",
        "\n",
        "$a=[1,2,4,-1,6,-5]$\n",
        "\n",
        "Comenzamos la función con un bucle que comienza a sumar desde mid a low, este va sobrescribiendo una variable de suma y una de índice si es que la suma obtenida en el índice actual es mayor a la previa.\n",
        "\n",
        "$a_1=[1,2,4]$\n",
        "\n",
        "$4 > -\\infty, suma = 4, índice = 2$\n",
        "\n",
        "$4+2=6 > 4, suma = 6, índice = 1$\n",
        "\n",
        "$10+1=11 > 6, suma = 11, índice = 0$\n",
        "\n",
        "Se repite para el lado derecho:\n",
        "\n",
        "$a_2=[-2, 6, -5]$\n",
        "\n",
        "$-2 > -\\infty, suma = -2, índice = 3$\n",
        "\n",
        "$-2+6=4 > -2, suma = 4, índice = 4$\n",
        "\n",
        "$4-5=11 < 4, suma = 4, índice = 4$\n",
        "\n"
      ]
    },
    {
      "cell_type": "markdown",
      "metadata": {
        "id": "5TZnpkE0dgta"
      },
      "source": [
        "## 2.4. Ejecución del algoritmo paso a paso (`verbose=True`)\n",
        "\n",
        "Usando la opción `verbose=True`, podemos ver lo que ocurre dentro de ambas funciones:"
      ]
    },
    {
      "cell_type": "code",
      "execution_count": 92,
      "metadata": {
        "colab": {
          "base_uri": "https://localhost:8080/"
        },
        "id": "H_93UBKv8VQl",
        "outputId": "8c5f0bb0-273a-4ec0-b395-4207bb9d28ff"
      },
      "outputs": [
        {
          "name": "stdout",
          "output_type": "stream",
          "text": [
            "Funcion Recursiva:\n",
            "Arreglo Recibido: \u001b[33m[32, -33, 20, 34, -81]\u001b[0m\n",
            "Arreglo Dividido: \u001b[31m[32, -33, 20]\u001b[0m , \u001b[34m[34, -81]\u001b[0m \n",
            "\n",
            "Funcion Recursiva:\n",
            "Arreglo Recibido: \u001b[33m[32, -33]\u001b[0m\n",
            "Arreglo Dividido: \u001b[31m[32]\u001b[0m , \u001b[34m[-33]\u001b[0m \n",
            "\n",
            "high menor a low, arreglo inválido, retornando -inf como suma...\n",
            "low == high, arreglo de un elemento, retornando A[low] como suma...\n",
            "------------ INICIO FUNCION NO RECURSIVA ------------\n",
            "Arreglo actual:  \u001b[32m[32, -33]\u001b[0m \n",
            "\n",
            "Nueva suma izquierda:  \u001b[31m32\u001b[0m \n",
            "Nuevo índice izquierdo:  \u001b[31m0\u001b[0m \n",
            "\n",
            "Nueva suma derecha:  \u001b[34m32\u001b[0m \n",
            "Nuevo índice derecho:  \u001b[34m0\u001b[0m \n",
            "\n",
            "------------ FIN FUNCION NO RECURSIVA ------------\n",
            "Arreglo Izquierdo:  \u001b[31m[]\u001b[0m\n",
            "Suma Arreglo Izquierdo:  \u001b[31m-inf\u001b[0m \n",
            "\n",
            "Arreglo Medio:  \u001b[32m[32]\u001b[0m\n",
            "Suma Arreglo Medio:  \u001b[32m32\u001b[0m \n",
            "\n",
            "Arreglo Derecho:  \u001b[34m[-33]\u001b[0m\n",
            "Suma Arreglo Derecho:  \u001b[34m-33\u001b[0m \n",
            "\n",
            "Subarreglo Máximo es el que pasa por el medio, retornándolo...\n",
            "\n",
            "Funcion Recursiva:\n",
            "Arreglo Recibido: \u001b[33m[34, -81]\u001b[0m\n",
            "Arreglo Dividido: \u001b[31m[34]\u001b[0m , \u001b[34m[-81]\u001b[0m \n",
            "\n",
            "high menor a low, arreglo inválido, retornando -inf como suma...\n",
            "low == high, arreglo de un elemento, retornando A[low] como suma...\n",
            "------------ INICIO FUNCION NO RECURSIVA ------------\n",
            "Arreglo actual:  \u001b[32m[34, -81]\u001b[0m \n",
            "\n",
            "Nueva suma izquierda:  \u001b[31m34\u001b[0m \n",
            "Nuevo índice izquierdo:  \u001b[31m3\u001b[0m \n",
            "\n",
            "Nueva suma derecha:  \u001b[34m34\u001b[0m \n",
            "Nuevo índice derecho:  \u001b[34m3\u001b[0m \n",
            "\n",
            "------------ FIN FUNCION NO RECURSIVA ------------\n",
            "Arreglo Izquierdo:  \u001b[31m[]\u001b[0m\n",
            "Suma Arreglo Izquierdo:  \u001b[31m-inf\u001b[0m \n",
            "\n",
            "Arreglo Medio:  \u001b[32m[34]\u001b[0m\n",
            "Suma Arreglo Medio:  \u001b[32m34\u001b[0m \n",
            "\n",
            "Arreglo Derecho:  \u001b[34m[-81]\u001b[0m\n",
            "Suma Arreglo Derecho:  \u001b[34m-81\u001b[0m \n",
            "\n",
            "Subarreglo Máximo es el que pasa por el medio, retornándolo...\n",
            "\n",
            "------------ INICIO FUNCION NO RECURSIVA ------------\n",
            "Arreglo actual:  \u001b[32m[32, -33, 20, 34, -81]\u001b[0m \n",
            "\n",
            "Nueva suma izquierda:  \u001b[31m20\u001b[0m \n",
            "Nuevo índice izquierdo:  \u001b[31m2\u001b[0m \n",
            "\n",
            "Nueva suma derecha:  \u001b[34m20\u001b[0m \n",
            "Nuevo índice derecho:  \u001b[34m2\u001b[0m \n",
            "\n",
            "Nueva suma derecha:  \u001b[34m54\u001b[0m \n",
            "Nuevo índice derecho:  \u001b[34m3\u001b[0m \n",
            "\n",
            "------------ FIN FUNCION NO RECURSIVA ------------\n",
            "Arreglo Izquierdo:  \u001b[31m[32]\u001b[0m\n",
            "Suma Arreglo Izquierdo:  \u001b[31m32\u001b[0m \n",
            "\n",
            "Arreglo Medio:  \u001b[32m[20, 34]\u001b[0m\n",
            "Suma Arreglo Medio:  \u001b[32m54\u001b[0m \n",
            "\n",
            "Arreglo Derecho:  \u001b[34m[34]\u001b[0m\n",
            "Suma Arreglo Derecho:  \u001b[34m34\u001b[0m \n",
            "\n",
            "Subarreglo Máximo es el que pasa por el medio, retornándolo...\n",
            "\n",
            "Subarreglo máximo:  [20, 34]\n",
            "Suma de subarreglo maximo:  54\n"
          ]
        }
      ],
      "source": [
        "a = rd.sample(range(-100, 100), 5)\n",
        "suma, i, j, cont = maxSubArray(a, 0, len(a) - 1, 0, True)\n",
        "print(\"Subarreglo máximo: \" , a[i:j+1])\n",
        "print(\"Suma de sub-arreglo maximo: \", suma)"
      ]
    },
    {
      "cell_type": "markdown",
      "metadata": {
        "id": "GXXxcYI38GFB"
      },
      "source": [
        "Los textos colorizados de rojo corresponden al lado izquierdo del arreglo, los azules al lado derecho y los verdes al arreglo que cruza el medio del arreglo.\n",
        "\n",
        "Al finalizar el programa, recibimos los índices en los que se encuentra el sub-arreglo máximo y la suma de este."
      ]
    },
    {
      "cell_type": "markdown",
      "metadata": {
        "id": "NmzbekC-4NNC"
      },
      "source": [
        "# 3. Tiempo de ejecución\n",
        "\n",
        "### **Teorema (Tiempo de ejecución).**\n",
        "\n",
        "*Nuestro algoritmo para encontrar el **Subarreglo Máximo** tiene un **tiempo de ejecución de** $O(n log (n))$ en **todos** los casos.*\n",
        "\n",
        "### **Árbol de recurrencia**\n",
        "\n",
        "Para calcular el tiempo de ejecución de nuestro algoritmo, debemos recordar que este se basa en la metodología divide y vencerás, entonces debemos tener en cuenta 2 cosas:\n",
        "1. En cada iteración el problema se va a dividir en dos (n\\2)\n",
        "2. La suma de cada nivel es igual a n.\n",
        "\n",
        "Ahora tenemos que tomar en cuenta que $T(n)=O(nlog(n))$, siendo esto lo que nos quedaría si multiplicamos la altura con la cantidad de datos.\n",
        "\n",
        "Podemos apreciar que esto es muy similar al MergeSort, esto se debe a que ambos hacen básicamente lo mismo: dividen el arreglo en 2 cada iteración y utilizan una función separada para propósitos de su algoritmo respectivo.\n",
        " \n",
        "En la siguiente imagen se muestra el árbol de recurrencia $T(n) = 2T(\\frac{n}{2})+cn$:\n",
        "\n"
      ]
    },
    {
      "cell_type": "markdown",
      "metadata": {
        "id": "KlqGq_7tNo40"
      },
      "source": [
        "![image](https://cdn.kastatic.org/ka-perseus-images/5fcbebf66560d8fc490de2a0d8a0e5b1d65c5c54.png)"
      ]
    },
    {
      "cell_type": "markdown",
      "metadata": {
        "id": "2HQH2ltkBUbq"
      },
      "source": [
        "En la imagen podemos observar como el árbol se expande progresivamente. Posee $log_2n$ niveles y cada nivel tiene un costo $cn$. Con esto podemos decir que el total sería $cn log_2$, lo cual intrepretamos como $O(n log (n))$"
      ]
    },
    {
      "cell_type": "markdown",
      "metadata": {
        "id": "-ifxrrqlC4Hc"
      },
      "source": [
        "# 4. Correctitud\n",
        "\n",
        "### **Teorema (Correctitud)**\n",
        "\n",
        "*El algoritmo para encontrar el **sub-arreglo máximo** recibe un arreglo de tamaño $n$ ($[a_1,a_2,....a_n]$) y retorna un arreglo de tamaño $m$ que contiene la suma contigua máxima $[a_1',a_2',...a_m']$ dentro del arreglo original, donde $\\sum\\limits_{i = 1}^{n}ai \\leq \\sum\\limits{i = 1}^{m}a_i'$.\n",
        "\n",
        "## Prueba del Teorema\n",
        "\n",
        "Previamente observamos que en cada llamada de `maxSubArray` subdividimos el arreglo por la mitad hasta conseguir un array de largo 1, y después la función `maxSubMid` nos busca los sub-arreglos que pasen por el medio del arreglo.\n",
        "\n",
        "Por lo tanto, probaremos la correctitud de la función `maxSubArray` utilizando inducción matemática, y la correctitud de la función `Merge` con la propiedad del bucle invariante.\n",
        "\n",
        "# Prueba del teorema (maxSubMid)\n",
        "\n",
        "La función maxSubMid recibe un arreglo y la posición media de este (mid)\n",
        "\n",
        "Lo que hace esta función es buscar dentro del arreglo entregado, un sub-arreglo que contenga la suma más alta y que pase por el punto medio del arreglo en sí.\n",
        "\n",
        "Para probar su correctitud con la propiedad del bucle invariante, primero debemos analizar la inicialización de los bucles ($i = mid - 1$ y $i = mid$), y comprobar si se mantiene durante la ejecución de este.\n",
        "\n",
        "> Al comienzo de cada iteración $i$ será la variable que irá aumentando en nuestros bucles, siendo $i$ el índice previo a la posición media del arreglo en el primer bucle y la posición media del arreglo en el segundo bucle. Al finalizar cada bucle nuestro arreglo resultante debe ser el que contenga la mayor suma de datos.\n",
        "\n",
        "**Inicialización**\n",
        "\n",
        "Al comienzo de la primera iteración ($i = mid-1$ y $j = mid$), los arreglos serán de un solo elemento, entonces trivialmente tendrán la suma máxima de elementos.\n",
        "\n",
        "**Mantención**\n",
        "\n",
        "Al comienzo de cada iteración $i$ los arreglos resultantes de los bucles serán aquellos que tengan la suma máxima de elementos.\n",
        "\n",
        "Durante el bucle la función se asegurará de que el dato siguiente aumenta la suma total, si la aumenta, se agregará al arreglo resultante, y si no, avanza a la siguiente iteración y lo agrega si la suma aumenta en esa iteración.\n",
        "\n",
        "Al finalizar la iteración, nuestro arreglo resultante será el que posea la mayor suma hasta el momento, entonces podemos decir que se seguirá cumpliendo la **propiedad invariante**.\n",
        "\n",
        "# Prueba del teorema (maxSubArray)\n",
        "\n",
        "Como destacamos previamente, utilizaremos inducción matemática para probar la correctitud de la función maxSubArray. Para probar una declaración $P(n)$ en inducción matemática, para todos los números naturales $n$ debemos seguir los siguientes pasos:\n",
        "\n",
        "1.   Probar $P(n)$ con un caso base, en nuestro caso $P(1)$.\n",
        "2.   Probar si $P(m)$ es cierto para $m < n$, de tal forma que para $P(n)$ esto también esté correcto.\n",
        "\n",
        "Recordamos que la función recibe un arreglo de $n$ números $[a_1,a_2,....,a_n]$ y retornará un sub-arreglo de $m$ números donde $m \\leq n$ < $[a_1',a_2',....,a_n']$, donde $\\sum\\limits_{i = 0}^{n}a_i \\leq\\sum\\limits_{i=0}^{m}a_i'$\n",
        "\n",
        "En nuestro caso base $P(1)$, como maxSubArray recibirá un arreglo de largo 1, la función lo considera como la mayor suma, entonces se cumple $P(1)$.\n",
        "\n",
        "Para el segundo caso, recordamos que MergeSort recibe un arreglo de largo $n$ y lo subdivide en sub-arreglos de tamaño $m = \\frac{n}{2}$ hasta llegar a $n$ arreglos de largo 1 como en el caso base, al cual ya le comprobamos su correctitud previamente.\n",
        "\n",
        "\n"
      ]
    },
    {
      "cell_type": "markdown",
      "metadata": {
        "id": "2hYUM_9OHF38"
      },
      "source": [
        "# 5. Experimentos\n",
        "\n",
        "## 5.1. Número de comparaciones\n",
        "\n",
        "A continuación se muestra gráficamente una comparación entre:\n",
        "\n",
        "* Cantidad de comparaciones caso promedio calculadas matemáticamente \n",
        "* Cantidad de comparaciones realizadas experimentalmente para entradas aleatorias\n",
        "\n",
        "para tamaños de problemas con $n \\in [5,100]$.\n",
        "\n",
        "Los arreglos de entrada son generados aleatoriamente haciendo un sampling de un conjunto de números entre -100 y 100."
      ]
    },
    {
      "cell_type": "code",
      "execution_count": 133,
      "metadata": {
        "colab": {
          "base_uri": "https://localhost:8080/",
          "height": 279
        },
        "id": "LxKv6b1WE-t8",
        "outputId": "a3876ab3-2c20-4dce-dbff-a12396464a9b"
      },
      "outputs": [
        {
          "data": {
            "image/png": "[encoded data removed]",
            "text/plain": [
              "<Figure size 432x288 with 1 Axes>"
            ]
          },
          "metadata": {
            "needs_background": "light"
          },
          "output_type": "display_data"
        }
      ],
      "source": [
        "x=[n for n in range(5,100)] \n",
        "y1=[n * mt.log2(n) for n in range(5,100)] # caso promedio\n",
        "y=[]; \n",
        "\n",
        "for n in range(5,100):\n",
        "  a = rd.sample(range(-100, 100), n)\n",
        "  suma, i, j, cont = maxSubArray(a, 0, len(a) - 1)\n",
        "  y.append(cont)\n",
        "\n",
        "plt.plot(x,y)\n",
        "plt.plot(x,y1)\n",
        "plt.legend([\"SubArray\", \"Caso Promedio\"])\n",
        "\n",
        "plt.xlabel('n')\n",
        "plt.ylabel('number of operations')\n",
        "plt.show()"
      ]
    },
    {
      "cell_type": "markdown",
      "metadata": {
        "id": "0LpupLb_HnWS"
      },
      "source": [
        "### Análisis de resultados\n",
        "\n",
        "Como habiamos discutido en una seccion previa, los casos de ejecucion del subArray no varian, entonces ambos su mejor y peor caso son $O(n log(n))$.\n",
        "\n",
        "En el gráfico se puede apreciar que, aunque está ligeramente separado de la linea, el tiempo de ejecucion del subArray se mantiene cerca de $n(log(n))$.\n",
        "\n",
        "Esta separación parece ser un problema con mi contador en la función, no estoy seguro de como arreglarla tristemente."
      ]
    },
    {
      "cell_type": "markdown",
      "metadata": {
        "id": "5AszHwkmJIfJ"
      },
      "source": [
        "## 5.2. Tiempo de ejecución (experimental)\n",
        "\n",
        "En el siguiente gráfico se reporta el tiempo de ejecución del algoritmo **Divide y vencerás** previamente escrito para este problema, en función del tamaño del problema para arreglos generados aleatoriamente de tamaños $n \\in [5,500]$, y se compara al mismo tiempo del algoritmo de **Kadane**.\n",
        "\n",
        "# Codigo Kadane\n"
      ]
    },
    {
      "cell_type": "code",
      "execution_count": null,
      "metadata": {},
      "outputs": [],
      "source": [
        "def kadane(a, size):\n",
        "       \n",
        "    max_so_far = -mt.inf\n",
        "    max_ending_here = cont = 0\n",
        "       \n",
        "    for i in range(0, size):\n",
        "        max_ending_here += a[i]\n",
        "        if (max_so_far < max_ending_here):\n",
        "            cont += 1\n",
        "            max_so_far = max_ending_here\n",
        "  \n",
        "        if max_ending_here < 0:\n",
        "            max_ending_here = 0 \n",
        "\n",
        "    return max_so_far, cont"
      ]
    },
    {
      "cell_type": "code",
      "execution_count": 132,
      "metadata": {
        "colab": {
          "base_uri": "https://localhost:8080/",
          "height": 280
        },
        "id": "Ffz2Id4WJPsO",
        "outputId": "c0b8cdd7-9c1f-47ec-c7d2-f54b315bc192"
      },
      "outputs": [
        {
          "data": {
            "image/png": "[encoded data removed]",
            "text/plain": [
              "<Figure size 432x288 with 1 Axes>"
            ]
          },
          "metadata": {
            "needs_background": "light"
          },
          "output_type": "display_data"
        }
      ],
      "source": [
        "x=[]; y=[]\n",
        "\n",
        "for n in range(5,500):\n",
        "\n",
        "  a = rd.sample(range(1, 1000), n)\n",
        "\n",
        "  #la función repeat está ejecutando 20 veces bubble_sort con el arreglo a y retorna el mejor tiepo obtenido.\n",
        "  t = repeat(setup=\"from __main__ import maxSubArray\", stmt=f\"maxSubArray({a}, 0, len({a}) - 1, 0)\", repeat=1, number=10)\n",
        "  x.append(n)\n",
        "  y.append(t)\n",
        "\n",
        "plt.plot(x,y)\n",
        "\n",
        "x=[]; y=[]\n",
        "\n",
        "for n in range(5,500):\n",
        "\n",
        "  a = rd.sample(range(1, 1000), n)\n",
        "\n",
        "  #la función repeat está ejecutando 20 veces bubble_sort con el arreglo a y retorna el mejor tiepo obtenido.\n",
        "  t = repeat(setup=\"from __main__ import kadane\", stmt=f\"kadane({a}, len({a}))\", repeat=1, number=10)\n",
        "  x.append(n)\n",
        "  y.append(t)\n",
        "\n",
        "plt.plot(x,y)\n",
        "plt.legend([\"Divide and Conquer\", \"Kadane\"])\n",
        "\n",
        "plt.xlabel('n')\n",
        "plt.ylabel('tiempo en ms')\n",
        "plt.show()"
      ]
    },
    {
      "cell_type": "markdown",
      "metadata": {
        "id": "8lSmgt-vvpWB"
      },
      "source": [
        "### Análisis de resultados\n",
        "\n",
        "En el gráfico podemos inmediatamente darnos cuenta de que el algoritmo de Kadane es mucho mas eficaz que nuestro algoritmo divide y vencerás, esto es debido a que el algoritmo de Kadane posee una complejidad temporal de $O(n)$ a diferencia del $O(nlog(n))$ que posee el divide y vencerás.\n",
        "\n",
        "Note que hay unos peaks de tiempo. Estos se deben probablemente al comportamiento impredecible de los procesadores y quizás a otros procesos que también lo están ocupando."
      ]
    }
  ],
  "metadata": {
    "colab": {
      "authorship_tag": "ABX9TyM0ORc3ade3TKzNYfj5A315",
      "include_colab_link": true,
      "name": "BubbleSort",
      "provenance": []
    },
    "kernelspec": {
      "display_name": "Python 3.10.3 64-bit",
      "language": "python",
      "name": "python3"
    },
    "language_info": {
      "codemirror_mode": {
        "name": "ipython",
        "version": 3
      },
      "file_extension": ".py",
      "mimetype": "text/x-python",
      "name": "python",
      "nbconvert_exporter": "python",
      "pygments_lexer": "ipython3",
      "version": "3.10.3"
    },
    "vscode": {
      "interpreter": {
        "hash": "91c5405521f7dfe0cfba6df6041227d649f645edbf13a25c7854227ce3a5d840"
      }
    }
  },
  "nbformat": 4,
  "nbformat_minor": 0
}
