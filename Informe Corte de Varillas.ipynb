{
  "cells": [
    {
      "cell_type": "markdown",
      "metadata": {
        "id": "jT2qsbCS3Fzu"
      },
      "source": [
        "# 1. Descripción del problema (Corte de varillas)\n",
        "\n",
        "Entrada: Largo de varilla $n$, vector de precios por cada medida $i=1..n$.\n",
        "\n",
        "Salida: Retorno máximo $r_n$ que se puede obtener cortando la varilla y vendiendo las partes.\n",
        "\n",
        "El problema de corte de varillas es un problema de optimización mediante programación dinámica que obtiene el precio óptimo para vender la \"varilla\" a una mayor ganancia. Como recordatorio, la programación dinámica es la optimización de algoritmos al ir guardando soluciones anteriores (subproblemas) y reutilizandolas al ser necesario, así evitando hacer trabajos redundantes."
      ]
    },
    {
      "cell_type": "markdown",
      "metadata": {
        "id": "nn1Sn60L3mrJ"
      },
      "source": [
        "# 2. Cutting a Rod\n",
        "\n",
        "El siguiente código contiene implementaciones del algoritmo **cutRod** de manera recursiva y mediando programación dinámica (bottom-up)"
      ]
    },
    {
      "cell_type": "markdown",
      "metadata": {
        "id": "ye6dYlnqLNtD"
      },
      "source": [
        "## 2.1. Código"
      ]
    },
    {
      "cell_type": "code",
      "execution_count": 38,
      "metadata": {},
      "outputs": [],
      "source": [
        "import random as rd\n",
        "from termcolor import colored\n",
        "import math as mt\n",
        "import matplotlib.pyplot as plt\n",
        "import copy\n",
        "import datetime\n",
        "from timeit import repeat\n",
        "import statistics as st"
      ]
    },
    {
      "cell_type": "code",
      "execution_count": 39,
      "metadata": {},
      "outputs": [],
      "source": [
        "def cutrod_instance_generator(N):\n",
        "  A = []\n",
        "  prev = 0\n",
        "  for i in range(N):\n",
        "    r = rd.randint(0,10)\n",
        "    A.append(prev+r)\n",
        "    prev += r\n",
        "  return A"
      ]
    },
    {
      "cell_type": "code",
      "execution_count": 40,
      "metadata": {},
      "outputs": [
        {
          "name": "stdout",
          "output_type": "stream",
          "text": [
            "Maxima ganancia posible: 22\n",
            "Llamadas recursivas realizadas: 255\n"
          ]
        }
      ],
      "source": [
        "llamadas = 0\n",
        "# Recursivo\n",
        "def cutRodRec(precios, largo, verbose = False):\n",
        "  if (largo == 0): \n",
        "    if verbose: print(\"Caso base: retornamos 0, ya que una varilla de este largo no genera ganancia.\")\n",
        "    return 0\n",
        "\n",
        "  valMax = -mt.inf\n",
        "\n",
        "  for i in range(1, largo + 1):\n",
        "    global llamadas\n",
        "    llamadas += 1\n",
        "    if verbose: print(f\"Cortamos varilla de largo {largo-i}.\")\n",
        "    valMax = max(valMax, precios[i-1] + cutRodRec(precios, largo - i))\n",
        "    if verbose: print(f\"Ganancia Maxima hasta ahora: {valMax}\")\n",
        "\n",
        "\n",
        "  if verbose: print(f\"{valMax} sera nuestra maxima ganancia.\")\n",
        "  if verbose: print(\"---------------------------------------\")\n",
        "  return valMax\n",
        "\n",
        "A = [1, 5, 8, 9, 10, 17, 17, 20]\n",
        "gananciaMayor = cutRodRec(A, len(A))\n",
        "print(\"Maxima ganancia posible:\", gananciaMayor)\n",
        "print(\"Llamadas recursivas realizadas:\", llamadas)"
      ]
    },
    {
      "cell_type": "code",
      "execution_count": 41,
      "metadata": {},
      "outputs": [],
      "source": [
        "subProblemas = 0\n",
        "# Dinamica (bottom-up)\n",
        "def cutRodDin(precios, largo, verbose = False):\n",
        "  # Crear arreglos para almacenar las ganancias máximas y los cortes necesarios para cada ganancia máxima\n",
        "  valores = [0 for x in range(largo + 1)]\n",
        "  cortes = [0 for x in range(largo + 1)]\n",
        "  valores[0] = 0\n",
        "  \n",
        "  # Trabajamos con una varilla de largo \"i\" \n",
        "  for i in range(1, largo + 1):\n",
        "    if verbose: print(f\"Se evalua una varilla de largo {i}.\")\n",
        "    valMax = -mt.inf\n",
        "    \n",
        "    # Dividimos la varilla de largo \"i\" en dos varillas de largo \"j\" y \"i-j-1\" y calculamos la ganancia máxima entre ambas\n",
        "    for j in range(i): \n",
        "      if verbose: print(f\"Caso {j+1}: la varilla es de largo {j+1}.\")\n",
        "      global subProblemas\n",
        "      subProblemas += 1\n",
        "      if (valMax < precios[j] + valores[i-j-1]): \n",
        "        if verbose: print(f\"Valor maximo actual: {valMax}\")\n",
        "        if verbose: print(f\"La maxima ganancia es el mayor valor entre {valMax} y {precios[j] + valores[i-j-1]} ({precios[j]} (Precio por largo {j+1}) + {valores[i-j-1]} (Arreglo de maximas ganancias en la posición {i-j-1}))\")\n",
        "        valMax = max(valMax, precios[j] + valores[i-j-1])\n",
        "        if verbose: print(f\"Maxima ganancia encontrada hasta ahora: {valMax}\")\n",
        "        cortes[i] = j\n",
        "    \n",
        "      if verbose: print(\"------------------------------------------------------\") \n",
        "    # Se almacena la ganancia máxima para la varilla de largo \"i\"\n",
        "    valores[i] = valMax \n",
        "\n",
        "  return valores[largo], cortes"
      ]
    },
    {
      "cell_type": "code",
      "execution_count": 42,
      "metadata": {},
      "outputs": [
        {
          "name": "stdout",
          "output_type": "stream",
          "text": [
            "Maxima ganancia posible: 48\n",
            "Cantidad de sub-problemas resueltos: 36\n",
            "Cortes: 0\n"
          ]
        }
      ],
      "source": [
        "A = [6, 2, 13, 15, 10, 14, 12, 20]\n",
        "gananciaMayor, cortes = cutRodDin(A, len(A))\n",
        "print(\"Maxima ganancia posible:\", gananciaMayor)\n",
        "print(\"Cantidad de sub-problemas resueltos:\", subProblemas)\n",
        "print(\"Cortes:\", cortes[len(A)])"
      ]
    },
    {
      "cell_type": "markdown",
      "metadata": {
        "id": "XHIw15F97CnZ"
      },
      "source": [
        "## 2.2. Descripción del algoritmo\n",
        "\n",
        "Debemos explicar la sub-estructura optima del problema y la función recursiva para el retorno máximo antes de comenzar con el funcionamiento del algoritmo en si:\n",
        "\n",
        "La sub-estructura óptima se refiere a soluciones óptimas de sub-problemas relacionados que se puedan resolver de forma independiente. En nuestro caso del problema de la varilla, este se basa en realizar un corte, analizar las ganancias posibles después del corte y encontrar una ganancia máxima construyendo la solución basándose en las soluciones óptimas de los otros cortes (sub-problemas), podemos afirmar que el problema posee una sub-estructura optima, y por ende, se puede resolver con programación dinámica.\n",
        "\n",
        "La función recursiva para el retorno máximo se refiere a como el retorno máximo $r_n$ para un problema de largo $n$ puede ser el precio de la varilla completa $p_n$ o el precio de una sub-varilla $p_i$, más el retorno máximo $r_{n-i}$ de la varilla restante.\n",
        "\n",
        "$r_n=\\max\\limits_{i=1..n}(p_i+r_{n-i})$, considerando que $r_0=0$\n",
        "\n",
        "Con esto en cuenta, podemos explicar el funcionamiento del algoritmo en ambas de sus implementaciones."
      ]
    },
    {
      "cell_type": "markdown",
      "metadata": {},
      "source": [
        "### 2.2.1 Algoritmo Recursivo\n",
        "El algoritmo comienza recibiendo un arreglo con precios para cada corte de varilla y un largo $n$ de una varilla.\n",
        "\n",
        "1. Comienza un ciclo iterativo para calcular la máxima ganancia posible para cada largo de la varilla (desde largo 1 hasta el largo ingresado).\n",
        "\n",
        "2. Para calcular la ganancia máxima cada vez, el algoritmo se llama recursivamente con el fin de resolver todos los sub-problemas para un largo de varilla $i$ (estos sub-problemas son encontrar cada precio de venta que se puede obtener con un largo de varilla entregado, para luego retornar el mayor de estos precios).\n",
        "\n",
        "3. Se repite lo anterior hasta que se calcule la máxima ganancia obtenible por la venta de una varilla del largo ingresado.\n",
        "\n",
        "Al terminar el proceso anterior, se retorna la mayor ganancia que se puede obtener al cortar la varilla ingresada."
      ]
    },
    {
      "cell_type": "markdown",
      "metadata": {},
      "source": [
        "### 2.2.2 Algoritmo Bottom-Up\n",
        "\n",
        "El algoritmo recibe un arreglo con precios para cada corte de varilla y un largo $n$ de una varilla.\n",
        "\n",
        "1. Creamos un arreglo para almacenar las ganancias máximas de cada corte posible. Su primera posición se inicializa en 0, ya que una varilla de largo 0 no genera ganancia.\n",
        "\n",
        "2. Entramos a los ciclos iterativos y resolvemos cada sub-problema de tamaño $i$, para $i = 1, 2, ..., n$ con el fin de encontrar la ganancia máxima de cada uno.\n",
        "\n",
        "3. Cada vez que salimos del ciclo interno, guardamos la máxima ganancia calculada en el arreglo de valores.\n",
        "\n",
        "4. Al final, se retorna la posición n-ésima del arreglo de valores (o ganancias máximas), posición que corresponde al largo de la varilla indicado en un principio.\n",
        "\n",
        "Al terminar el proceso anterior, el algoritmo retorna la mayor ganancia que se puede obtener al cortar la varilla ingresada."
      ]
    },
    {
      "cell_type": "markdown",
      "metadata": {
        "id": "o0BhPA6mio_M"
      },
      "source": [
        "## 2.3 Ejemplo\n",
        "\n",
        "En nuestro ejemplo sólo explicaremos la implementación con programación dinámica, ya que esta es mucho más eficiente que su versión recursiva.\n",
        "\n",
        "Ingresamos un arreglo $a$ de valores y el largo de la varilla a evaluar:\n",
        "\n",
        "$a = [1, 5, 8, 9, 10, 17, 17, 20]$\n",
        "\n",
        "$l = 3$\n",
        "\n",
        "Se entra a la función *cutRodDin* y ocurre el siguiente procedimiento:\n",
        "\n",
        "1. Creamos un arreglo de ganancias $g$ para guardar las máximas ganancias que se pueden obtener con cada largo de la varilla.\n",
        "\n",
        "  $g = [0, 0, 0, 0, 0, 0, 0, 0, 0]$\n",
        "\n",
        "2. Analizamos cada caso posible de ganancia de la varilla, desde 0 hasta el largo ingresado.\n",
        "\n",
        "3. Primero analizamos la ganancia de una varilla de largo máximo $l = 1$. Una varilla de largo 1 sólo tiene una opción de venderse. De forma completa, su ganacia máxima es igual a 1. Entonces actualizamos el arreglo de ganancias.\n",
        "\n",
        "  $g = [0, 1, 0, 0, 0, 0, 0, 0, 0]$\n",
        "\n",
        "4. Después analizamos la ganancia de una varilla de largo máximo igual a 2. Para este largo tenemos 2 casos:\n",
        "\n",
        " - 4.1 La varilla se divide en dos partes de largo $l = 1$, con una ganancia igual a 2.\n",
        "\n",
        " - 4.2 La varilla se vende completa (sin cortarse), la ganancia es igual a 5.\n",
        "\n",
        "  Podemos apreciar que la ganancia por la venta sin cortar es mayor a la ganancia de la venta por partes, por lo que la máxima ganancia para el largo 2 es igual a 5.\n",
        "\n",
        "  $g = [0, 1, 5, 0, 0, 0, 0, 0, 0]$\n",
        "\n",
        "5. Finalmente, analizamos la ganancia de una varilla de largo máximo $l = 3$. Aqui tenemos 3 casos posibles:\n",
        "\n",
        " - 5.1 La varilla se divide en tres partes de largo 1, lo que generaría una ganancia igual a 3.\n",
        "\n",
        " - 5.2 La varilla se divide en dos partes, una de largo 1 y otra de largo 2, lo que generaría una ganancia igual a 6.\n",
        "\n",
        " - 5.3 La varilla se vende completa (sin cortarse), la ganancia es igual a 8.\n",
        "\n",
        " Y en estos casos previos, la ganancia por la venta sin cortar es mayor a los demás casos posibles, por lo que la máxima ganancia para el largo 3 es igual a 8.\n",
        "\n",
        "Finalmente, se encontró la ganancia máxima para una varilla de largo 3, por lo que se retorna este valor, el cúal es igual a 8."
      ]
    },
    {
      "cell_type": "markdown",
      "metadata": {
        "id": "5TZnpkE0dgta"
      },
      "source": [
        "## 2.4. Ejecución del algoritmo paso a paso (`verbose=True`)\n",
        "\n",
        "Usando la opción `verbose=True`, podemos ver lo que ocurre en cada iteración del algoritmo."
      ]
    },
    {
      "cell_type": "markdown",
      "metadata": {},
      "source": [
        "### 2.4.1 Cut Rod Recursivo (cutRodRec)"
      ]
    },
    {
      "cell_type": "code",
      "execution_count": 43,
      "metadata": {
        "colab": {
          "base_uri": "https://localhost:8080/"
        },
        "id": "H_93UBKv8VQl",
        "outputId": "8c5f0bb0-273a-4ec0-b395-4207bb9d28ff"
      },
      "outputs": [
        {
          "name": "stdout",
          "output_type": "stream",
          "text": [
            "Arreglo de entrada: [1, 5, 8, 9, 10, 17, 17, 20]\n",
            "------------------------------------------------------\n",
            "Cortamos varilla de largo 2.\n",
            "Ganancia Maxima hasta ahora: 6\n",
            "Cortamos varilla de largo 1.\n",
            "Ganancia Maxima hasta ahora: 6\n",
            "Cortamos varilla de largo 0.\n",
            "Ganancia Maxima hasta ahora: 8\n",
            "8 sera nuestra maxima ganancia.\n",
            "---------------------------------------\n",
            "Maxima ganancia posible: 8\n",
            "Cantidad de sub-problemas resueltos: 36\n"
          ]
        }
      ],
      "source": [
        "llamadas = 0\n",
        "A = [1, 5, 8, 9, 10, 17, 17, 20]\n",
        "print(\"Arreglo de entrada:\", A)\n",
        "print(\"------------------------------------------------------\")\n",
        "tamanoVarilla = 3\n",
        "gananciaMayor = cutRodRec(A, tamanoVarilla, verbose = True)\n",
        "print(\"Maxima ganancia posible:\", gananciaMayor)\n",
        "print(\"Cantidad de sub-problemas resueltos:\", subProblemas)"
      ]
    },
    {
      "cell_type": "markdown",
      "metadata": {},
      "source": [
        "Podemos ver en el ejemplo previo como la implementación recursiva del algoritmo se basa en iterar hasta llegar a una varilla de largo 0 y luego ir calculando la ganancia máxima posible para cada largo hasta llegar al largo que había sido ingresado al comienzo del programa. Luego, retorna la máxima ganancia posible para el largo indicado.\n",
        "\n",
        "### 2.4.2 Cut Rod Bottom-Up (cutRodDin)"
      ]
    },
    {
      "cell_type": "code",
      "execution_count": 44,
      "metadata": {},
      "outputs": [
        {
          "name": "stdout",
          "output_type": "stream",
          "text": [
            "Arreglo de entrada: [1, 5, 8, 9, 10, 17, 17, 20]\n",
            "------------------------------------------------------\n",
            "Se evalua una varilla de largo 1.\n",
            "Caso 1: la varilla es de largo 1.\n",
            "Valor maximo actual: -inf\n",
            "La maxima ganancia es el mayor valor entre -inf y 1 (1 (Precio por largo 1) + 0 (Arreglo de maximas ganancias en la posición 0))\n",
            "Maxima ganancia encontrada hasta ahora: 1\n",
            "------------------------------------------------------\n",
            "Se evalua una varilla de largo 2.\n",
            "Caso 1: la varilla es de largo 1.\n",
            "Valor maximo actual: -inf\n",
            "La maxima ganancia es el mayor valor entre -inf y 2 (1 (Precio por largo 1) + 1 (Arreglo de maximas ganancias en la posición 1))\n",
            "Maxima ganancia encontrada hasta ahora: 2\n",
            "------------------------------------------------------\n",
            "Caso 2: la varilla es de largo 2.\n",
            "Valor maximo actual: 2\n",
            "La maxima ganancia es el mayor valor entre 2 y 5 (5 (Precio por largo 2) + 0 (Arreglo de maximas ganancias en la posición 0))\n",
            "Maxima ganancia encontrada hasta ahora: 5\n",
            "------------------------------------------------------\n",
            "Se evalua una varilla de largo 3.\n",
            "Caso 1: la varilla es de largo 1.\n",
            "Valor maximo actual: -inf\n",
            "La maxima ganancia es el mayor valor entre -inf y 6 (1 (Precio por largo 1) + 5 (Arreglo de maximas ganancias en la posición 2))\n",
            "Maxima ganancia encontrada hasta ahora: 6\n",
            "------------------------------------------------------\n",
            "Caso 2: la varilla es de largo 2.\n",
            "------------------------------------------------------\n",
            "Caso 3: la varilla es de largo 3.\n",
            "Valor maximo actual: 6\n",
            "La maxima ganancia es el mayor valor entre 6 y 8 (8 (Precio por largo 3) + 0 (Arreglo de maximas ganancias en la posición 0))\n",
            "Maxima ganancia encontrada hasta ahora: 8\n",
            "------------------------------------------------------\n",
            "Maxima ganancia posible: 8\n",
            "Cantidad de sub-problemas resueltos: 6\n"
          ]
        }
      ],
      "source": [
        "subProblemas = 0\n",
        "A = [1, 5, 8, 9, 10, 17, 17, 20]\n",
        "print(\"Arreglo de entrada:\", A)\n",
        "print(\"------------------------------------------------------\")\n",
        "tamanoVarilla = 3\n",
        "gananciaMayor, cortes = cutRodDin(A, tamanoVarilla, verbose = True)\n",
        "print(\"Maxima ganancia posible:\", gananciaMayor)\n",
        "print(\"Cantidad de sub-problemas resueltos:\", subProblemas)"
      ]
    },
    {
      "cell_type": "markdown",
      "metadata": {},
      "source": [
        "Y en este ejemplo, se puede observar como al utilizar progamación dinámica para implementar el algoritmo, solo calcula la ganancia una vez a diferencia de la implementación recursiva, en la cual pueden ser calculadas múltiples veces innecesariamente. Este algoritmo bottom-up va revisando cada largo de varilla desde 1 hasta el largo ingresado al comienzo, calcula cada ganancia posible para los largos distingtos y guarda la mayor. Retornando finalmente la ganancia máxima encontrada para el largo de varilla ingresado."
      ]
    },
    {
      "cell_type": "markdown",
      "metadata": {
        "id": "NmzbekC-4NNC"
      },
      "source": [
        "# 3. Tiempo de ejecución\n",
        "\n",
        "### **Teorema (Tiempo de ejecución).**\n",
        "\n",
        "*El **cutRod** tiene un tiempo de ejecución de $O(n^2)$ en el peor caso*\n",
        "\n",
        "### **Prueba del Teorema**\n",
        "\n",
        "Para comprobar si nuestro teorema es correcto, definiremos una función matemática para describir la cantidad de sub-problemas que debemos resolver en función de un tamaño de entrada $n$:\n",
        "\n",
        "$T(n)=\\sum\\limits_{i=1}^{n+1}\\sum\\limits_{j=0}^{i}c$\n",
        "\n",
        "Esta función esta compuesta de 2 sumatorias, una correspondiente al largo máximo de cada varilla, desde 1 al largo deseado y a los sub-problemas de cada varilla, donde se calcula la ganancia máxima para cada largo de varilla.\n",
        "\n",
        "$T(n)=c\\sum\\limits_{i=1}^{n+1}j$\n",
        "\n",
        "Resolviendo esta sumatoria, obtenemos que:\n",
        "\n",
        "$T(n) = O(n^2)$\n",
        "\n",
        "Con la función previa, podemos encontrar el tiempo de ejecución de los sub-problemas individuales, estos siendo igual a $O(n)$ cada uno.\n",
        "\n",
        "Como *cutRod* se basa en dos sumatorias de $O(n)$, cada una con un tiempo de ejecución $O(n)$, comprobamos que el tiempo de ejecución del algoritmo es $O(n^2)$.\n",
        "\n",
        "### **Complejidad espacial**\n",
        "\n",
        "*cutRod* tiene una complejidad espacial de $O(n)$. Ya que este algoritmo utiliza un arreglo de largo $n$ (largo de varilla) en el que va almacenando la ganancia máxima de venta de cada largo de la varilla desde 0 hasta $n + 1$."
      ]
    },
    {
      "cell_type": "markdown",
      "metadata": {
        "id": "-ifxrrqlC4Hc"
      },
      "source": [
        "# 4. Correctitud\n",
        "\n",
        "### **Teorema (Correctitud de Select)**\n",
        "\n",
        "*El algoritmo **cutRod** recibe un arreglo: $[a_1',a_2',...,a_n']$ de precios de venta y un largo de varilla $l$, después retorna la máxima ganancia posible al vender una varilla de largo $l$.\n",
        "\n",
        "## Prueba del Teorema\n",
        "\n",
        "Para probar el teorema, utilizaremos inducción matemática.\n",
        "\n",
        "\n",
        "##### **Caso base (n = 0)**\n",
        "\n",
        "Cuando la varilla es de largo 0, retornamos 0 debido a que una varilla de largo 0 no puede generar ganancias.\n",
        "\n",
        "##### **Caso inductivo ($n > 0$)**\n",
        "\n",
        "Cuando la varilla tiene un largo mayor a 0, existen 2 opciones que derivan de la siguiente línea de código:\n",
        "\n",
        "    valMax = max(valMax, precios[j] + valores[i-j-1])\n",
        "\n",
        "1. Cuando \"precios[ j ] + valores[i - j - 1]\" es mayor que \"valMax\", asumimos que el sub-problema (precios[ j ] + valores[i - j - 1]) ya fué resuelto en iteraciones anteriores, por lo que se obtiene la ganancia máxima.\n",
        "\n",
        "2. Cuándo \"valMax\" es mayor o igual, se obtiene la máxima ganancia para el largo de la varilla que estemos evaluando en dicho momento.\n",
        "\n",
        "\n",
        "##### **Correctitud**\n",
        "\n",
        "Como los previos dos pasos son correctos, podemos concluir que el teorema de correctitud es correcto para nuestro algoritmo **cutRod**."
      ]
    },
    {
      "cell_type": "markdown",
      "metadata": {
        "id": "2hYUM_9OHF38"
      },
      "source": [
        "# 5. Experimentos\n",
        "\n",
        "## 5.1 Bottom-Up v/s Recursivo (tiempo de ejecución)\n",
        "\n",
        "En los proximos gráficos se visualizarán los tiempos de ejecución de los algoritmos *cutRodDin* y *cutRodRec* en función del tamaño del problema para arreglos generados aleatoriamente de tamaños entre 10 y 500 (para *cutRod*) y 10 y 20 (para *cutRodRec* debido a su complejidad exponencial)."
      ]
    },
    {
      "cell_type": "code",
      "execution_count": 45,
      "metadata": {
        "colab": {
          "base_uri": "https://localhost:8080/",
          "height": 279
        },
        "id": "LxKv6b1WE-t8",
        "outputId": "a3876ab3-2c20-4dce-dbff-a12396464a9b"
      },
      "outputs": [
        {
          "data": {
            "image/png": "[encoded data removed]",
            "text/plain": [
              "<Figure size 432x288 with 1 Axes>"
            ]
          },
          "metadata": {
            "needs_background": "light"
          },
          "output_type": "display_data"
        }
      ],
      "source": [
        "import matplotlib.pyplot as plt\n",
        "import datetime\n",
        "from timeit import repeat\n",
        "import random\n",
        "\n",
        "x=[]; y=[]\n",
        "\n",
        "for n in range(10,500):\n",
        "\n",
        "  a = random.sample(range(1, 1000), n)\n",
        "\n",
        "  #la función repeat está ejecutando 20 veces cutRod con el arreglo a y retorna el mejor tiempo obtenido.\n",
        "  t = repeat(setup=\"from __main__ import cutRodDin\", stmt=f\"cutRodDin({a}, {len(a)})\", repeat=1, number=20)\n",
        "\n",
        "  x.append(n)\n",
        "  y.append(t)\n",
        "\n",
        "\n",
        "plt.plot(x,y)\n",
        "plt.legend([\"cutRodDin\"])\n",
        "\n",
        "plt.xlabel('n')\n",
        "plt.ylabel('time in ms')\n",
        "plt.show()"
      ]
    },
    {
      "cell_type": "code",
      "execution_count": 46,
      "metadata": {},
      "outputs": [
        {
          "data": {
            "image/png": "[encoded data removed]",
            "text/plain": [
              "<Figure size 432x288 with 1 Axes>"
            ]
          },
          "metadata": {
            "needs_background": "light"
          },
          "output_type": "display_data"
        }
      ],
      "source": [
        "z=[]; w=[]\n",
        "\n",
        "for n in range(10,20):\n",
        "\n",
        "  a = random.sample(range(1, 1000), n)\n",
        "\n",
        "  #la función repeat está ejecutando 20 veces cutRodRecursivo con el arreglo a y retorna el mejor tiempo obtenido.\n",
        "  t2 = repeat(setup=\"from __main__ import cutRodRec\", stmt=f\"cutRodRec({a}, {len(a)})\", repeat=1, number=20)\n",
        "\n",
        "  z.append(n)\n",
        "  w.append(t2)\n",
        "\n",
        "\n",
        "plt.plot(z,w)\n",
        "plt.legend([\"cutRodRec\"])\n",
        "\n",
        "plt.xlabel('n')\n",
        "plt.ylabel('time in ms')\n",
        "plt.show()"
      ]
    },
    {
      "cell_type": "markdown",
      "metadata": {
        "id": "0LpupLb_HnWS"
      },
      "source": [
        "### Análisis de resultados\n",
        "\n",
        "Podemos observar en los previos gráficos que la implementación bottom-up es mucho más eficiente que la recursiva. Podemos corroborar esto viendo que *cutRodDin* posee una complejidad $O(n^2)$ mientras que *cutRodRec* tiene una complejidad exponencial $O(2^n)$. Si observamos de cerca los graficos, podemos ver que la implementacion con programación dinámica demora alrededor de 0.3ms en procesar una varilla de largo 500, mientras que la recursiva demora cerca de 4ms en procesar una varilla de largo 20."
      ]
    },
    {
      "cell_type": "markdown",
      "metadata": {
        "id": "5AszHwkmJIfJ"
      },
      "source": [
        "## 5.2 Cantidad de sub-problemas a resolver (Bottom-Up)\n",
        "\n",
        "A continuación mostraremos un gráfico en el que se visualiza la cantidad de sub-problemas que resuelve *cutRodDin* para tamaños de problemas con n ∈ [5, 99]."
      ]
    },
    {
      "cell_type": "code",
      "execution_count": 47,
      "metadata": {},
      "outputs": [
        {
          "data": {
            "image/png": "[encoded data removed]",
            "text/plain": [
              "<Figure size 432x288 with 1 Axes>"
            ]
          },
          "metadata": {
            "needs_background": "light"
          },
          "output_type": "display_data"
        }
      ],
      "source": [
        "x=[n for n in range(5,100)] \n",
        "y=[]; \n",
        "\n",
        "for n in range(5,100):\n",
        "  a = cutrod_instance_generator(n)\n",
        "\n",
        "  subProblemas = 0\n",
        "  cutRodDin(a, len(a))\n",
        "\n",
        "  y.append(subProblemas)\n",
        "\n",
        "plt.plot(x,y)\n",
        "plt.legend([\"cutRod Bottom-Up\"])\n",
        "\n",
        "plt.xlabel('n')\n",
        "plt.ylabel('Sub-problemas resueltos')\n",
        "plt.show()"
      ]
    },
    {
      "cell_type": "markdown",
      "metadata": {},
      "source": [
        "### Análisis de resultados\n",
        "\n",
        "En el gráfico anterior, vemos que la cantidad de sub-problemas resueltos va aumentando en $\\frac{n^2}{2}$ cada vez. Esto se debe a que, como habiamos afirmado previamente, el algoritmo se compone de 2 sumatorias de complejidad $O(n)$. Cómo en este gráfico sólo estamos contando la cantidad de sub-problemas resueltos (segunda sumatoria), la cantidad de sub-problemas contabilizados será igual a $O(n^2)$ (complejidad de ambas sumatorias juntas) dividido en 2, ya que sólo estamos fijandonos en una sola sumatoria y no en ambas. Podemos apreciar esto cuando se trabaja con un n = 100, los problemas totales resueltos para este caso serían 10000, pero como sólo estamos calculando los sub-problemas resueltos, entonces el resultado es 5000."
      ]
    }
  ],
  "metadata": {
    "colab": {
      "authorship_tag": "ABX9TyM0ORc3ade3TKzNYfj5A315",
      "include_colab_link": true,
      "name": "BubbleSort",
      "provenance": []
    },
    "kernelspec": {
      "display_name": "Python 3.10.3 64-bit",
      "language": "python",
      "name": "python3"
    },
    "language_info": {
      "codemirror_mode": {
        "name": "ipython",
        "version": 3
      },
      "file_extension": ".py",
      "mimetype": "text/x-python",
      "name": "python",
      "nbconvert_exporter": "python",
      "pygments_lexer": "ipython3",
      "version": "3.10.3"
    },
    "vscode": {
      "interpreter": {
        "hash": "91c5405521f7dfe0cfba6df6041227d649f645edbf13a25c7854227ce3a5d840"
      }
    }
  },
  "nbformat": 4,
  "nbformat_minor": 0
}
