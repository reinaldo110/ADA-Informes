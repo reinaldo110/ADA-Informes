{
  "cells": [
    {
      "cell_type": "markdown",
      "metadata": {
        "id": "jT2qsbCS3Fzu"
      },
      "source": [
        "# 1. Descripción del problema (Optimización de árbol binario de búsqueda)\n",
        "\n",
        "Entrada: Secuencia ordenada de n claves: $K=\\left<k_1,k_2,...,k_n\\right>$. Cada clave $k_i$ tiene una probabilidad $p_i$ de ser buscada. Existen claves ficticias $d_i$ que representan búsquedas fallidas con $k_{i-1} \\leq d_i \\leq k_i$. Cada clave $d_i$ tiene una probabilidad $q_i$ de ser buscada. La suma de probabilidades debe ser uno, es decir: $\\sum\\limits_{i=1}^n p_i + \\sum\\limits_{j=0}^n q_i = 1$.\n",
        "\n",
        "Salida: Un árbol de búsqueda óptimo, es decir, un árbol que minimice la cantidad esperada de nodos visitados (costo esperado). \n",
        "\n",
        "El problema del árbol binario de búsqueda óptimo se refiere a un árbol que proporcione un tiempo de búsqueda más pequeño posible (óptimo) para una secuencia de entrada. Para realizar esto, se utilizan dos tipos de programación, estos siendo dinámica y recursiva. Con este algoritmo entonces buscamos obtener un árbol que minimice la cantidad esperada de nodos a visitar."
      ]
    },
    {
      "cell_type": "markdown",
      "metadata": {
        "id": "nn1Sn60L3mrJ"
      },
      "source": [
        "# 2. Árbol de búsqueda óptimo\n",
        "\n",
        "El siguiente código contiene implementaciones del algoritmo de  **búsqueda de árbol óptimo** de manera recursiva y mediante programación dinámica."
      ]
    },
    {
      "cell_type": "markdown",
      "metadata": {
        "id": "ye6dYlnqLNtD"
      },
      "source": [
        "## 2.1. Código"
      ]
    },
    {
      "cell_type": "code",
      "execution_count": 70,
      "metadata": {},
      "outputs": [],
      "source": [
        "import random as rd\n",
        "from termcolor import colored\n",
        "import math as mt\n",
        "import numpy as np\n",
        "import matplotlib.pyplot as plt\n",
        "import copy\n",
        "import datetime\n",
        "from timeit import repeat\n",
        "import statistics as st\n",
        "import networkx as nx\n",
        "import pydot\n",
        "from networkx.drawing.nx_pydot import graphviz_layout"
      ]
    },
    {
      "cell_type": "code",
      "execution_count": 71,
      "metadata": {},
      "outputs": [],
      "source": [
        "def optimal_bst_instance_generator(n):\n",
        "    keys = sorted(rd.sample(range(1, 100), n))\n",
        "    arr = np.random.random(n*2+1)\n",
        "    arr /= arr.sum()\n",
        "    \n",
        "    p = list(arr[:n]) # Probabilidad de las claves\n",
        "    q = arr[n:] # Probabilidad de las claves ficticias\n",
        "    return keys, p, q"
      ]
    },
    {
      "cell_type": "code",
      "execution_count": 72,
      "metadata": {},
      "outputs": [],
      "source": [
        "nullnodes = 0\n",
        "def generate_binary_tree(T,A):\n",
        "    global nullnodes\n",
        "    if len(A)==1: \n",
        "      T.add_node(A[0])\n",
        "      return A[0]\n",
        "    else:\n",
        "      pivote = rd.randint(0,len(A)-1)\n",
        "      T.add_node(A[pivote])\n",
        "\n",
        "      if pivote > 0:\n",
        "        left_node = generate_binary_tree(T,A[0:pivote])\n",
        "        T.add_edge(A[pivote],left_node)\n",
        "      elif pivote ==0: \n",
        "        T.add_edge(A[pivote],\"nil\"+str(nullnodes)); nullnodes+=1\n",
        "      \n",
        "      if pivote < len(A)-1:\n",
        "        right_node = generate_binary_tree(T,A[pivote+1:])\n",
        "        T.add_edge(A[pivote],right_node)\n",
        "      else: \n",
        "        T.add_edge(A[pivote],\"nil\"+str(nullnodes)); nullnodes+=1\n",
        "\n",
        "      return A[pivote]"
      ]
    },
    {
      "cell_type": "code",
      "execution_count": 73,
      "metadata": {},
      "outputs": [
        {
          "name": "stdout",
          "output_type": "stream",
          "text": [
            "Claves: [24, 66, 84]\n",
            "Probabilidad claves: [0.14496830193339125, 0.03955689873068895, 0.21294460756228575]\n",
            "Probabilidad claves ficticias: [0.04628947 0.34524094 0.15230242 0.05869735]\n",
            "Costo mínimo del árbol binario de búsqueda óptimo: 0.6215519076211351\n",
            "Llamadas recursivas totales: 14\n"
          ]
        },
        {
          "data": {
            "image/png": "[encoded data removed]",
            "text/plain": [
              "<Figure size 432x288 with 1 Axes>"
            ]
          },
          "metadata": {},
          "output_type": "display_data"
        }
      ],
      "source": [
        "llamadas = 0\n",
        "\n",
        "def optimalSearchTreeRec(keys, freq, i, j, verbose = False, visualize = False):\n",
        "  if j < i: \n",
        "    if verbose: print(f\"No existen elementos en el subarreglo {i}-{j}, retornamos 0.\")\n",
        "    return 0\n",
        "\n",
        "  if j == i: \n",
        "    if verbose: print(f\"Solo un elemento en el subarreglo {freq[i:j+1]}: {freq[i]}. Retornamos este elemento.\")\n",
        "    return freq[i]\n",
        "\t\n",
        "  if verbose: print(f\"Arreglo de frecuencias actual: {freq[i:j+1]}\")\n",
        "  suma = 0\n",
        "\n",
        "  for k in range(i, j + 1): \n",
        "    suma += freq[k]\n",
        "\n",
        "  sumaFrecuencias = suma\n",
        "  if verbose: print(\"Suma de frecuencias:\", sumaFrecuencias)\n",
        "  valorMin = mt.inf\n",
        "\n",
        "  for k in range(i, j + 1):\n",
        "    global llamadas \n",
        "    llamadas += 2\n",
        "    if verbose: print(\"------------------------------\")\n",
        "    costo = optimalSearchTreeRec(keys, freq, i, k - 1) + optimalSearchTreeRec(keys, freq, k + 1, j)\n",
        "    if verbose: print(\"Costo encontrado en esta llamada:\", costo)\n",
        "    if (costo < valorMin): \n",
        "      if verbose: print(f\"El costo encontrado es menor que el menor costo previamente almacenado. {costo} < {valorMin}\")\n",
        "      valorMin = costo\n",
        "      if verbose: print(\"Tenemos un nuevo menor costo:\", valorMin)\n",
        "  if verbose: print(f\"Menor costo esperado final: {valorMin + sumaFrecuencias} (Menor costo: {valorMin}) + (Suma de frecuencias: {sumaFrecuencias})\")\n",
        "  return valorMin + sumaFrecuencias\n",
        "\n",
        "keys, p, q = optimal_bst_instance_generator(3)\n",
        "\n",
        "T = nx.DiGraph()\n",
        "a = generate_binary_tree(T,keys)\n",
        "pos = graphviz_layout(T, prog=\"dot\")\n",
        "nx.draw(T,pos, with_labels=True, node_size=500, font_color=\"white\", font_size=10, font_weight=\"black\", width=1.0, edge_color =\"green\")\n",
        "\n",
        "n = len(keys)\n",
        "print(\"Claves:\", keys)\n",
        "print(\"Probabilidad claves:\", p)\n",
        "print(\"Probabilidad claves ficticias:\", q)\n",
        "print(\"Costo mínimo del árbol binario de búsqueda óptimo:\", optimalSearchTreeRec(keys, p, 0, n - 1))\n",
        "print(\"Llamadas recursivas totales:\", llamadas)"
      ]
    },
    {
      "cell_type": "code",
      "execution_count": 74,
      "metadata": {},
      "outputs": [
        {
          "name": "stdout",
          "output_type": "stream",
          "text": [
            "Claves: [23, 27, 53]\n",
            "Probabilidad claves: [0.0842440584005612, 0.08164113382255475, 0.2364929291234373]\n",
            "Probabilidad claves ficticias: [0.09324622 0.24348918 0.22948855 0.03139793]\n",
            "Costo mínimo del árbol binario de búsqueda óptimo: 0.649904447392224\n",
            "Subproblemas resueltos: 7\n"
          ]
        },
        {
          "data": {
            "image/png": "[encoded data removed]",
            "text/plain": [
              "<Figure size 432x288 with 1 Axes>"
            ]
          },
          "metadata": {},
          "output_type": "display_data"
        }
      ],
      "source": [
        "subproblemas = 0\n",
        "def optimalSearchTreeDin(keys, freq, n, verbose = False, visualize = False):\n",
        "\tcost = [[0 for x in range(n)] for y in range(n)]\n",
        "\n",
        "\tif verbose: print(f\"Creamos una matriz cuadrada de tamaño {n}: {cost}\")\n",
        "\tfor i in range(n):\n",
        "\t\tcost[i][i] = freq[i]\n",
        "\tif verbose:\n",
        "\t\tprint(f\"Luego insertamos las frecuencias en la matriz (en la diagonal principal).\")\n",
        "\t\tprint(f\"{cost[0]}\\n{cost[1]}\\n{cost[2]}\")\n",
        "\t\tprint(\"------------------------------\")\n",
        "\n",
        "\tfor L in range(2, n + 1):\n",
        "\t\tfor i in range(n - L + 1):\n",
        "\t\t\tj = i + L - 1\n",
        "\t\t\tif verbose: print(f\"Fila actual = {i}, Columna actual = {j}\")\n",
        "\n",
        "\t\t\tsuma = 0\n",
        "\t\t\tfor k in range (i, j + 1): suma += freq[k]\n",
        "\t\t\tif verbose: print(f\"Calculamos la suma de frecuencias: {suma}\")\n",
        "\n",
        "\t\t\tif i >= n or j >= n: break\n",
        "\n",
        "\t\t\tcost[i][j] = mt.inf\n",
        "\n",
        "\t\t\tfor r in range(i, j + 1):\n",
        "\t\t\t\tglobal subproblemas\n",
        "\t\t\t\tsubproblemas += 1\n",
        "\t\t\t\tc = 0\n",
        "\t\t\t\tif r > i: c += cost[i][r - 1]\n",
        "\t\t\t\tif r < j: c += cost[r + 1][j]\n",
        "\t\t\t\tc += suma\n",
        "\t\t\t\tif verbose: \n",
        "\t\t\t\t\tprint(f\"El costo cuando {keys[r]} es la raíz es igual a {c}.\")\n",
        "\t\t\t\t\tprint(f\"Ahora nos fijamos si este es menor al menor costo almacenado, si lo es, lo acualizamos.\")\n",
        "\t\t\t\tif c < cost[i][j]:\n",
        "\t\t\t\t\tif verbose:\n",
        "\t\t\t\t\t\tprint(f\"{c} es el nuevo menor costo encontrado.\")\n",
        "\t\t\t\t\tcost[i][j] = c\n",
        "\t\t\t\telse:\n",
        "\t\t\t\t\tif verbose: print(\"El costo encontrado no es menor que el menor costo previamente calculado.\")\n",
        "\treturn cost[0][n - 1]\n",
        "\n",
        "keys, p, q = optimal_bst_instance_generator(3)\n",
        "\n",
        "T = nx.DiGraph()\n",
        "a = generate_binary_tree(T,keys)\n",
        "pos = graphviz_layout(T, prog=\"dot\")\n",
        "nx.draw(T,pos, with_labels=True, node_size=500, font_color=\"white\", font_size=10, font_weight=\"black\", width=1.0, edge_color =\"green\")\n",
        "\n",
        "n = len(keys)\n",
        "print(\"Claves:\", keys)\n",
        "print(\"Probabilidad claves:\", p)\n",
        "print(\"Probabilidad claves ficticias:\", q)\n",
        "print(\"Costo mínimo del árbol binario de búsqueda óptimo:\", optimalSearchTreeDin(keys, p, n))\n",
        "print(\"Subproblemas resueltos:\", subproblemas)"
      ]
    },
    {
      "cell_type": "markdown",
      "metadata": {
        "id": "XHIw15F97CnZ"
      },
      "source": [
        "## 2.2. Descripción del algoritmo\n",
        "\n",
        "El árbol binario de búsqueda óptimo hace lo siguiente para funcionar:\n",
        "\n",
        "1. Crea una matriz auxiliar para guardar los valores\n",
        "\n",
        "2. Realiza una comparación entre nodos, si hay un nodo con coste igual a la frecuencia del nodo o más de uno con este parámetro, calculando su coste respectivo.\n",
        "\n",
        "3. Guardamos los valores iterativamente en la matriz.\n",
        "\n",
        "Las implementaciones recursiva y dinámica tienen diferencias:"
      ]
    },
    {
      "cell_type": "markdown",
      "metadata": {},
      "source": [
        "### 2.2.1 Algoritmo Recursivo\n",
        "En esta implementación, el árbol solo puede ser modificado después de ser creado. Debido a esto, se considera esta manera de implementar el algoritmo considerablemente ineficiente temporalmente comparada a la implementación mediante programación dinámica, pero utiliza una menor cantidad de memoria debido a que no necesita guardar los resultados de los subproblemas."
      ]
    },
    {
      "cell_type": "markdown",
      "metadata": {},
      "source": [
        "### 2.2.2 Algoritmo Programación Dinámica\n",
        "A cambio de la versión recursiva, esta implementación tiene un árbol que es modificable en cualquier momento de su ejecución, así siendo posible operaciones previamente no disponibles para la implementación recursiva como rotaciones de árbol. Obtiene su ventaja temporal sobre la recursiva al guardar las operaciones previamente realizadas, permitiendo que el algoritmo no necesite resolverlas de nuevo."
      ]
    },
    {
      "cell_type": "markdown",
      "metadata": {
        "id": "o0BhPA6mio_M"
      },
      "source": [
        "## 2.3 Ejemplo (Programación Dinámica)\n",
        "Comenzamos proporcionando al programa un arreglo de claves, un arreglo de frecuencias y el largo del arreglo de claves:\n",
        "\n",
        "$C = [3, 10, 25]$\n",
        "\n",
        "$F = [0.15, 0.11, 0.22]$\n",
        "\n",
        "$l = 3$\n",
        "\n",
        "Inicializamos una matriz cuadrada de tamaño 3, ya que nuestro largo es 3. Y posteriormente ingresamos las frecuencias a la matriz de forma diagonal:\n",
        "\n",
        "$[0.15, 0, 0]$\n",
        "\n",
        "$[0, 0.11, 0]$\n",
        "\n",
        "$[0, 0, 0.22]$\n",
        "\n",
        "Recorremos de 2 hasta 4, con L:\n",
        "\n",
        "1. Desde 0 a 2, representando las filas de la matriz. Se recorre con i.\n",
        "2. Se calcula la columna en la que estamos, en este caso la columna 1.\n",
        "3. Sumamos las frecuencias de las claves que van desde 0 a 2:\n",
        "\n",
        "$sum = 0.48$\n",
        "\n",
        "4. Recorremos de 0 a 2 para calcular costos con r.\n",
        "5. Inicializamos el costo actual en 0.\n",
        "6. $r<j$ $(0<1)$, entonces le sumamos el valor de (1,1) al costo actual:\n",
        "\n",
        "$cost = 0.11$\n",
        "\n",
        "7. Después le sumamos la suma de frecuencias que calculamos previamente:\n",
        "\n",
        "$cost = 0.59$\n",
        "\n",
        "8. Si el costo que calculamos es menor al menor costo almacenado, sobreescribimos el menor costo almacenado con el nuevo. En nuestro caso como es el primer cálculo, entonces este ya es nuestro menor costo.\n",
        "\n",
        "Repetimos este proceso hasta procesar cada caso posible. Al finalizar, retornamos el menor costo encontrado."
      ]
    },
    {
      "cell_type": "markdown",
      "metadata": {
        "id": "5TZnpkE0dgta"
      },
      "source": [
        "## 2.4. Ejecución del algoritmo paso a paso (`verbose=True`)\n",
        "\n",
        "Usando la opción `verbose=True`, podemos ver lo que ocurre en cada iteración del algoritmo."
      ]
    },
    {
      "cell_type": "markdown",
      "metadata": {},
      "source": [
        "### 2.4.1 optimalSearchTreeRec (Algoritmo Recursivo)"
      ]
    },
    {
      "cell_type": "code",
      "execution_count": 75,
      "metadata": {
        "colab": {
          "base_uri": "https://localhost:8080/"
        },
        "id": "H_93UBKv8VQl",
        "outputId": "8c5f0bb0-273a-4ec0-b395-4207bb9d28ff"
      },
      "outputs": [
        {
          "name": "stdout",
          "output_type": "stream",
          "text": [
            "Claves: [64, 79, 83]\n",
            "Probabilidad claves: [0.111069018995572, 0.07608008664474573, 0.14733725126130684]\n",
            "Probabilidad claves ficticias: [0.1983914  0.18539502 0.20159079 0.08013643]\n",
            "-------------------------------------------------------------------------------------------------------\n",
            "Arreglo de frecuencias actual: [0.111069018995572, 0.07608008664474573, 0.14733725126130684]\n",
            "Suma de frecuencias: 0.33448635690162454\n",
            "------------------------------\n",
            "Costo encontrado en esta llamada: 0.2994974245507983\n",
            "El costo encontrado es menor que el menor costo previamente almacenado. 0.2994974245507983 < inf\n",
            "Tenemos un nuevo menor costo: 0.2994974245507983\n",
            "------------------------------\n",
            "Costo encontrado en esta llamada: 0.25840627025687884\n",
            "El costo encontrado es menor que el menor costo previamente almacenado. 0.25840627025687884 < 0.2994974245507983\n",
            "Tenemos un nuevo menor costo: 0.25840627025687884\n",
            "------------------------------\n",
            "Costo encontrado en esta llamada: 0.2632291922850635\n",
            "Menor costo esperado final: 0.5928926271585033 (Menor costo: 0.25840627025687884) + (Suma de frecuencias: 0.33448635690162454)\n",
            "-------------------------------------------------------------------------------------------------------\n",
            "Costo mínimo del árbol binario de búsqueda óptimo: 0.5928926271585033\n",
            "Llamadas recursivas: 14\n"
          ]
        }
      ],
      "source": [
        "llamadas = 0\n",
        "keys, p, q = optimal_bst_instance_generator(3)\n",
        "n = len(keys)\n",
        "print(\"Claves:\", keys)\n",
        "print(\"Probabilidad claves:\", p)\n",
        "print(\"Probabilidad claves ficticias:\", q)\n",
        "print(\"-------------------------------------------------------------------------------------------------------\")\n",
        "costoMinimoEncontrado = optimalSearchTreeRec(keys, p, 0, n - 1, verbose = True)\n",
        "print(\"-------------------------------------------------------------------------------------------------------\")\n",
        "print(\"Costo mínimo del árbol binario de búsqueda óptimo:\", costoMinimoEncontrado)\n",
        "print(\"Llamadas recursivas:\", llamadas)"
      ]
    },
    {
      "cell_type": "markdown",
      "metadata": {},
      "source": [
        "\n",
        "### 2.4.2 optimalSearchTreeDin (Algoritmo Dinámico)"
      ]
    },
    {
      "cell_type": "code",
      "execution_count": 76,
      "metadata": {},
      "outputs": [
        {
          "name": "stdout",
          "output_type": "stream",
          "text": [
            "Claves: [5, 62, 65]\n",
            "Prob claves: [0.14383402158110997, 0.07723779664866583, 0.04773309520553942]\n",
            "Prob claves ficticias: [0.17092949 0.1082479  0.35923705 0.09278065]\n",
            "-------------------------------------------------------------------------------------------------------\n",
            "Creamos una matriz cuadrada de tamaño 3: [[0, 0, 0], [0, 0, 0], [0, 0, 0]]\n",
            "Luego insertamos las frecuencias en la matriz (en la diagonal principal).\n",
            "[0.14383402158110997, 0, 0]\n",
            "[0, 0.07723779664866583, 0]\n",
            "[0, 0, 0.04773309520553942]\n",
            "------------------------------\n",
            "Fila actual = 0, Columna actual = 1\n",
            "Calculamos la suma de frecuencias: 0.22107181822977579\n",
            "El costo cuando 5 es la raíz es igual a 0.2983096148784416.\n",
            "Ahora nos fijamos si este es menor al menor costo almacenado, si lo es, lo acualizamos.\n",
            "0.2983096148784416 es el nuevo menor costo encontrado.\n",
            "El costo cuando 62 es la raíz es igual a 0.36490583981088576.\n",
            "Ahora nos fijamos si este es menor al menor costo almacenado, si lo es, lo acualizamos.\n",
            "El costo encontrado no es menor que el menor costo previamente calculado.\n",
            "Fila actual = 1, Columna actual = 2\n",
            "Calculamos la suma de frecuencias: 0.12497089185420525\n",
            "El costo cuando 62 es la raíz es igual a 0.17270398705974466.\n",
            "Ahora nos fijamos si este es menor al menor costo almacenado, si lo es, lo acualizamos.\n",
            "0.17270398705974466 es el nuevo menor costo encontrado.\n",
            "El costo cuando 65 es la raíz es igual a 0.20220868850287108.\n",
            "Ahora nos fijamos si este es menor al menor costo almacenado, si lo es, lo acualizamos.\n",
            "El costo encontrado no es menor que el menor costo previamente calculado.\n",
            "Fila actual = 0, Columna actual = 2\n",
            "Calculamos la suma de frecuencias: 0.2688049134353152\n",
            "El costo cuando 5 es la raíz es igual a 0.44150890049505986.\n",
            "Ahora nos fijamos si este es menor al menor costo almacenado, si lo es, lo acualizamos.\n",
            "0.44150890049505986 es el nuevo menor costo encontrado.\n",
            "El costo cuando 62 es la raíz es igual a 0.4603720302219646.\n",
            "Ahora nos fijamos si este es menor al menor costo almacenado, si lo es, lo acualizamos.\n",
            "El costo encontrado no es menor que el menor costo previamente calculado.\n",
            "El costo cuando 65 es la raíz es igual a 0.5671145283137569.\n",
            "Ahora nos fijamos si este es menor al menor costo almacenado, si lo es, lo acualizamos.\n",
            "El costo encontrado no es menor que el menor costo previamente calculado.\n",
            "Costo mínimo del árbol binario de búsqueda óptimo: 0.44150890049505986\n",
            "Subproblemas resueltos: 7\n"
          ]
        }
      ],
      "source": [
        "subproblemas = 0\n",
        "keys, p, q = optimal_bst_instance_generator(3)\n",
        "n = len(keys)\n",
        "print(\"Claves:\", keys)\n",
        "print(\"Prob claves:\", p)\n",
        "print(\"Prob claves ficticias:\", q)\n",
        "print(\"-------------------------------------------------------------------------------------------------------\")\n",
        "costMin = optimalSearchTreeDin(keys, p, n, verbose = True, visualize = True)\n",
        "print(\"Costo mínimo del árbol binario de búsqueda óptimo:\", costMin)\n",
        "print(\"Subproblemas resueltos:\", subproblemas)"
      ]
    },
    {
      "cell_type": "markdown",
      "metadata": {
        "id": "NmzbekC-4NNC"
      },
      "source": [
        "# 3. Tiempo de ejecución\n",
        "\n",
        "## 3.1 Implementación recursiva\n",
        "\n",
        "En esta implementación debemos resolver los subproblemas repetidamente. Además, siendo la cantidad de árboles binarios formables con $n$ nodos $Ω$($\\frac{4^n}{n^{3/2}}$), podemos usar esta función para representar la cantidad de subproblemas que debe resolver el programa según el tamaño de entrada.\n",
        "\n",
        "Entonces, el tiempo de ejecución es exponencial en $n$, siendo igual a ${\\displaystyle{2n \\choose n}{\\frac {1}{n+1}}}$.\n",
        "\n",
        "Además, la complejidad espacial es de $O(1)$ ya que no necesita estructuras auxiliares para guardar información.\n",
        "\n",
        "\n",
        "## 3.2 Implementación Dinámica (Bottom-Up)\n",
        "\n",
        "A cambio de la implementación recursiva, donde debemos resolver cada subproblema repetidamente aunque lo hayamos resuelto previamentem, en la dinámica solo resolveremos cada subproblema una vez. Por esto, la cantidad de subproblemas a resolver en función del tamaño de entrada se reduce a:\n",
        "\n",
        "$C_{ij} = min_{T{i...j}} C(T)$, donde $C(T)$ representa el costo del árbol.\n",
        "\n",
        "Entonces con la función previa, y sabiendo que el algoritmo posee 3 ciclos anidados de iteran alrededor de $n$ veces cada uno, el tiempo de ejecución es $O(n^3)$.\n",
        "\n",
        "Además, la complejidad espacial es de $O(n^2)$ debido a la necesidad de usar una matriz cuadrada para almacenar información."
      ]
    },
    {
      "cell_type": "markdown",
      "metadata": {
        "id": "-ifxrrqlC4Hc"
      },
      "source": [
        "# 4. Correctitud (Bottom-Up)\n",
        "\n",
        "### **Subestructura Óptima**\n",
        "La subestructura óptima de este problema consiste en buscar el coste del árbol mínimo para una secuencia de claves ingresada. Entonces debemos resolver diversos subproblemas para esto, cada uno consistiendo en seleccionar una clave ingresada y usarla de nodo raíz, para después obtener su costo mínimo. Luego de resolver todos los subproblemas, podemos obtener el coste mínimo del problema principal.\n",
        "\n",
        "Podemos ver el costo del árbol original y de cada subproblema en las siguientes formulas:\n",
        "\n",
        "$C(T)=\\sum\\limits_{l=i}^{j}p_l(depth_T(l)+1)$\n",
        "\n",
        "$C_{ij} = min_{T{i...j}} C(T)$\n",
        "\n",
        "Podemos simplificar la fórmula de costo del árbol óptimo, obteniendo así la siguiente función de recurrencia:\n",
        "\n",
        ">  $C'_{ij} = \\begin{cases}\n",
        "  min_{i≤k≤j}(C'_{i,k-1}+C'_{k+1,j})+\\sum_{l=i}^{j} p_l & \\text{si } i < j \\\\\n",
        "  p_i & \\text{si } i = j \\\\\n",
        "  0 & \\text{si } i > j\n",
        "\\end{cases}$\n",
        "\n",
        "## Teorema: Correctitud del algoritmo Bottom-Up\n",
        "\n",
        "El algoritmo *optimalSearchTreeDin* recibe un arreglo de claves y un arreglo de frecuencias de dichas claves, retorna el costo mínimo del árbol de búsqueda óptimo que se forma.\n",
        "\n",
        "\n",
        "## **Prueba del Teorema**\n",
        "\n",
        "Utilizaremos inducción matemática para probar el teorema anterior\n",
        "\n",
        "\n",
        "##### **Caso base ($n = 1$)**\n",
        "\n",
        "Cuando el arreglo de entrada es de largo 1, el costo mínimo simplemente se retorna como la frecuencia del único elemento en el arreglo.\n",
        "\n",
        "\n",
        "##### **Caso inductivo ($n > 1$)**\n",
        "\n",
        "Cuando el arreglo de entrada es de un largo mayor a 1, comenzamos a iterar para encontrar cada costo mínimo posible. Esto lo hacemos para calcular el costo del árbol resultante por mover cada clave del arreglo a la raíz. Existen dos casos posibles para esto:\n",
        "\n",
        "1. $C_{ij} ≤ C´_{ij}$: en este caso, $C´_{ij}$ es el costo de algún árbol entre $i...j$ y $C_{ij}$ sería el costo de un árbol óptimo. \n",
        "\n",
        "2. $C_{ij} ≥ C´_{ij}$: supongamos que la raíz del árbol de búsqueda óptimo es $k$, entonces:\n",
        "\n",
        "$C_{ij} = C_{i,k-1} + C_{k+1,j} + \\sum_{l=i}^{j} p_l$\n",
        "\n",
        "$\\geq C'_{i,k-1}+C'{k+1,j} + \\sum_{l=i}^{j} p_l$\n",
        "\n",
        "$\\geq min_{i\\leq k\\leq j} (C'_{i,k-1}+C'_{k+1,j}) + \\sum_{l=i}^{j} p_l$\n",
        "\n",
        "$ = C'_{ij}$\n",
        "\n",
        "\n",
        "##### **Correctitud**\n",
        "\n",
        "Como el caso base y el inductivo son correcto, concluimos que el teorema de correctitud es verdadero.\n"
      ]
    },
    {
      "cell_type": "markdown",
      "metadata": {},
      "source": [
        "## Conclusión\n",
        "\n",
        "Después de haber revisado cada aspecto de la correctitud, podemos terminar concluyendo que el último problema que nuestro algoritmo debe resolver es el problema original, ya que en la última iteración del $\\text{for}$ intermedio, nuestro algoritmo debe determinar cual es el costo mínimo a retornar, ya que después de esta iteración, vamos a terminar el programa y retornar un valor."
      ]
    },
    {
      "cell_type": "markdown",
      "metadata": {
        "id": "2hYUM_9OHF38"
      },
      "source": [
        "# 5. Experimentos\n",
        "\n",
        "## 5.1 Bottom-up vs Recursivo (tiempo de ejecución)\n",
        "\n",
        "A continuación, generaremos gráficos que visualizarán los tiempos de ejecución de los algoritmos de árbol binario de búsqueda óptimo dinámico (bottom-up) y recursivo para arreglos generados aleatoriamente entre 10 y 100 para el algoritmo dinámico, y entre 10 y 15 para el algoritmo recursivo."
      ]
    },
    {
      "cell_type": "code",
      "execution_count": 77,
      "metadata": {
        "colab": {
          "base_uri": "https://localhost:8080/",
          "height": 279
        },
        "id": "LxKv6b1WE-t8",
        "outputId": "a3876ab3-2c20-4dce-dbff-a12396464a9b"
      },
      "outputs": [
        {
          "data": {
            "image/png": "[encoded data removed]",
            "text/plain": [
              "<Figure size 432x288 with 1 Axes>"
            ]
          },
          "metadata": {
            "needs_background": "light"
          },
          "output_type": "display_data"
        }
      ],
      "source": [
        "x=[]; y=[]\n",
        "\n",
        "for n in range(10,100):\n",
        "\n",
        "  keys, p, q = optimal_bst_instance_generator(n)\n",
        "\n",
        "  t = repeat(setup=\"from __main__ import optimalSearchTreeDin\", stmt=f\"optimalSearchTreeDin({keys}, {p}, {n})\", repeat=1, number=20)\n",
        "\n",
        "  x.append(n)\n",
        "  y.append(t)\n",
        "\n",
        "plt.plot(x,y)\n",
        "plt.legend([\"optimalSearchTreeDin\"])\n",
        "\n",
        "plt.xlabel('n')\n",
        "plt.ylabel('time in ms')\n",
        "plt.show()"
      ]
    },
    {
      "cell_type": "code",
      "execution_count": 78,
      "metadata": {},
      "outputs": [
        {
          "data": {
            "image/png": "[encoded data removed]",
            "text/plain": [
              "<Figure size 432x288 with 1 Axes>"
            ]
          },
          "metadata": {
            "needs_background": "light"
          },
          "output_type": "display_data"
        }
      ],
      "source": [
        "z=[]; w=[]\n",
        "\n",
        "for n in range(10,15):\n",
        "\n",
        "  keys, p, q = optimal_bst_instance_generator(n)\n",
        "\n",
        "  t2 = repeat(setup=\"from __main__ import optimalSearchTreeRec\", stmt=f\"optimalSearchTreeRec({keys}, {p}, {0}, {n-1})\", repeat=1, number=20)\n",
        "\n",
        "  z.append(n)\n",
        "  w.append(t2)\n",
        "\n",
        "plt.plot(z,w)\n",
        "plt.legend([\"optimalSearchTreeRec\"])\n",
        "\n",
        "plt.xlabel('n')\n",
        "plt.ylabel('time in ms')\n",
        "plt.show()"
      ]
    },
    {
      "cell_type": "code",
      "execution_count": 79,
      "metadata": {},
      "outputs": [
        {
          "data": {
            "image/png": "[encoded data removed]",
            "text/plain": [
              "<Figure size 432x288 with 1 Axes>"
            ]
          },
          "metadata": {
            "needs_background": "light"
          },
          "output_type": "display_data"
        }
      ],
      "source": [
        "x=[]\n",
        "y_din = []\n",
        "y_rec = []\n",
        "\n",
        "for n in range(1,15):\n",
        "  keys, freq, q = optimal_bst_instance_generator(n)\n",
        "  cont = 0\n",
        "  cont2 = 0\n",
        "  t_din = repeat(setup=\"from __main__ import optimalSearchTreeDin\", stmt=f\"optimalSearchTreeDin({keys}, {p}, {n})\", repeat=1, number=20)\n",
        "  t_rec = repeat(setup=\"from __main__ import optimalSearchTreeRec\", stmt=f\"optimalSearchTreeRec({keys}, {p}, {0}, {n-1})\", repeat=1, number=20)\n",
        "\n",
        "  x.append(n)\n",
        "  y_din.append(t_din)\n",
        "  y_rec.append(t_rec)\n",
        "\n",
        "plt.plot(x,y_rec)\n",
        "plt.plot(x,y_din)\n",
        "plt.legend([\"Recursivo\",\"Bottom-Up\"])\n",
        "\n",
        "plt.xlabel('n')\n",
        "plt.ylabel('Tiempo en ms')\n",
        "plt.show()\n",
        "\n"
      ]
    },
    {
      "cell_type": "markdown",
      "metadata": {
        "id": "0LpupLb_HnWS"
      },
      "source": [
        "### Análisis de resultados\n",
        "\n",
        "Podemos apreciar en los previos gráficos que la versión dinámica de nuestro algoritmo es dramáticamente más rápida que la implementación recursiva, ya que la dinámica posee una complejidad temporal $O(n^3)$, mientras que la recursiva tiene una complejidad exponencial en $n$. podemos ver la enorme diferencia de velocidad en la escala de los gráficos, el del dinámico demora alrededor de 0.8ms en procesar un arreglo de tamaño 100, mientras que el recursivo demora mas de 10 veces eso (12ms) en resolver un arreglo de solo 15 elementos."
      ]
    }
  ],
  "metadata": {
    "colab": {
      "authorship_tag": "ABX9TyM0ORc3ade3TKzNYfj5A315",
      "include_colab_link": true,
      "name": "BubbleSort",
      "provenance": []
    },
    "kernelspec": {
      "display_name": "Python 3.10.3 64-bit",
      "language": "python",
      "name": "python3"
    },
    "language_info": {
      "codemirror_mode": {
        "name": "ipython",
        "version": 3
      },
      "file_extension": ".py",
      "mimetype": "text/x-python",
      "name": "python",
      "nbconvert_exporter": "python",
      "pygments_lexer": "ipython3",
      "version": "3.10.3"
    },
    "vscode": {
      "interpreter": {
        "hash": "91c5405521f7dfe0cfba6df6041227d649f645edbf13a25c7854227ce3a5d840"
      }
    }
  },
  "nbformat": 4,
  "nbformat_minor": 0
}
