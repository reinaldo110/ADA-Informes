{
  "cells": [
    {
      "cell_type": "markdown",
      "metadata": {
        "id": "jT2qsbCS3Fzu"
      },
      "source": [
        "# 1. Descripción del problema (Problema del camino más corto)\n",
        "\n",
        "**Entrada**: Un grafo dirigido $G=(V,E)$, un vértice fuente $s\\in V$, y un valor real $l_e$ asociado a cada arco $e\\in E$.\n",
        "\n",
        "**Salida**: La distancia más corta $\\text{dist}(s,v)$ para cada vértice $v\\in V$, o una declaración indicando que $G$ contiene un ciclo negativo.\n",
        "\n",
        "El problema del camino más corto busca encontrar la menor distancia entre un vértice $s$ y cada nodo de un grafo $G$. La distancia entre nodos es calculada cumando los pesos de los arcos entre ellos.\n",
        "\n",
        "![image](https://i.imgur.com/xiHLIDk.png)"
      ]
    },
    {
      "cell_type": "markdown",
      "metadata": {
        "id": "nn1Sn60L3mrJ"
      },
      "source": [
        "# 2. Bellman-Ford y Dijkstra\n",
        "\n",
        "El siguiente código contiene implementaciones del algoritmo de **Bellman-Ford** y del algoritmo de **Dijkstra**"
      ]
    },
    {
      "cell_type": "markdown",
      "metadata": {
        "id": "ye6dYlnqLNtD"
      },
      "source": [
        "## 2.1. Código"
      ]
    },
    {
      "cell_type": "code",
      "execution_count": 99,
      "metadata": {},
      "outputs": [],
      "source": [
        "import random as rd\n",
        "from termcolor import colored\n",
        "import math as mt\n",
        "import numpy as np\n",
        "import matplotlib.pyplot as plt\n",
        "import copy\n",
        "import datetime\n",
        "from timeit import repeat\n",
        "import statistics as st\n",
        "import networkx as nx\n",
        "import pydot\n",
        "from networkx.drawing.nx_pydot import graphviz_layout\n",
        "from sys import maxsize"
      ]
    },
    {
      "cell_type": "code",
      "execution_count": 100,
      "metadata": {},
      "outputs": [],
      "source": [
        "# Funciones Auxiliares\n",
        "def is_valid_edge(generated_edges: dict, i: int, j: int):\n",
        "    return i != j and not generated_edges.get((i, j), None) and not generated_edges.get((j, i), None)\n",
        "\n",
        "def graph_to_nxdigraph(graph: list, n: int):\n",
        "    \"\"\"\n",
        "        Input: Un grafo en formato list[tuple]. Ej: [(0, 1, 10), (1, 2, 15), (2, 0, 7)].\n",
        "        Output: Un nx.DiGraph de la libreria networkx.\n",
        "    \"\"\"\n",
        "    nxdigraph = nx.DiGraph()\n",
        "    [nxdigraph.add_node(i) for i in range(n)]\n",
        "\n",
        "    for v in graph:\n",
        "        nxdigraph.add_edge(v[0], v[1], weight=v[2])\n",
        "\n",
        "    return nxdigraph\n",
        "\n",
        "def instance_generator_bell(n: int):\n",
        "    \"\"\"\n",
        "        Input: cantidad de vértices\n",
        "        Output: una lista que contiene todos los arcos y el número del vértice fuente (la función retorna dos variables).\n",
        "        Los arcos vienen en la forma (i, j, weight), donde i es el vértice origen del arco y j el vértice al que apunta el arco, mientras que weight es su peso.\n",
        "    \"\"\"\n",
        "    graph = []\n",
        "    nodes = rd.sample(range(0, n), n)\n",
        "    unvisited_nodes = rd.sample(range(0, n), n)\n",
        "    \n",
        "    generated_edges = {}\n",
        "    for i in nodes:\n",
        "        rand = rd.sample(nodes, rd.randint(1, 3))\n",
        "\n",
        "        for j in rand:\n",
        "            edge = (i, j)\n",
        "            edge_with_weight = (i, j, rd.randint(1, 100))\n",
        "            \n",
        "            if generated_edges.get((edge[1], edge[0]), None):\n",
        "                continue\n",
        "            \n",
        "            if i == j:\n",
        "                new_vertice = None\n",
        "                iterations = 0\n",
        "                while new_vertice is None and iterations < 250:\n",
        "                    iterations += 1\n",
        "                    number = rd.randint(0, n - 1)\n",
        "                    if is_valid_edge(generated_edges, i, number):\n",
        "                        new_vertice = number\n",
        "\n",
        "                if iterations >= 250:\n",
        "                    return instance_generator_bell(n)\n",
        "                \n",
        "                edge = (i, new_vertice)\n",
        "                edge_with_weight = (i, new_vertice, rd.randint(-25, 100)) # -25 y 100 corresponde a los límites de los pesos, puede cambiarlos.\n",
        "            \n",
        "            graph.append(edge_with_weight)\n",
        "            generated_edges[edge] = edge\n",
        "\n",
        "            if edge_with_weight[1] in unvisited_nodes:\n",
        "                unvisited_nodes.remove(edge_with_weight[1])\n",
        "\n",
        "    for i in unvisited_nodes:\n",
        "        valid_edge = False\n",
        "        iterations = 0\n",
        "        while not valid_edge and iterations < 250:\n",
        "            iterations += 1\n",
        "            m = rd.randint(0, n - 1)\n",
        "            if is_valid_edge(generated_edges, m, i):\n",
        "                valid_edge = True\n",
        "                edge = (m, i)\n",
        "                edge_with_weight = (m, i, rd.randint(-25, 100)) # -25 y 100 corresponde a los límites de los pesos, puede cambiarlos.\n",
        "                graph.append(edge_with_weight)\n",
        "                generated_edges[edge] = edge\n",
        "\n",
        "        if iterations >= 250:\n",
        "            return instance_generator_bell(n)\n",
        "\n",
        "    return graph, graph[0][0]\n",
        "\n",
        "def instance_generator_dijk(n: int):\n",
        "    \"\"\"\n",
        "        Input: cantidad de vértices\n",
        "        Output: una lista que contiene todos los arcos y el número del vértice fuente (la función retorna dos variables).\n",
        "        Los arcos vienen en la forma (i, j, weight), donde i es el vértice origen del arco y j el vértice al que apunta el arco, mientras que weight es su peso.\n",
        "    \"\"\"\n",
        "    graph = []\n",
        "    nodes = rd.sample(range(0, n), n)\n",
        "    unvisited_nodes = rd.sample(range(0, n), n)\n",
        "    \n",
        "    generated_edges = {}\n",
        "    for i in nodes:\n",
        "        rand = rd.sample(nodes, rd.randint(1, 3))\n",
        "\n",
        "        for j in rand:\n",
        "            edge = (i, j)\n",
        "            edge_with_weight = (i, j, rd.randint(1, 100))\n",
        "            \n",
        "            if generated_edges.get((edge[1], edge[0]), None):\n",
        "                continue\n",
        "            \n",
        "            if i == j:\n",
        "                new_vertice = None\n",
        "                iterations = 0\n",
        "                while new_vertice is None and iterations < 250:\n",
        "                    iterations += 1\n",
        "                    number = rd.randint(0, n - 1)\n",
        "                    if is_valid_edge(generated_edges, i, number):\n",
        "                        new_vertice = number\n",
        "\n",
        "                if iterations >= 250:\n",
        "                    return instance_generator_dijk(n)\n",
        "                \n",
        "                edge = (i, new_vertice)\n",
        "                edge_with_weight = (i, new_vertice, rd.randint(1, 100)) # 1 y 100 corresponde a los límites de los pesos, puede cambiarlos.\n",
        "            \n",
        "            graph.append(edge_with_weight)\n",
        "            generated_edges[edge] = edge\n",
        "\n",
        "            if edge_with_weight[1] in unvisited_nodes:\n",
        "                unvisited_nodes.remove(edge_with_weight[1])\n",
        "\n",
        "    for i in unvisited_nodes:\n",
        "        valid_edge = False\n",
        "        iterations = 0\n",
        "        while not valid_edge and iterations < 250:\n",
        "            iterations += 1\n",
        "            m = rd.randint(0, n - 1)\n",
        "            if is_valid_edge(generated_edges, m, i):\n",
        "                valid_edge = True\n",
        "                edge = (m, i)\n",
        "                edge_with_weight = (m, i, rd.randint(1, 100)) # 1 y 100 corresponde a los límites de los pesos, puede cambiarlos.\n",
        "                graph.append(edge_with_weight)\n",
        "                generated_edges[edge] = edge\n",
        "\n",
        "        if iterations >= 250:\n",
        "            return instance_generator_dijk(n)\n",
        "\n",
        "    return graph, graph[0][0]\n",
        "\n",
        "def listT_to_matrix(graph, V):\n",
        "    edges = len(graph)\n",
        "    newGraph = [[0 for i in range(V)] for j in range(V)]\n",
        "\n",
        "    for node in range(edges):\n",
        "        for (x, y, peso) in graph:\n",
        "            newGraph[x][y] = peso\n",
        "\n",
        "    return newGraph\n",
        "\n",
        "def minDistance(V, dist, visited):\n",
        "    min = maxsize\n",
        "    min_index = 0\n",
        "\n",
        "    for u in range(V):\n",
        "        if dist[u] < min and visited[u] == False:\n",
        "            min = dist[u]\n",
        "            min_index = u\n",
        "    \n",
        "    return min_index"
      ]
    },
    {
      "cell_type": "code",
      "execution_count": 108,
      "metadata": {},
      "outputs": [],
      "source": [
        "def bellmanFord(graph, V, E, src, visualize = False, verbose = False):\n",
        "\tif verbose:\n",
        "\t\tprint(\"-------------------------\")\n",
        "\t\tprint(\"Grafo ingresado: \", graph)\n",
        "\t\tprint(\"Nodos: \", E)\n",
        "\t\tprint(\"Vértices: \", V)\n",
        "\t\tprint(\"Nodo Inicial: \", src)\n",
        "\t\tprint(\"-------------------------\")\n",
        "\n",
        "\tdis = [maxsize] * V\n",
        "\tdis[src] = 0\n",
        "\n",
        "\tif verbose: \n",
        "\t\tprint(\"Recorremos desde el nodo inicial a sus nodos adyacentes\\n\")\n",
        "\tfor i in range(V - 1):\n",
        "\t\tif verbose:\n",
        "\t\t\tprint(\"Nodo Actual: \",i)\n",
        "\t\tfor j in range(E):\n",
        "\t\t\tif verbose:\n",
        "\t\t\t\tprint(\"Verificamos la distancia entre nodos,\", dis[graph[j][0]],\"y\", graph[j][2],\", será menor a\", dis[graph[j][1]], \"?\")\n",
        "\t\t\t\tif dis[graph[j][0]] + graph[j][2] < dis[graph[j][1]]:\n",
        "\t\t\t\t\tprint(\"Ya que es menor, realizaremos relajación de nodos.\")\n",
        "\t\t\t\tprint(\"\")\n",
        "\t\t\n",
        "\t\t\tif dis[graph[j][0]] + graph[j][2] < dis[graph[j][1]]:\n",
        "\t\t\t\tdis[graph[j][1]] = dis[graph[j][0]] + graph[j][2]\n",
        "\t\tif verbose:\n",
        "\t\t\tprint(\"-------------------------\")\n",
        "\t\n",
        "\tfor i in range(E):\n",
        "\t\tx = graph[i][0]\n",
        "\t\ty = graph[i][1]\n",
        "\t\tweight = graph[i][2]\n",
        "\t\tif dis[x] != maxsize and dis[x] + weight < dis[y]:\n",
        "\t\t\tif verbose:\n",
        "\t\t\t\tprint(\"Hay un ciclo de peso negativo en el grafo.\")\n",
        "\tif verbose:\n",
        "\t\tprint(\"Distancia desde la fuente al vértice\")\n",
        "\t\tfor i in range(V):\n",
        "\t\t\tprint(\"%d\\t\\t%d\" % (i, dis[i]))\n",
        "\t\n",
        "\tif visualize:\n",
        "\t\tgrafo = graph_to_nxdigraph(graph,V)\n",
        "\t\tpos=nx.spring_layout(grafo,20)\n",
        "\t\tlabels = nx.get_edge_attributes(grafo, \"weight\")\n",
        "\t\tnx.draw_networkx_edge_labels(graph,pos,edge_labels=labels,font_size=14)\n",
        "\t\tnx.draw(grafo,pos, with_labels=True, node_size=800, font_color=\"white\", font_size=14, font_weight=\"black\", width=2.0, edge_color=\"black\", node_color =\"green\")\n",
        "\n"
      ]
    },
    {
      "cell_type": "code",
      "execution_count": 102,
      "metadata": {},
      "outputs": [],
      "source": [
        "def dijkstra(graph, V ,src, verbose = False):\n",
        "  if verbose:\n",
        "    print(\"-------------------------\")\n",
        "    print(\"Grafo ingresado: \", graph)\n",
        "    print(\"Vértices: \", V)\n",
        "    print(\"Nodo Inicial: \", src)\n",
        "    print(\"-------------------------\")\n",
        "\n",
        "  dist = [maxsize] * V\n",
        "  dist[src] = 0\n",
        "  sptSet = [False] * V\n",
        "  \n",
        "  if verbose:\n",
        "    print(\"Recorremos desde el nodo inicial a sus nodos adyacentes\\n\")\n",
        "\n",
        "  for cout in range(V):\n",
        "    x = minDistance(V, dist, sptSet)\n",
        "    if verbose:\n",
        "      print(\"Distancia mínima: \", x)\n",
        "    sptSet[x] = True\n",
        "    if verbose:\n",
        "      print(\"Marcamos el nodo como visitado\")\n",
        "\n",
        "    for y in range(V):\n",
        "      if verbose:\n",
        "        print(\"Iteramos buscando el camino más corto y lo guardamos en cada iteración\")\n",
        "        if graph[x][y] > 0 and sptSet[y] == False and dist[y] > dist[x] + graph[x][y]:\n",
        "          print(dist[y],\"=\",dist[x] + graph[x][y],\"\\n\")\n",
        "        else:\n",
        "          print(\"No se cumple nuestra condición (graph[x][y] > 0 and sptSet[y] == False and dist[y] > dist[x] + graph[x][y])\")\n",
        "          print(\"Continuamos en la siguiente iteración...\\n\")\n",
        "\n",
        "      if graph[x][y] > 0 and sptSet[y] == False and dist[y] > dist[x] + graph[x][y]:\n",
        "        dist[y] = dist[x] + graph[x][y]\n",
        "    if verbose:\n",
        "      print(\"-------------------------\")\n",
        "  if verbose:  \n",
        "    print(\"Distancia desde la fuente al vértice\")\n",
        "    for node in range(V):\n",
        "      print(node, \"\\t\", dist[node])"
      ]
    },
    {
      "cell_type": "code",
      "execution_count": 110,
      "metadata": {},
      "outputs": [
        {
          "data": {
            "image/png": "[encoded data removed]",
            "text/plain": [
              "<Figure size 432x288 with 1 Axes>"
            ]
          },
          "metadata": {},
          "output_type": "display_data"
        }
      ],
      "source": [
        "g, v = instance_generator_bell(5)\n",
        "bellmanFord(g, 5, len(g), 0, True) "
      ]
    },
    {
      "cell_type": "markdown",
      "metadata": {
        "id": "XHIw15F97CnZ"
      },
      "source": [
        "## 2.2. Descripción del algoritmo"
      ]
    },
    {
      "cell_type": "markdown",
      "metadata": {},
      "source": [
        "### 2.2.1 Algoritmo de Bellman-Ford\n",
        "\n",
        "El algoritmo de Bellman-Ford recibe un grafo dirigido $G$ de $n$ vértices y un nodo de inicio $s$. Además, cada arco del grafo posee un peso/distancia asignado. Si existen ciclos negativos, el algoritmo retorna una lista vacía, en caso contrario, el algoritmo retorna una lista con la distancia mínima entre el nodo inicial y el resto de los nodos del grafo. El algoritmo funciona de la siguiente manera:\n",
        "\n",
        "1. Creamos una lista para guardar la distancia mínima del nodo inicial $s$ al resto de nodos, inicializando los valores en $\\infty$. El nodo $s$ es una excepción, ya que siendo el nodo inicial recibe una distancia de 0.\n",
        "\n",
        "2. Se itera $V - 1$ veces hasta que no existan más cambios en las distancias o hayamos iterado por todos los arcos.\n",
        "\n",
        "3. Para cada arco $(u,v)$ se calcula la distancia de $s$ a $v$ como $\\text{dist}(s, v) = \\text{dist}(s, u) + w(u, v)$, donde $w(u, v)$ es el peso del arco $(u, v)$. Si la distancia calculada es menor a la actual, actualizamos el valor.\n",
        "\n",
        "4. Al terminar las iteraciones, hacemos una última iteracion para asegurarnos de que no existan ciclos negativos. Si existe alguno (Si recibimos una distancia menor a una previamente calculada para cualquier arco $(u,v)$), se retorna una lista vacía. En caso contrario, retornamos la lista con las distancias obtenidas."
      ]
    },
    {
      "cell_type": "markdown",
      "metadata": {},
      "source": [
        "### 2.2.2 Algoritmo de Dijkstra\n",
        "\n",
        "El algoritmo de Dijkstra recibe un grafo $G$ de $n$ vértices y un nodo de inicio $s$. Además, cada arco del grafo posee un peso/distancia **no negativo** asignado. El algoritmo retorna una lista con la distancia mínima entre el nodo inicial y el resto de los nodos del grafo. El algoritmo funciona de la siguiente manera:\n",
        "\n",
        "1. Creamos una lista para guardar la distancia mínima del nodo inicial $s$ al resto de nodos, inicializando los valores en $\\infty$. El nodo $s$ es una excepción, ya que siendo el nodo inicial recibe una distancia de 0.\n",
        "\n",
        "2. Insertamos los nodos del grafo en una cola de prioridad ordenada por distancias.\n",
        "\n",
        "3. Mientras la cola tenga elementos, obtenemos el nodo $u$ con menor distancia, lo eliminamos de la cola y lo marcamos como visitado. Si el nodo ya había sido visitado, lo eliminamos y continuamos con el siguiente.\n",
        "\n",
        "3. Calculamos la distancia a cada nodo adyacente $v$ no visitado como $\\text{dist}(s, v) = \\text{dist}(s, u) + w(u, v)$, donde $w(u, v)$ es el peso del arco $(u, v)$. Si la distancia calculada es menor a la actual, actualizamos el valor y volvemos a insertar el nodo a la cola con prioridad.\n",
        "\n",
        "4. Al terminar las iteraciones, retornamos la lista con las distancias previamente calculadas.\n"
      ]
    },
    {
      "cell_type": "markdown",
      "metadata": {
        "id": "o0BhPA6mio_M"
      },
      "source": [
        "## 2.3 Ejemplo (Bellman-Ford)"
      ]
    },
    {
      "cell_type": "markdown",
      "metadata": {
        "id": "5TZnpkE0dgta"
      },
      "source": [
        "## 2.4. Ejecución del algoritmo paso a paso (`verbose=True`)\n",
        "\n",
        "Usando la opción `verbose=True`, podemos ver lo que ocurre en cada iteración del algoritmo."
      ]
    },
    {
      "cell_type": "markdown",
      "metadata": {},
      "source": [
        "### 2.4.1 Bellman-Ford"
      ]
    },
    {
      "cell_type": "code",
      "execution_count": 103,
      "metadata": {
        "colab": {
          "base_uri": "https://localhost:8080/"
        },
        "id": "H_93UBKv8VQl",
        "outputId": "8c5f0bb0-273a-4ec0-b395-4207bb9d28ff"
      },
      "outputs": [
        {
          "name": "stdout",
          "output_type": "stream",
          "text": [
            "-------------------------\n",
            "Grafo ingresado:  [(3, 4, 92), (4, 1, 56), (1, 3, 50), (1, 2, 71), (1, 0, 88), (0, 2, 98), (2, 4, 75)]\n",
            "Nodos:  7\n",
            "Vértices:  5\n",
            "Nodo Inicial:  0\n",
            "-------------------------\n",
            "Recorremos desde el nodo inicial a sus nodos adyacentes\n",
            "\n",
            "Nodo Actual:  0\n",
            "Verificamos la distancia entre nodos, 9223372036854775807 y 92 , será menor a 9223372036854775807 ?\n",
            "\n",
            "Verificamos la distancia entre nodos, 9223372036854775807 y 56 , será menor a 9223372036854775807 ?\n",
            "\n",
            "Verificamos la distancia entre nodos, 9223372036854775807 y 50 , será menor a 9223372036854775807 ?\n",
            "\n",
            "Verificamos la distancia entre nodos, 9223372036854775807 y 71 , será menor a 9223372036854775807 ?\n",
            "\n",
            "Verificamos la distancia entre nodos, 9223372036854775807 y 88 , será menor a 0 ?\n",
            "\n",
            "Verificamos la distancia entre nodos, 0 y 98 , será menor a 9223372036854775807 ?\n",
            "Ya que es menor, realizaremos relajación de nodos.\n",
            "\n",
            "Verificamos la distancia entre nodos, 98 y 75 , será menor a 9223372036854775807 ?\n",
            "Ya que es menor, realizaremos relajación de nodos.\n",
            "\n",
            "-------------------------\n",
            "Nodo Actual:  1\n",
            "Verificamos la distancia entre nodos, 9223372036854775807 y 92 , será menor a 173 ?\n",
            "\n",
            "Verificamos la distancia entre nodos, 173 y 56 , será menor a 9223372036854775807 ?\n",
            "Ya que es menor, realizaremos relajación de nodos.\n",
            "\n",
            "Verificamos la distancia entre nodos, 229 y 50 , será menor a 9223372036854775807 ?\n",
            "Ya que es menor, realizaremos relajación de nodos.\n",
            "\n",
            "Verificamos la distancia entre nodos, 229 y 71 , será menor a 98 ?\n",
            "\n",
            "Verificamos la distancia entre nodos, 229 y 88 , será menor a 0 ?\n",
            "\n",
            "Verificamos la distancia entre nodos, 0 y 98 , será menor a 98 ?\n",
            "\n",
            "Verificamos la distancia entre nodos, 98 y 75 , será menor a 173 ?\n",
            "\n",
            "-------------------------\n",
            "Nodo Actual:  2\n",
            "Verificamos la distancia entre nodos, 279 y 92 , será menor a 173 ?\n",
            "\n",
            "Verificamos la distancia entre nodos, 173 y 56 , será menor a 229 ?\n",
            "\n",
            "Verificamos la distancia entre nodos, 229 y 50 , será menor a 279 ?\n",
            "\n",
            "Verificamos la distancia entre nodos, 229 y 71 , será menor a 98 ?\n",
            "\n",
            "Verificamos la distancia entre nodos, 229 y 88 , será menor a 0 ?\n",
            "\n",
            "Verificamos la distancia entre nodos, 0 y 98 , será menor a 98 ?\n",
            "\n",
            "Verificamos la distancia entre nodos, 98 y 75 , será menor a 173 ?\n",
            "\n",
            "-------------------------\n",
            "Nodo Actual:  3\n",
            "Verificamos la distancia entre nodos, 279 y 92 , será menor a 173 ?\n",
            "\n",
            "Verificamos la distancia entre nodos, 173 y 56 , será menor a 229 ?\n",
            "\n",
            "Verificamos la distancia entre nodos, 229 y 50 , será menor a 279 ?\n",
            "\n",
            "Verificamos la distancia entre nodos, 229 y 71 , será menor a 98 ?\n",
            "\n",
            "Verificamos la distancia entre nodos, 229 y 88 , será menor a 0 ?\n",
            "\n",
            "Verificamos la distancia entre nodos, 0 y 98 , será menor a 98 ?\n",
            "\n",
            "Verificamos la distancia entre nodos, 98 y 75 , será menor a 173 ?\n",
            "\n",
            "-------------------------\n",
            "Distancia desde la fuente al vértice\n",
            "0\t\t0\n",
            "1\t\t229\n",
            "2\t\t98\n",
            "3\t\t279\n",
            "4\t\t173\n"
          ]
        }
      ],
      "source": [
        "g, v = instance_generator_bell(5)\n",
        "bellmanFord(g, 5, len(g), 0, False, True)  "
      ]
    },
    {
      "cell_type": "markdown",
      "metadata": {},
      "source": [
        "\n",
        "### 2.4.2 Dijkstra"
      ]
    },
    {
      "cell_type": "code",
      "execution_count": 104,
      "metadata": {},
      "outputs": [
        {
          "name": "stdout",
          "output_type": "stream",
          "text": [
            "-------------------------\n",
            "Grafo ingresado:  [(2, 1, 26), (1, 0, 18), (0, 2, 1), (0, 2, 49)]\n",
            "Vértices:  3\n",
            "Nodo Inicial:  0\n",
            "-------------------------\n",
            "Recorremos desde el nodo inicial a sus nodos adyacentes\n",
            "\n",
            "Distancia mínima:  0\n",
            "Marcamos el nodo como visitado\n",
            "Iteramos buscando el camino más corto y lo guardamos en cada iteración\n",
            "No se cumple nuestra condición (graph[x][y] > 0 and sptSet[y] == False and dist[y] > dist[x] + graph[x][y])\n",
            "Continuamos en la siguiente iteración...\n",
            "\n",
            "Iteramos buscando el camino más corto y lo guardamos en cada iteración\n",
            "9223372036854775807 = 1 \n",
            "\n",
            "Iteramos buscando el camino más corto y lo guardamos en cada iteración\n",
            "9223372036854775807 = 26 \n",
            "\n",
            "-------------------------\n",
            "Distancia mínima:  1\n",
            "Marcamos el nodo como visitado\n",
            "Iteramos buscando el camino más corto y lo guardamos en cada iteración\n",
            "No se cumple nuestra condición (graph[x][y] > 0 and sptSet[y] == False and dist[y] > dist[x] + graph[x][y])\n",
            "Continuamos en la siguiente iteración...\n",
            "\n",
            "Iteramos buscando el camino más corto y lo guardamos en cada iteración\n",
            "No se cumple nuestra condición (graph[x][y] > 0 and sptSet[y] == False and dist[y] > dist[x] + graph[x][y])\n",
            "Continuamos en la siguiente iteración...\n",
            "\n",
            "Iteramos buscando el camino más corto y lo guardamos en cada iteración\n",
            "26 = 19 \n",
            "\n",
            "-------------------------\n",
            "Distancia mínima:  2\n",
            "Marcamos el nodo como visitado\n",
            "Iteramos buscando el camino más corto y lo guardamos en cada iteración\n",
            "No se cumple nuestra condición (graph[x][y] > 0 and sptSet[y] == False and dist[y] > dist[x] + graph[x][y])\n",
            "Continuamos en la siguiente iteración...\n",
            "\n",
            "Iteramos buscando el camino más corto y lo guardamos en cada iteración\n",
            "No se cumple nuestra condición (graph[x][y] > 0 and sptSet[y] == False and dist[y] > dist[x] + graph[x][y])\n",
            "Continuamos en la siguiente iteración...\n",
            "\n",
            "Iteramos buscando el camino más corto y lo guardamos en cada iteración\n",
            "No se cumple nuestra condición (graph[x][y] > 0 and sptSet[y] == False and dist[y] > dist[x] + graph[x][y])\n",
            "Continuamos en la siguiente iteración...\n",
            "\n",
            "-------------------------\n",
            "Distancia desde la fuente al vértice\n",
            "0 \t 0\n",
            "1 \t 1\n",
            "2 \t 19\n"
          ]
        }
      ],
      "source": [
        "g, v = instance_generator_dijk(3)\n",
        "grafo2 = listT_to_matrix(g, 3)\n",
        "dijkstra(g, len(grafo2), 0, True)"
      ]
    },
    {
      "cell_type": "markdown",
      "metadata": {
        "id": "NmzbekC-4NNC"
      },
      "source": [
        "# 3. Tiempo de ejecución\n",
        "\n",
        "## 3.1 Bellman-Ford\n",
        "\n",
        "### Teorema: tiempo de ejecución\n",
        "\n",
        "El algoritmo *Bellman-Ford* tiene un un tiempo de ejecución $O(V \\cdot E)$ en el caso promedio, $O(E)$ en el mejor caso y $O(V^3)$ en el peor caso.\n",
        "\n",
        "### Prueba del teorema\n",
        "\n",
        "Podemos obtener la complejidad temporal promedio del algoritmo fácilmente analizando las operaciones que este realiza:\n",
        "\n",
        "1. Inicializa la distanca para cada nodo del grafo, esto conlleva una complejidad temporal de $O(V)$.\n",
        "\n",
        "2. Las $V - 1$ iteraciones por todos los arcos del grafo conlleva una complejidad temporal $O(V \\cdot E)$\n",
        "\n",
        "3. La iteración adicional por todos los arcos para confirmar si hay ciclos negativos conlleva una complejidad temporal $O(E)$\n",
        "\n",
        "Esto significa que nuestra conplejidad temporal es $O(V) + O(V \\cdot E) + O(E) = O(V \\cdot E)$\n",
        "\n",
        "#### **Mejor caso**\n",
        "\n",
        "Nuestro mejor caso occure en el caso de que se nos entregue un grafo que se recorra de izquierda a derecha, de tal forma que la distancia a cada nodo anterior $u$ será siempre calculada correctamente, y de tal manera podramos calcular la distancia óptima a un nodo $v$ inmediatamente.\n",
        "\n",
        "En un caso así, solo necesitaremos 2 iteraciones por los arcos. Una para calcular los valores óptimos, y la de verificación de ciclos negativos. Entonces nuestra complejidad temporal sería $O(E)$.\n",
        "\n",
        "#### **Peor caso**\n",
        "\n",
        "En cambio, nuestro peor caso occure cuando nuestro grafo de entrada posea una cantidad de arcos con complejidad cuadrática. Por ejemplo, un grafo completo, los cuales con grafos en los que cada par de vértices tiene una conexión por arista.\n",
        "\n",
        "Un grafo completo no dirigido tiene una cantidad de conexiones calculada como $V(V-1)/2$, mientras que los dirigidos tienen $V(V-1)$ conexiones.\n",
        "\n",
        "Si el grafo también posee ciclos negativos, la cantidad de iteraciones será $V - 1$, lo cual nos deja con una complejidad temporal final para este caso de $O(V) \\cdot O(V^2) = O(V^3)$.\n",
        "\n",
        "\n",
        "## 3.2 Dijkstra\n",
        "\n",
        "### Teorema: tiempo de ejecución\n",
        "\n",
        "El algoritmo *Dijkstra* tiene un un tiempo de ejecución $O(E \\log{V})$ al utilizar una cola de prioridad implementada con un montículo binario.\n",
        "\n",
        "### Prueba del teorema\n",
        "\n",
        "Similarmente a la demostración previa, podemos obtener la complejidad temporal del algoritmo analizándolo paso por paso:\n",
        "\n",
        "1. Insertar los nodos a una cola de prioridad posee una complejidad temporal $O(V) \\cdot O(\\log{V}) = O(V \\log{V})$\n",
        "\n",
        "2. Obtener y eliminar los elementos menoes del montículo uno por uno posee una complejidad temporal $O(V) \\cdot O(\\log{V}) = O(V \\log{V})$\n",
        "\n",
        "3. Obtener los nodos adyacentes de cada nodo significa que debemos pasar por todos sus arcos. Entonces, calcular la distancia a todos los nodos adyacentes y volver a insertarlos al montículo posee un tiempo de ejecución $O(E) \\cdot O(\\log{V}) = O(E \\log{V})$.\n",
        "\n",
        "Por el análisis previo, podemos decir que el algoritmo posee una complejidad temporal de:\n",
        "\n",
        "$O(V \\log{V}) + O(V \\log{V}) + O(E \\log{V}) = O(E \\log{V})$"
      ]
    },
    {
      "cell_type": "markdown",
      "metadata": {
        "id": "-ifxrrqlC4Hc"
      },
      "source": [
        "# 4. Correctitud (Bellman-Ford)\n",
        "\n",
        "\n",
        "## Teorema: Correctitud del algoritmo Bellman-Ford\n",
        "\n",
        "El algoritmo *Bellman-Ford* recibe un grafo en forma de lista, su cantidad de nodos, arcos y un nodo $s$ que se usará como nodo fuente y retorna una lista con las distancias de los caminos más cortos desde $s$ hasta cada otro nodo del grafo.\n",
        "\n",
        "\n",
        "## **Prueba del Teorema**\n",
        "\n",
        "Para probar el teorema anterior, utilizaremos inducción matemática basándose en la siguiente hipótesis.\n",
        "\n",
        "\"En la i-ésima iteración del algoritmo, la distancia de $s$ a cada nodo $v$ separado como máximo por $i$ arcos es igual a la distancia del camino más corto.\"\n",
        "\n",
        "##### **Caso base ($n = 1$)**\n",
        "\n",
        "Si el grafo ingresado sólo posee un único nodo, entonces la lista de distancias retornadas también tendrá un único valor, el cuál será igual a 0, ya que la distancia del nodo fuente  𝑠  a si mismo, es igual a 0.\n",
        "\n",
        "##### **Caso inductivo ($n > 1$)**\n",
        "\n",
        "Al comienzo de la iteración $i + 1$, la distancia actual de $s$ a $v$, corresponde a la distancia del camino más corto con máximo $i$ arcos. Sin embargo, al considerar un arco adicional, podría existir un nuevo valor que minimice esta distancia. Por lo tanto, existen dos casos posibles:\n",
        "\n",
        "El camino más corto de $s$ a $v$ está formado por $i$ arcos o menos. En este caso, ningún camino de $s$ a $v$ formado exactamente por $i + 1$ arcos minimizará la distancia, por lo tanto, se mantiene el valor de la iteración anterior.\n",
        "\n",
        "El camino más corto de $s$ a $v$ está formado exactamente por $i + 1$ arcos. Para este caso, consideremos un nodo $w$ predecesor de $v$, tal que el camino de $s$ a $w$ está formado por $i$ arcos. Por inducción, sabemos que la distancia al nodo $w$ es óptima, luego, al sumar este valor con el peso del arco $(w, v)$ se obtendrá una nueva distancia para $v$. Como en cada iteración se recorren todos los arcos del grafo, sabemos que uno de estos arcos $(w, v)$ será el que minimice la distancia a $v$.\n",
        "\n",
        "##### **Correctitud**\n",
        "\n",
        "Finalmente, como el caso base y paso inductivo son correctos, y sabiedo que la sub-estructura óptima del problema permite saber que todos los caminos almacenados serán los más cortos, se concluye que el teorema de correctitud del algoritmo es correcto, por lo que el algoritmo también lo es."
      ]
    },
    {
      "cell_type": "markdown",
      "metadata": {
        "id": "2hYUM_9OHF38"
      },
      "source": [
        "# 5. Experimentos\n",
        "\n",
        "## 5.1 Bellman-Ford (tiempo de ejecución)\n",
        "\n",
        "A continuación realizaremos experimentos para el algoritmo Bellman-Ford donde calcularemos su tiempo de ejecución en un intervalo de valores desde el 5 hasta el 50."
      ]
    },
    {
      "cell_type": "code",
      "execution_count": 105,
      "metadata": {
        "colab": {
          "base_uri": "https://localhost:8080/",
          "height": 279
        },
        "id": "LxKv6b1WE-t8",
        "outputId": "a3876ab3-2c20-4dce-dbff-a12396464a9b"
      },
      "outputs": [
        {
          "data": {
            "image/png": "[encoded data removed]",
            "text/plain": [
              "<Figure size 432x288 with 1 Axes>"
            ]
          },
          "metadata": {
            "needs_background": "light"
          },
          "output_type": "display_data"
        }
      ],
      "source": [
        "x=[]; y=[];\n",
        "\n",
        "for n in range(5,50):\n",
        "  g,a=instance_generator_bell(n)\n",
        "  t = repeat(setup=\"from __main__ import bellmanFord\", stmt=f\"bellmanFord({g},{n}, {len(g)},{0})\", repeat=1, number=10)\n",
        "  x.append(n)\n",
        "  y.append(t)\n",
        "\n",
        "plt.plot(x,y)\n",
        "plt.legend([\"BellmanFord\"])\n",
        "plt.xlabel('Tamaño del grafo')\n",
        "plt.ylabel('Tiempo en ms')\n",
        "plt.show()"
      ]
    },
    {
      "cell_type": "markdown",
      "metadata": {},
      "source": [
        "### Análisis de resultados\n",
        "\n",
        "Podemos apreciar en el gráfico previo que esta sigue una forma similar a la previamente explicada (esta siendo $O(V \\cdot E)$) ya que usualmente la cantidad de arcos y vértices son iguales, que viene siendo lo mismo que $v \\cdot v$ (una forma exponencial). Entonces podemos confirmar que los resultados son similares a los teóricos."
      ]
    },
    {
      "cell_type": "markdown",
      "metadata": {},
      "source": [
        "## 5.2 Bellman-Ford vs Dijkstra (Tiempo de Ejecución)\n",
        "\n",
        "A continuación se muestra un gráfico en el que se comparan los tiempos de ejecución de los algoritmos de Bellman-Ford y Dijkstra para tamaños de problemas con n ∈ [5, 50].\n",
        "\n"
      ]
    },
    {
      "cell_type": "code",
      "execution_count": 106,
      "metadata": {},
      "outputs": [
        {
          "data": {
            "image/png": "[encoded data removed]",
            "text/plain": [
              "<Figure size 432x288 with 1 Axes>"
            ]
          },
          "metadata": {
            "needs_background": "light"
          },
          "output_type": "display_data"
        }
      ],
      "source": [
        "x=[];\n",
        "y=[];\n",
        "z=[];\n",
        "\n",
        "for n in range(5,50):\n",
        "  g, a = instance_generator_bell(n)\n",
        "  g2, a = instance_generator_dijk(n)\n",
        "  g3 = listT_to_matrix(g2, n)\n",
        "  t = repeat(setup=\"from __main__ import bellmanFord\", stmt=f\"bellmanFord({g},{n}, {len(g)},{0})\", repeat=1, number=10)\n",
        "  k = repeat(setup=\"from __main__ import dijkstra\", stmt=f\"dijkstra({g3},{len(g3)}, {0})\", repeat=1, number=10)\n",
        "  x.append(n)\n",
        "  y.append(t)\n",
        "  z.append(k)\n",
        "plt.plot(x,y)\n",
        "plt.plot(x,z)\n",
        "\n",
        "plt.legend([\"BellmanFord\",\"Dijkstra\"])\n",
        "plt.xlabel('Tamaño del grafo')\n",
        "plt.ylabel('Tiempo en ms')\n",
        "plt.show()"
      ]
    },
    {
      "cell_type": "markdown",
      "metadata": {},
      "source": [
        "### Análisis de resultados\n",
        "\n",
        "En el previo gráfico, podemos apreciar que el algoritmo de Bellman-Ford se posiciona sobre el de Dijkstra, esto es debido a lo explicado previamente sobre la descripción de ambos algoritmos.\n",
        "\n",
        "Como el algoritmo de Dijkstra soluciona el camino más ópttimo para grafos sin arcos negativos, este tarda menos en realizar la convergencia al camino más óptimo. Bellman-Ford en contrario debe solucionar todos los caminos óptimos posibles para cada nodo **incluyendo** los que tengan arcos negativos."
      ]
    }
  ],
  "metadata": {
    "colab": {
      "authorship_tag": "ABX9TyM0ORc3ade3TKzNYfj5A315",
      "include_colab_link": true,
      "name": "BubbleSort",
      "provenance": []
    },
    "kernelspec": {
      "display_name": "Python 3.10.3 64-bit",
      "language": "python",
      "name": "python3"
    },
    "language_info": {
      "codemirror_mode": {
        "name": "ipython",
        "version": 3
      },
      "file_extension": ".py",
      "mimetype": "text/x-python",
      "name": "python",
      "nbconvert_exporter": "python",
      "pygments_lexer": "ipython3",
      "version": "3.10.3"
    },
    "vscode": {
      "interpreter": {
        "hash": "91c5405521f7dfe0cfba6df6041227d649f645edbf13a25c7854227ce3a5d840"
      }
    }
  },
  "nbformat": 4,
  "nbformat_minor": 0
}
