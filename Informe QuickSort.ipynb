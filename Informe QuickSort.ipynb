{
  "cells": [
    {
      "cell_type": "markdown",
      "metadata": {
        "id": "jT2qsbCS3Fzu"
      },
      "source": [
        "# 1. Problema de ordenamiento (QuickSort)\n",
        "\n",
        "**Entrada**: Un conjunto de n números $[a_1,a_2,...,a_n]$\n",
        "\n",
        "**Salida**: Permutación ordenada de la secuencia de entrada: $[a_1',a_2',...,a_n']$, tal que $a_1'\\leq a_2' \\leq... \\leq a_n'$.\n",
        "\n",
        "El QuickSort es un algoritmo de ordenamiento que utiliza la metodología de divide y vencerás para ordenar un arreglo de menor a mayor. A pesar de tener un peor caso teórico de $O(n^2)$, todavía ve uso gracias a su complejidad promedio $O(nlog(n))$.\n",
        "\n",
        "\n",
        "\n"
      ]
    },
    {
      "cell_type": "markdown",
      "metadata": {
        "id": "nn1Sn60L3mrJ"
      },
      "source": [
        "# 2. QuickSort y Partition\n",
        "\n",
        "El siguiente código muestra una implementación del algoritmo **QuickSort** y las funciones de **Partition**."
      ]
    },
    {
      "cell_type": "markdown",
      "metadata": {
        "id": "ye6dYlnqLNtD"
      },
      "source": [
        "## 2.1. Código"
      ]
    },
    {
      "cell_type": "code",
      "execution_count": 326,
      "metadata": {},
      "outputs": [],
      "source": [
        "import random as rd\n",
        "from termcolor import colored\n",
        "import math as mt\n",
        "import matplotlib.pyplot as plt\n",
        "import copy\n",
        "import datetime\n",
        "from timeit import repeat\n",
        "import statistics as st"
      ]
    },
    {
      "cell_type": "code",
      "execution_count": 327,
      "metadata": {},
      "outputs": [],
      "source": [
        "def partitionDer(a, low, high, comps, verbose = False):\n",
        "    # Con pivote al final\n",
        "    piv = a[high] # Pivote al final\n",
        "    i = low - 1\n",
        "    if verbose:\n",
        "        print(\"Pivote a la derecha\")\n",
        "        print(\"Arreglo:\",(colored(f\"{str(a[low:high+1])}\",\"blue\")))\n",
        "    for j in range(low, high):\n",
        "        if verbose:\n",
        "          print(\"Pivote:\", (colored(f\"{str(piv)}\",\"green\")))\n",
        "          print(\"Numero comparado con el pivote: \",(colored(f\"{str(a[j])}\",\"red\")))\n",
        "        comps += 1\n",
        "        if a[j] <= piv: # Comparacion entre el pivote y numero actual\n",
        "            if verbose:\n",
        "              print(\"Numero menor al pivote, intercambiando...\")\n",
        "            i += 1\n",
        "            a[i], a[j] = a[j], a[i] # Se intercambian los valores\n",
        "        else: \n",
        "            if verbose:\n",
        "              print(\"Numero mayor o igual al pivote, no hay cambio.\")\n",
        "    i += 1\n",
        "    a[i], a[high] = a[high], a[i] # Se cambia el pivote con la posicion i\n",
        "    return i, comps"
      ]
    },
    {
      "cell_type": "code",
      "execution_count": 328,
      "metadata": {},
      "outputs": [],
      "source": [
        "def partitionIzq(a, low, high, comps, verbose = False):\n",
        "  # Con pivote al comienzo\n",
        "  piv = a[low]\n",
        "  a[low], a[high] = a[high], a[low] # Pivote al comienzo\n",
        "  i = low - 1\n",
        "  if verbose:\n",
        "      print(\"Pivote a la izquierda\")\n",
        "      print(\"Arreglo:\",(colored(f\"{str(a[low:high+1])}\",\"blue\")))\n",
        "  for j in range(low, high):\n",
        "      if verbose:\n",
        "        print(\"Pivote:\", (colored(f\"{str(piv)}\",\"green\")),\", Numero a comparar: \",(colored(f\"{str(a[j])}\",\"red\")))\n",
        "      comps += 1\n",
        "      if a[j] <= piv: # Comparacion entre el pivote y numero actual\n",
        "          if verbose:\n",
        "            print(\"Numero menor al pivote, intercambiando...\")\n",
        "          i += 1\n",
        "          a[i], a[j] = a[j], a[i] # Se intercambian los valores\n",
        "      else: \n",
        "          if verbose:\n",
        "            print(\"Numero mayor o igual al pivote, no hay cambio.\")\n",
        "  i += 1\n",
        "  a[i], a[high] = a[high], a[i] # Se cambia el pivote con la posicion i\n",
        "  return i, comps "
      ]
    },
    {
      "cell_type": "code",
      "execution_count": 329,
      "metadata": {},
      "outputs": [],
      "source": [
        "#Codigo Partition para cuando el pivote sea la mediana de tres numeros aleatorios.\n",
        "\n",
        "def partitionMed(a, low, high, comps, verbose = False):\n",
        "  # Pivote de mediana de tres\n",
        "  b, c = [], []\n",
        "  for j in range(0,3):\n",
        "    b.append(rd.randint(low,high))\n",
        "    c.append(a[b[j]])\n",
        "  mediana = st.median(c)\n",
        "  \n",
        "  for j in (b):\n",
        "    if mediana == a[j]:\n",
        "      a[j], a[high] = a[high], a[j]\n",
        "\n",
        "  piv = a[high]\n",
        "  i = low - 1\n",
        "  if verbose:\n",
        "      print(\"Pivote de mediana de tres\")\n",
        "      print(\"Arreglo:\",(colored(f\"{str(a[low:high+1])}\",\"blue\")))\n",
        "\n",
        "  for j in range (low, high):\n",
        "    if verbose:\n",
        "        print(\"Pivote:\", (colored(f\"{str(piv)}\",\"green\")),\", Numero a comparar: \",(colored(f\"{str(a[j])}\",\"red\")))\n",
        "    comps += 1\n",
        "    if a[j] <= piv:  #Numero con el que se compara el pivote.\n",
        "      if verbose:\n",
        "          print(\"Numero menor al pivote, intercambiando...\")\n",
        "      i += 1\n",
        "      a[i], a[j] = a[j], a[i] #Debido a que el numero es menor al pivote de realiza un cambio de la posicion i con la j y se aumentan ambos indices.\n",
        "    else: \n",
        "        if verbose:\n",
        "          print(\"Numero mayor o igual al pivote, no hay cambio.\")\n",
        "  i += 1\n",
        "  a[i], a[high] = a[high], a[i]  #Al terminar la busqueda el pivote se cambia por la posicion i + 1.\n",
        "  return i, comps"
      ]
    },
    {
      "cell_type": "code",
      "execution_count": 330,
      "metadata": {},
      "outputs": [],
      "source": [
        "def quickSort(a, low, high, posPiv, verbose = False, comps = 0):\n",
        "    if low < high:\n",
        "        match posPiv:\n",
        "            case 1:\n",
        "                piv, comps = partitionIzq(a, low, high, comps, verbose)\n",
        "            case 2:\n",
        "                piv, comps = partitionMed(a, low, high, comps, verbose)\n",
        "            case default:\n",
        "                piv, comps = partitionDer(a, low, high, comps, verbose)\n",
        "        comps = quickSort(a, low, piv - 1, posPiv, verbose, comps)\n",
        "        comps = quickSort(a, piv + 1, high, posPiv, verbose, comps)\n",
        "    return comps"
      ]
    },
    {
      "cell_type": "code",
      "execution_count": 331,
      "metadata": {},
      "outputs": [
        {
          "name": "stdout",
          "output_type": "stream",
          "text": [
            "Arreglo original:  [5, 14, 12, 13, 2, 8, 1, 7, 6, 4]\n",
            "Arreglo ordenado: [1, 2, 4, 5, 6, 7, 8, 12, 13, 14]\n",
            "Comparaciones: 19\n"
          ]
        }
      ],
      "source": [
        "array = rd.sample(range(1,15), 10)\n",
        "print(\"Arreglo original: \", array)\n",
        "comps = quickSort(array, 0, len(array) - 1, rd.randrange(1,4))\n",
        "print(\"Arreglo ordenado:\", array)\n",
        "print(\"Comparaciones:\", comps)"
      ]
    },
    {
      "cell_type": "markdown",
      "metadata": {
        "id": "XHIw15F97CnZ"
      },
      "source": [
        "## 2.2. Descripción del algoritmo\n",
        "\n",
        "El algoritmo recibe como entrada un arreglo $a$ y retorna un arreglo ordenado de menor a mayor.\n",
        "\n",
        "1. La funcion partition ordena el arreglo, ordenando los numeros menores al pivote a la izquierda y mayores que el de la derecha.\n",
        "\n",
        "2. El previo proceso nos deja un arreglo que procedemos a partir por la mitad.\n",
        "\n",
        "3. Llamamos a la funcion quickSort recursivamente para ordenar el arreglo."
      ]
    },
    {
      "cell_type": "markdown",
      "metadata": {
        "id": "o0BhPA6mio_M"
      },
      "source": [
        "## 2.3. Ejemplo\n",
        "\n",
        "Por ejemplo, tenemos un arreglo:\n",
        "\n",
        "$a=[6,8,2,1,9,6,5]$\n",
        "\n",
        "Como recordatorio, si el numero es menor al pivote, sera cambiado por la posicion de $i$, si no, solo $j$ aumenta.\n",
        "\n",
        "Para el ejemplo, utilizaremos como pivote la ultima posicion del arreglo, o sea, el numero $5$:\n",
        "\n",
        "$a=[6,8,2,1,9,7,5]$\n",
        "\n",
        "$i = a[-1], j = a[0]$\n",
        "\n",
        "Como $6 < 5$ y $8 < 5$, no hay cambios y solo aumenta $j$.:\n",
        "\n",
        "$a=[6,8,2,1,9,7,5]$\n",
        "\n",
        "$i = a[-1], j = a[1]$\n",
        "\n",
        "$2 < 5$, entonces cambiamos $a[i+1]$ con $a[j]$:\n",
        "\n",
        "$a=[2,8,6,1,9,7,5]$\n",
        "\n",
        "$i = a[0], j = a[2]$\n",
        "\n",
        "$1 < 5$, entonces cambiamos de nuevo $a[i+1]$ con $a[j]$:\n",
        "\n",
        "$a=[2,1,6,8,9,7,5]$\n",
        "\n",
        "$i = a[1], j = a[3]$\n",
        "\n",
        "$9 > 5$, entonces no hay cambio:\n",
        "\n",
        "$a=[2,1,6,8,9,7,5]$\n",
        "\n",
        "$i = a[1], j = a[4]$\n",
        "\n",
        "$7 > 5$, entonces no hay cambio y como no hay mas comparaciones a hacer, el pivote es insertado en $a[i+1]$:\n",
        "\n",
        "$a=[2,1,5,6,8,9,7]$\n",
        "\n",
        "Con esto, tenemos los $x < piv$ a la izquierda y $x > piv$ a la derecha.\n",
        "\n",
        "Utilizamos QuickSort recursivamente para ordenar los numeros de la izquierda y derecha. Asi ordenando el arreglo.\n",
        "\n",
        "$a=[1,2,5,6,7,8,9]$"
      ]
    },
    {
      "cell_type": "markdown",
      "metadata": {
        "id": "5TZnpkE0dgta"
      },
      "source": [
        "## 2.4. Ejecución del algoritmo paso a paso (`verbose=True`)\n",
        "\n",
        "Usando la opción `verbose=True`, podemos ver lo que ocurre en cada iteración del algoritmo."
      ]
    },
    {
      "cell_type": "code",
      "execution_count": 332,
      "metadata": {
        "colab": {
          "base_uri": "https://localhost:8080/"
        },
        "id": "H_93UBKv8VQl",
        "outputId": "8c5f0bb0-273a-4ec0-b395-4207bb9d28ff"
      },
      "outputs": [
        {
          "name": "stdout",
          "output_type": "stream",
          "text": [
            "Pivote de mediana de tres\n",
            "Arreglo: \u001b[34m[21, 47, 76, 87, 5]\u001b[0m\n",
            "Pivote: \u001b[32m5\u001b[0m , Numero a comparar:  \u001b[31m21\u001b[0m\n",
            "Numero mayor o igual al pivote, no hay cambio.\n",
            "Pivote: \u001b[32m5\u001b[0m , Numero a comparar:  \u001b[31m47\u001b[0m\n",
            "Numero mayor o igual al pivote, no hay cambio.\n",
            "Pivote: \u001b[32m5\u001b[0m , Numero a comparar:  \u001b[31m76\u001b[0m\n",
            "Numero mayor o igual al pivote, no hay cambio.\n",
            "Pivote: \u001b[32m5\u001b[0m , Numero a comparar:  \u001b[31m87\u001b[0m\n",
            "Numero mayor o igual al pivote, no hay cambio.\n",
            "Pivote de mediana de tres\n",
            "Arreglo: \u001b[34m[21, 76, 87, 47]\u001b[0m\n",
            "Pivote: \u001b[32m47\u001b[0m , Numero a comparar:  \u001b[31m21\u001b[0m\n",
            "Numero menor al pivote, intercambiando...\n",
            "Pivote: \u001b[32m47\u001b[0m , Numero a comparar:  \u001b[31m76\u001b[0m\n",
            "Numero mayor o igual al pivote, no hay cambio.\n",
            "Pivote: \u001b[32m47\u001b[0m , Numero a comparar:  \u001b[31m87\u001b[0m\n",
            "Numero mayor o igual al pivote, no hay cambio.\n",
            "Pivote de mediana de tres\n",
            "Arreglo: \u001b[34m[87, 76]\u001b[0m\n",
            "Pivote: \u001b[32m76\u001b[0m , Numero a comparar:  \u001b[31m87\u001b[0m\n",
            "Numero mayor o igual al pivote, no hay cambio.\n",
            "# Comparaciones:  8\n"
          ]
        }
      ],
      "source": [
        "a = rd.sample(range(1, 100), 5)\n",
        "comps = quickSort(a, 0, len(a) - 1, rd.randrange(1,4), True)\n",
        "print(\"# Comparaciones: \", comps)"
      ]
    },
    {
      "cell_type": "markdown",
      "metadata": {
        "id": "GXXxcYI38GFB"
      },
      "source": [
        "Elegimos al azar al inicio de la funcion cual pivote utilizar.\n",
        "\n",
        "En cada iteración, los arreglos destacados en azul son los arreglos de entrada al partition, y destacamos el pivote actual en verde, y el numero siendo comparado a este en rojo."
      ]
    },
    {
      "cell_type": "markdown",
      "metadata": {
        "id": "NmzbekC-4NNC"
      },
      "source": [
        "# 3. Tiempo de ejecución\n",
        "\n",
        "### **Teorema (Tiempo de ejecución).**\n",
        "\n",
        "*El **QuickSort** tiene un **tiempo de ejecución de** $O(n log (n))$ en el **mejor** caso y en el caso **promedio**, pero tiene un **peor** caso $O(n^2)$.*\n",
        "\n",
        "### **Arbol de recurrencia**\n",
        "\n",
        "Para calcular el tiempo de ejecución del QuickSort, debemos recordar que este se basa en la metodología divide y vencerás, entonces podemos plantearlo similarmente al MergeSort:\n",
        "\n",
        "> Para el mejor caso:\n",
        ">  $T(n) = \\begin{cases}\n",
        "  c  & n \\text{ is small} \\\\\n",
        "  2 T(n/2) + c \\cdot n & \\text{ otherwise}\n",
        "\\end{cases}$\n",
        "\n",
        "> Para el caso promedio: \n",
        ">  $T(n) = \\begin{cases} \n",
        "  c  & n \\text{ is small} \\\\\n",
        "  2 T(3n/4) + c \\cdot n & \\text{ otherwise}\n",
        "  \\end{cases}$\n",
        "\n",
        "> Para el peor caso: \n",
        ">  $T(n) = \\begin{cases}\n",
        "  c & n \\text{ is small} \\\\\n",
        "  T(0) + T(n - 1) + c \\cdot n & \\text{ otherwise}\n",
        "  \\end{cases}$\n",
        "\n",
        "Con estas funciones, podemos crear arboles de recurrencias.\n",
        "\n",
        "## Mejor caso:\n",
        "\n",
        "La funcion recibira el arreglo completo y luego sera dividido en 2 con las llamadas recursivas hasta conseguir el siguiente arbol:\n",
        "\n"
      ]
    },
    {
      "cell_type": "markdown",
      "metadata": {
        "id": "KlqGq_7tNo40"
      },
      "source": [
        "![image](https://cdn.kastatic.org/ka-perseus-images/5fcbebf66560d8fc490de2a0d8a0e5b1d65c5c54.png)"
      ]
    },
    {
      "cell_type": "markdown",
      "metadata": {
        "id": "2HQH2ltkBUbq"
      },
      "source": [
        "Analizando el árbol, la suma de los tiempos de ejecución es: $cn log_2$, lo cual intrepretamos como $O(n log (n))$\n",
        "\n",
        "## Caso promedio:\n",
        "\n",
        "Se considera este caso ya que no siempre es fácil conseguir la mediana entre datos para llegar al mejor caso. Por esto, consideraremos el caso promedio como conseguir datos que dividan el arreglo en una razón 3:1\n",
        "\n",
        "Con la función definida anteriormente para el caso promedio, podemos armar un árbol de la misma forma del caso anterior.\n",
        "\n",
        "![image.png](https://i.imgur.com/dDYEOYG.png)\n",
        "\n",
        "Aqui podemos apreciar que al sumar todas sus operaciones quedamos con la aproximación $cn \\cdot log_\\frac{4}{3}n$, o en otras palabras, $O(nlogn)$.\n",
        "\n",
        "## Peor caso:\n",
        "\n",
        "El peor caso ocurre cuando el pivote toma el mayor valor del arreglo para comenzar a ordenar. Para el ejemplo, consideraremos que el pivote esta al final de un arreglo ordenado.\n",
        "\n",
        "Con la funcion previamente definida, nuestro árbol quedaría así:\n",
        "\n",
        "![image.png](https://i.imgur.com/I8KpiBv.png)\n",
        "\n",
        "Con lo que podemos ver en el árbol, la suma de las operaciones nos entrega:\n",
        "\n",
        "$cn+c(n-1)+c(n-2)+...+2c = c(\\sum\\limits_{i=0}^{n}(n-i)-1)$\n",
        "\n",
        "o simplificado:\n",
        "\n",
        "$c(\\frac{n(n+1)}{2}-1)$, que se interpreta como $O(n^2)$"
      ]
    },
    {
      "cell_type": "markdown",
      "metadata": {},
      "source": [
        "### **Comprobación con código**\n",
        "Ahora que sabemos como funciona el algoritmo, podemos comprobar si nuestro teorema esta correcto al ejecutar el código previamente escrito para el QuickSort en un rango de valores para que veamos que nuestro teorema esta correcto."
      ]
    },
    {
      "cell_type": "code",
      "execution_count": 333,
      "metadata": {},
      "outputs": [
        {
          "name": "stdout",
          "output_type": "stream",
          "text": [
            "Caso Promedio 1 : [39]\n",
            "Comparaciones/Divisiones = 0 , n(log2(n)) = 0.0 \n",
            "\n",
            "Peor Caso 1 : [39]\n",
            "Comparaciones/Divisiones = 0 , n(log2(n)) = 0 \n",
            "\n",
            "Caso Promedio 2 : [11, 55]\n",
            "Comparaciones/Divisiones = 1 , n(log2(n)) = 2.0 \n",
            "\n",
            "Peor Caso 2 : [11, 55]\n",
            "Comparaciones/Divisiones = 1 , n(log2(n)) = 2 \n",
            "\n",
            "Caso Promedio 3 : [3, 66, 76]\n",
            "Comparaciones/Divisiones = 2 , n(log2(n)) = 4.0 \n",
            "\n",
            "Peor Caso 3 : [3, 66, 76]\n",
            "Comparaciones/Divisiones = 3 , n(log2(n)) = 5 \n",
            "\n",
            "Caso Promedio 4 : [3, 55, 89, 91]\n",
            "Comparaciones/Divisiones = 5 , n(log2(n)) = 8.0 \n",
            "\n",
            "Peor Caso 4 : [3, 55, 89, 91]\n",
            "Comparaciones/Divisiones = 6 , n(log2(n)) = 9 \n",
            "\n",
            "Caso Promedio 5 : [4, 29, 32, 56, 73]\n",
            "Comparaciones/Divisiones = 6 , n(log2(n)) = 11.0 \n",
            "\n",
            "Peor Caso 5 : [4, 29, 32, 56, 73]\n",
            "Comparaciones/Divisiones = 10 , n(log2(n)) = 14 \n",
            "\n",
            "Caso Promedio 6 : [11, 39, 54, 79, 80, 86]\n",
            "Comparaciones/Divisiones = 9 , n(log2(n)) = 15.0 \n",
            "\n",
            "Peor Caso 6 : [11, 39, 54, 79, 80, 86]\n",
            "Comparaciones/Divisiones = 15 , n(log2(n)) = 20 \n",
            "\n",
            "Caso Promedio 7 : [13, 42, 61, 81, 84, 88, 92]\n",
            "Comparaciones/Divisiones = 15 , n(log2(n)) = 19.0 \n",
            "\n",
            "Peor Caso 7 : [13, 42, 61, 81, 84, 88, 92]\n",
            "Comparaciones/Divisiones = 21 , n(log2(n)) = 27 \n",
            "\n",
            "Caso Promedio 8 : [17, 51, 55, 71, 77, 79, 88, 90]\n",
            "Comparaciones/Divisiones = 19 , n(log2(n)) = 24.0 \n",
            "\n",
            "Peor Caso 8 : [17, 51, 55, 71, 77, 79, 88, 90]\n",
            "Comparaciones/Divisiones = 28 , n(log2(n)) = 35 \n",
            "\n",
            "Caso Promedio 9 : [6, 22, 38, 47, 66, 67, 68, 75, 77]\n",
            "Comparaciones/Divisiones = 18 , n(log2(n)) = 28.0 \n",
            "\n",
            "Peor Caso 9 : [6, 22, 38, 47, 66, 67, 68, 75, 77]\n",
            "Comparaciones/Divisiones = 36 , n(log2(n)) = 44 \n",
            "\n",
            "Caso Promedio 10 : [4, 10, 44, 45, 61, 64, 77, 82, 84, 97]\n",
            "Comparaciones/Divisiones = 23 , n(log2(n)) = 33.0 \n",
            "\n",
            "Peor Caso 10 : [4, 10, 44, 45, 61, 64, 77, 82, 84, 97]\n",
            "Comparaciones/Divisiones = 45 , n(log2(n)) = 54 \n",
            "\n",
            "Caso Promedio 11 : [7, 15, 24, 25, 27, 31, 33, 39, 43, 94, 96]\n",
            "Comparaciones/Divisiones = 27 , n(log2(n)) = 38.0 \n",
            "\n",
            "Peor Caso 11 : [7, 15, 24, 25, 27, 31, 33, 39, 43, 94, 96]\n",
            "Comparaciones/Divisiones = 55 , n(log2(n)) = 65 \n",
            "\n",
            "Caso Promedio 12 : [5, 7, 11, 17, 24, 26, 34, 35, 37, 40, 58, 73]\n",
            "Comparaciones/Divisiones = 29 , n(log2(n)) = 43.0 \n",
            "\n",
            "Peor Caso 12 : [5, 7, 11, 17, 24, 26, 34, 35, 37, 40, 58, 73]\n",
            "Comparaciones/Divisiones = 66 , n(log2(n)) = 77 \n",
            "\n",
            "Caso Promedio 13 : [6, 16, 26, 28, 29, 32, 46, 51, 53, 54, 83, 87, 89]\n",
            "Comparaciones/Divisiones = 32 , n(log2(n)) = 48.0 \n",
            "\n",
            "Peor Caso 13 : [6, 16, 26, 28, 29, 32, 46, 51, 53, 54, 83, 87, 89]\n",
            "Comparaciones/Divisiones = 78 , n(log2(n)) = 90 \n",
            "\n",
            "Caso Promedio 14 : [20, 21, 25, 30, 53, 54, 62, 67, 76, 77, 82, 84, 97, 98]\n",
            "Comparaciones/Divisiones = 46 , n(log2(n)) = 53.0 \n",
            "\n",
            "Peor Caso 14 : [20, 21, 25, 30, 53, 54, 62, 67, 76, 77, 82, 84, 97, 98]\n",
            "Comparaciones/Divisiones = 91 , n(log2(n)) = 104 \n",
            "\n"
          ]
        }
      ],
      "source": [
        "for n in range(1,15):\n",
        "  a = rd.sample(range(1, 100), n)\n",
        "  b = [i for i in range(1, n + 1)]\n",
        "  comps1 = quickSort(a, 0, len(a) - 1, 1, False)\n",
        "  comps2 = quickSort(b, 0, len(b) - 1, 1, False)\n",
        "\n",
        "  print(\"Caso Promedio\",n,\":\",a)\n",
        "  print(\"Comparaciones/Divisiones =\", comps1, \", n(log2(n)) =\", (n * mt.log2(n)) // 1, \"\\n\")\n",
        "  print(\"Peor Caso\",n,\":\",a)\n",
        "  print(\"Comparaciones/Divisiones =\", comps2, \", n(log2(n)) =\", ((n * (n + 1)) // 2) - 1, \"\\n\")\n"
      ]
    },
    {
      "cell_type": "markdown",
      "metadata": {
        "id": "-ifxrrqlC4Hc"
      },
      "source": [
        "# 4. Correctitud\n",
        "\n",
        "### **Teorema (Correctitud)**\n",
        "\n",
        "*El algoritmo **QuickSort** recibe un arreglo: $[a_1',a_2',...,a_n']$, y retorna los mismos elementos del arreglo de entrada ordenados de menor a mayor, es decir,* $a_1'\\leq a_2' \\leq... \\leq a_n'$.\n",
        "\n",
        "## Prueba del Teorema\n",
        "\n",
        "Como el QuickSort es un arreglo recursivo, debemos utilizar inducción matemática.\n",
        "\n",
        "##### **Caso base (n = 1)**\n",
        "\n",
        "Cuando el arreglo es de longitud 1, el algoritmo termina automáticamente ya que el algoritmo chequea si $low < high$, como es de un elemento, ya esta ordenado.\n",
        "\n",
        "##### **Caso inductivo (n > 1)**\n",
        "\n",
        "Asumimos que el QuickSort es correcto para casos $m < n$. Cuando la funcion recibe un arreglo de tamaño $n > 1$ esta encuentra un pivote y procesa el arreglo de forma recursiva, de forma que reorganiza el arreglo desde el inicio hasta antes del pivote, y desde el pivote hasta el final.\n",
        "Como el algoritmo ordena las secciones del arreglo a pesar de tener tamaño $m < n$, podemos asumir que el caso inductivo es verdadero.\n",
        "\n",
        "##### **Correctitud**\n",
        "\n",
        "Como los previos dos pasos son correctos, y sabiendo que la funcion \"partition\" reorganiza los arreglos que reciba, podemos concluir que el teorema de correctitud es correcto para nuestro algoritmo."
      ]
    },
    {
      "cell_type": "markdown",
      "metadata": {
        "id": "2hYUM_9OHF38"
      },
      "source": [
        "# 5. Experimentos\n",
        "\n",
        "## 5.1. Número de comparaciones\n",
        "\n",
        "A continuación se muestra gráficamente una comparación entre:\n",
        "\n",
        "* Cantidad de comparaciones del peor caso calculadas matemáticamente\n",
        "* Cantidad de comparaciones del mejor caso calculadas matemáticamente\n",
        "* Cantidad de comparaciones realizadas experimentalmente para entradas aleatorias\n",
        "\n",
        "para tamaños de problemas con $n \\in [5,100]$.\n",
        "\n",
        "Los arreglos de entrada son generados aleatoriamente haciendo un sampling de un conjunto de números entre 1 y 100, excepto para el peor caso, en el que será un arreglo ordenado desde 0 hasta $n-1$"
      ]
    },
    {
      "cell_type": "code",
      "execution_count": 334,
      "metadata": {
        "colab": {
          "base_uri": "https://localhost:8080/",
          "height": 279
        },
        "id": "LxKv6b1WE-t8",
        "outputId": "a3876ab3-2c20-4dce-dbff-a12396464a9b"
      },
      "outputs": [
        {
          "data": {
            "image/png": "[encoded data removed]",
            "text/plain": [
              "<Figure size 432x288 with 1 Axes>"
            ]
          },
          "metadata": {
            "needs_background": "light"
          },
          "output_type": "display_data"
        }
      ],
      "source": [
        "x = [n for n in range(5,60)] \n",
        "y1 = [n * mt.log2(n) for n in range(5,60)] # mejor caso\n",
        "y2 = [(n*(n+1)/2)-1 for n in range(5,60)] # peor caso\n",
        "y3 = [] # pivote media de 3 numeros\n",
        "y4 = [] # peor caso\n",
        "y5 = [] # caso promedio\n",
        "\n",
        "for n in range(5,60):\n",
        "  a = rd.sample(range(1, 100), n) # caso aleatorio\n",
        "  b = a.copy() # caso con pivote especial\n",
        "  c = [i for i in range(0,n)] # peor caso\n",
        "  cont = quickSort(b, 0, len(b) - 1, 3, False)\n",
        "  y3.append(cont)\n",
        "  cont2 = quickSort(c, 0, len(c) - 1, 1, False)\n",
        "  y4.append(cont2)\n",
        "  cont3 = quickSort(a, 0, len(a) - 1, 1, False)\n",
        "  y5.append(cont3)\n",
        "\n",
        "plt.plot(x,y1)\n",
        "plt.plot(x,y2)\n",
        "plt.plot(x,y3)\n",
        "plt.plot(x,y4)\n",
        "plt.plot(x,y5)\n",
        "plt.legend([\"Mejor Caso Teórico\", \"Peor Caso Teórico\", \"Pivote Mediana de 3\", \"Peor Caso QuickSort\", \"Caso Promedio QuickSort\"])\n",
        "\n",
        "plt.xlabel('n')\n",
        "plt.ylabel('number of operations')\n",
        "plt.show()"
      ]
    },
    {
      "cell_type": "markdown",
      "metadata": {
        "id": "0LpupLb_HnWS"
      },
      "source": [
        "### Análisis de resultados\n",
        "\n",
        "En el gráfico, podemos ver que el mejor caso teórico y el caso calculado con la media de 3 elementos aleatorios son aproximadamente iguales. Entonces podemos concluir que el caso promedio si tiene una complejidad $O(nlogn)$\n",
        "\n",
        "En el peor caso, podemos apreciar que es igual al peor caso teórico que habiamos planteado, entonces tambien confirmar el peor caso de $O(n^2)$"
      ]
    },
    {
      "cell_type": "markdown",
      "metadata": {
        "id": "5AszHwkmJIfJ"
      },
      "source": [
        "## 5.2. Número de comparaciones (Merge vs Quick)\n",
        "\n",
        "En el siguiente gráfico se grafican las comparaciones del algoritmo **QuickSort** en función del tamaño del problema para arreglos generados aleatoriamente de tamaños $n \\in [5,100]$, y se compara al mismo tiempo del algoritmo **MergeSort**.\n",
        "\n",
        "# Codigo MergeSort\n"
      ]
    },
    {
      "cell_type": "code",
      "execution_count": 335,
      "metadata": {},
      "outputs": [],
      "source": [
        "def Merge(izq, der, verbose, comps, sorts):\n",
        "  b = []\n",
        "  if verbose:\n",
        "    print(\"\\nInicio Merge...\")\n",
        "    print(\"Arreglo Izquierdo: \",colored(f\"{str(izq)}\",\"red\"))\n",
        "    print(\"Arreglo Derecho: \",colored(f\"{str(der)}\",\"blue\"),\"\\n\")\n",
        "  while True: \n",
        "    if len(izq) > 0 and len(der) > 0: # Mientras cualquiera de los arreglos tenga un largo mayor a 0 se mantendra el ciclo infinito.\n",
        "      if izq[0] < der[0]: # Si el numero de la derecha es mayor que el de la izquierda se ingresa en el nuevo arreglo y se borra del arreglo original.\n",
        "        comps += 1\n",
        "        b.append(izq[0])\n",
        "        izq.pop(0)\n",
        "      else: # Viceversa\n",
        "        comps += 1\n",
        "        b.append(der[0])\n",
        "        der.pop(0) \n",
        "    else:\n",
        "      break\n",
        "      \n",
        "  if len(izq) > 0 :# Como el ciclo cierra al terminar solo uno de los arreglos, lo que sobra del otro arreglo se inserta aqui\n",
        "    while len(izq) > 0:\n",
        "      comps += 1\n",
        "      b.append(izq[0])\n",
        "      izq.pop(0)\n",
        "  else:\n",
        "    while len(der) > 0:\n",
        "      comps += 1\n",
        "      b.append(der[0])\n",
        "      der.pop(0)\n",
        "      \n",
        "  if verbose:\n",
        "    print(\"Arreglos Combinados:\")\n",
        "    print(b, \"\\n\")\n",
        "  return b, comps, sorts\n",
        "\n",
        "\n",
        "\n",
        "def MergeSort(a, comps, sorts, verbose = False):\n",
        "  if(len(a) == 1): return a, comps, sorts # Si el arreglo recibido es de largo 1, se retorna de inmediato ya que no se puede dividir mas\n",
        "  mitad = len(a)//2\n",
        "  izq = a[0:mitad] # Se divide el arreglo en dos arreglos separados\n",
        "  der = a[mitad:]\n",
        "  sorts += 1\n",
        "  if (verbose):\n",
        "    print(\"Arreglo Actual:\")\n",
        "    print(colored(f\"{str(a)}\",\"green\"))\n",
        "    print(\"Arreglo Separado:\")\n",
        "    print(colored(f\"{str(izq)}\",\"red\"),\",\",colored(f\"{str(der)}\",\"blue\"))\n",
        "\n",
        "  izq, comps, sorts = MergeSort(izq, comps, sorts, verbose) # Se llama recursivamente a MergeSort para subdividir el arreglo si es posible\n",
        "  der, comps, sorts = MergeSort(der, comps, sorts, verbose)\n",
        "\n",
        "  return Merge(izq, der, verbose, comps, sorts) # Una vez tenemos los arreglos listos, se inicia la funcion merge.\n"
      ]
    },
    {
      "cell_type": "code",
      "execution_count": 336,
      "metadata": {
        "colab": {
          "base_uri": "https://localhost:8080/",
          "height": 280
        },
        "id": "Ffz2Id4WJPsO",
        "outputId": "c0b8cdd7-9c1f-47ec-c7d2-f54b315bc192"
      },
      "outputs": [
        {
          "data": {
            "image/png": "[encoded data removed]",
            "text/plain": [
              "<Figure size 432x288 with 1 Axes>"
            ]
          },
          "metadata": {
            "needs_background": "light"
          },
          "output_type": "display_data"
        }
      ],
      "source": [
        "x = [n for n in range(5,100)]\n",
        "y = [n * mt.log2(n) for n in range(5,100)] # Caso promedio entre ambos algoritmos\n",
        "y1 = [] # Comparaciones para QuickSort (Promedio)\n",
        "y2 = [] # Comparaciones para QuickSort (Pivote Especial)\n",
        "y3 = [] # Comparaciones para MergeSort\n",
        "\n",
        "for n in range(5,100):\n",
        "  a = rd.sample(range(1, 100), n) # Caso aleatorio\n",
        "  b = a.copy()\n",
        "  c = a.copy()\n",
        "  cont = quickSort(b, 0, len(b) - 1, 2, False)\n",
        "  y1.append(cont)\n",
        "  cont2 = quickSort(b, 0, len(b) - 1, 3, False)\n",
        "  y2.append(cont2)\n",
        "  c, comps, sorts = MergeSort(c, 0, 0)\n",
        "  y3.append(comps)\n",
        "\n",
        "plt.plot(x,y)\n",
        "plt.plot(x,y1)\n",
        "plt.plot(x,y2)\n",
        "plt.plot(x,y3)\n",
        "plt.legend([\"Caso Promedio (ambos)\", \"Caso Promedio QuickSort\", \"QuickSort Mediana de 3\", \"MergeSort\"])\n",
        "\n",
        "plt.xlabel('n')\n",
        "plt.ylabel('number of operations')\n",
        "plt.show()"
      ]
    },
    {
      "cell_type": "markdown",
      "metadata": {
        "id": "8lSmgt-vvpWB"
      },
      "source": [
        "### Análisis de resultados\n",
        "\n",
        "Podemos ver en el gráfico que al aumentar el largo del arreglo, el QuickSort con pivote al extremo del arreglo se vuelve más inestable, mientras que el MergeSort y el QuickSort con pivote de mediana de 3 son mucho mas estables.\n",
        "\n",
        "## 5.2. Tiempo de ejecución (experimental)\n",
        "\n",
        "En el siguiente gráfico se reporta el tiempo de ejecución del algoritmo **QuickSort** en función del tamaño del problema para arreglos generados aleatoriamente de tamaños $n \\in [5,500]$, y se compara al mismo tiempo del algoritmo **MergeSort**.\n"
      ]
    },
    {
      "cell_type": "code",
      "execution_count": 337,
      "metadata": {},
      "outputs": [
        {
          "data": {
            "image/png": "[encoded data removed]",
            "text/plain": [
              "<Figure size 432x288 with 1 Axes>"
            ]
          },
          "metadata": {
            "needs_background": "light"
          },
          "output_type": "display_data"
        }
      ],
      "source": [
        "x, y, y2 = [], [], []\n",
        "\n",
        "for n in range(5,500):\n",
        "\n",
        "  a = rd.sample(range(1, 1000), n)\n",
        "  b = a.copy()\n",
        "\n",
        "  #la función repeat está ejecutando 20 veces bubble_sort con el arreglo a y retorna el mejor tiepo obtenido.\n",
        "  t = repeat(setup=\"from __main__ import quickSort\", stmt=f\"quickSort({a}, {0}, {len(a) - 1}, {1})\", repeat=1, number=10)\n",
        "  t2 = repeat(setup=\"from __main__ import MergeSort\", stmt=f\"MergeSort({a}, {0}, {0})\", repeat=1, number=10)\n",
        "  x.append(n)\n",
        "  y.append(t)\n",
        "  y2.append(t2)\n",
        "\n",
        "plt.plot(x,y)\n",
        "plt.plot(x,y2)\n",
        "plt.legend([\"Quick Sort\", \"Merge Sort\"])\n",
        "\n",
        "plt.xlabel('n')\n",
        "plt.ylabel('tiempo en ms')\n",
        "plt.show()"
      ]
    },
    {
      "cell_type": "markdown",
      "metadata": {},
      "source": [
        "### Análisis de resultados\n",
        "\n",
        "Podemos ver en el gráfico que, como era de esperar, el QuickSort es más rápido y al parecer más estable que el MergeSort.\n",
        "\n",
        "Recordamos que los peaks de tiempo pueden ser debido al comportamiento errático de los procesadores o bajo cuanto uso está."
      ]
    }
  ],
  "metadata": {
    "colab": {
      "authorship_tag": "ABX9TyM0ORc3ade3TKzNYfj5A315",
      "include_colab_link": true,
      "name": "BubbleSort",
      "provenance": []
    },
    "kernelspec": {
      "display_name": "Python 3.10.3 64-bit",
      "language": "python",
      "name": "python3"
    },
    "language_info": {
      "codemirror_mode": {
        "name": "ipython",
        "version": 3
      },
      "file_extension": ".py",
      "mimetype": "text/x-python",
      "name": "python",
      "nbconvert_exporter": "python",
      "pygments_lexer": "ipython3",
      "version": "3.10.3"
    },
    "vscode": {
      "interpreter": {
        "hash": "91c5405521f7dfe0cfba6df6041227d649f645edbf13a25c7854227ce3a5d840"
      }
    }
  },
  "nbformat": 4,
  "nbformat_minor": 0
}
