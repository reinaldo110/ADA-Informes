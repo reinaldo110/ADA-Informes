{
  "cells": [
    {
      "cell_type": "markdown",
      "metadata": {
        "id": "jT2qsbCS3Fzu"
      },
      "source": [
        "# 1. Problema de ordenamiento\n",
        "\n",
        "**Entrada**: Una secuencia de n números $[a_1,a_2,...,a_n]$\n",
        "\n",
        "**Salida**: Permutación ordenada de la secuencia de entrada: $[a_1',a_2',...,a_n']$, tal que $a_1'\\leq a_2' \\leq... \\leq a_n'$.\n",
        "\n",
        "El MergeSort es un algoritmo de ordenamiento conocido por su metodología de divide y vencerás, lo que significa que divide el problema en varios subproblemas más simples para resolver el problema de ordenamiento.\n",
        "\n",
        "![image](https://i.imgur.com/cJLT1tC.png)\n",
        "\n"
      ]
    },
    {
      "cell_type": "markdown",
      "metadata": {
        "id": "nn1Sn60L3mrJ"
      },
      "source": [
        "# 2. MergeSort\n",
        "\n",
        "El siguiente código muestra una implementación del algoritmo **MergeSort**."
      ]
    },
    {
      "cell_type": "markdown",
      "metadata": {
        "id": "ye6dYlnqLNtD"
      },
      "source": [
        "## 2.1. Código"
      ]
    },
    {
      "cell_type": "code",
      "execution_count": 44,
      "metadata": {},
      "outputs": [],
      "source": [
        "import random as rand\n",
        "from termcolor import colored\n",
        "import math as mt\n",
        "import matplotlib.pyplot as plt\n",
        "import copy\n",
        "import datetime\n",
        "from timeit import repeat"
      ]
    },
    {
      "cell_type": "code",
      "execution_count": 45,
      "metadata": {
        "colab": {
          "base_uri": "https://localhost:8080/"
        },
        "id": "X6zMAoC1aos8",
        "outputId": "1ff78cbd-428d-431b-c950-c4da7e8f4818"
      },
      "outputs": [
        {
          "name": "stdout",
          "output_type": "stream",
          "text": [
            "Entrada:  [26, 16, 21, 38, 22]\n",
            "Salida:  [16, 21, 22, 26, 38]\n",
            "# Comparaciones:  12\n",
            "# llamadas de MergeSort:  4\n"
          ]
        }
      ],
      "source": [
        "def Merge(izq, der, verbose, comps, sorts):\n",
        "  b = []\n",
        "  if verbose:\n",
        "    print(\"\\nInicio Merge...\")\n",
        "    print(\"Arreglo Izquierdo: \",colored(f\"{str(izq)}\",\"red\"))\n",
        "    print(\"Arreglo Derecho: \",colored(f\"{str(der)}\",\"blue\"),\"\\n\")\n",
        "  while True: \n",
        "    if len(izq) > 0 and len(der) > 0: # Mientras cualquiera de los arreglos tenga un largo mayor a 0 se mantendra el ciclo infinito.\n",
        "      if izq[0] < der[0]: # Si el numero de la derecha es mayor que el de la izquierda se ingresa en el nuevo arreglo y se borra del arreglo original.\n",
        "        comps += 1\n",
        "        b.append(izq[0])\n",
        "        izq.pop(0)\n",
        "      else: # Viceversa\n",
        "        comps += 1\n",
        "        b.append(der[0])\n",
        "        der.pop(0) \n",
        "    else:\n",
        "      break\n",
        "      \n",
        "  if len(izq) > 0 :# Como el ciclo cierra al terminar solo uno de los arreglos, lo que sobra del otro arreglo se inserta aqui\n",
        "    while len(izq) > 0:\n",
        "      comps += 1\n",
        "      b.append(izq[0])\n",
        "      izq.pop(0)\n",
        "  else:\n",
        "    while len(der) > 0:\n",
        "      comps += 1\n",
        "      b.append(der[0])\n",
        "      der.pop(0)\n",
        "      \n",
        "  if verbose:\n",
        "    print(\"Arreglos Combinados:\")\n",
        "    print(b, \"\\n\")\n",
        "  return b, comps, sorts\n",
        "\n",
        "\n",
        "\n",
        "def MergeSort(a, comps, sorts, verbose = False):\n",
        "  if(len(a) == 1): return a, comps, sorts # Si el arreglo recibido es de largo 1, se retorna de inmediato ya que no se puede dividir mas\n",
        "  mitad = len(a)//2\n",
        "  izq = a[0:mitad] # Se divide el arreglo en dos arreglos separados\n",
        "  der = a[mitad:]\n",
        "  sorts += 1\n",
        "  if (verbose):\n",
        "    print(\"Arreglo Actual:\")\n",
        "    print(colored(f\"{str(a)}\",\"green\"))\n",
        "    print(\"Arreglo Separado:\")\n",
        "    print(colored(f\"{str(izq)}\",\"red\"),\",\",colored(f\"{str(der)}\",\"blue\"))\n",
        "\n",
        "  izq, comps, sorts = MergeSort(izq, comps, sorts, verbose) # Se llama recursivamente a MergeSort para subdividir el arreglo si es posible\n",
        "  der, comps, sorts = MergeSort(der, comps, sorts, verbose)\n",
        "\n",
        "  return Merge(izq, der, verbose, comps, sorts) # Una vez tenemos los arreglos listos, se inicia la funcion merge.\n",
        "\n",
        "a = [26, 16, 21, 38, 22]\n",
        "print(\"Entrada: \", a)\n",
        "b, comps, sorts = MergeSort(a, 0, 0)\n",
        "print(\"Salida: \", b)\n",
        "print(\"# Comparaciones: \", comps)\n",
        "print(\"# llamadas de MergeSort: \", sorts)\n"
      ]
    },
    {
      "cell_type": "markdown",
      "metadata": {
        "id": "XHIw15F97CnZ"
      },
      "source": [
        "## 2.2. Descripción del algoritmo\n",
        "\n",
        "El algoritmo recibe como entrada una lista (o arreglo) $a$ con la secuencia de $n$ elementos que queremos ordenar. Luego, estos se ordenan siguiendo los siguientes pasos:\n",
        "\n",
        "1. Se divide el arreglo en la mitad $\\frac{n}{2}$, dejándonos con dos sub arreglos.\n",
        "\n",
        "2. Repetir Paso 1 con cada sub arreglo hasta que quedemos con $n$ arreglos de un elemento cada uno.\n",
        "\n",
        "3. Utilizando la función Merge, se van combinando y ordenando los arreglos hasta que solo queda un arreglo ordenado."
      ]
    },
    {
      "cell_type": "markdown",
      "metadata": {
        "id": "o0BhPA6mio_M"
      },
      "source": [
        "## 2.3. Ejemplo\n",
        "\n",
        "Por ejemplo, tenemos un arreglo:\n",
        "\n",
        "$a=[5,3,2,4]$\n",
        "\n",
        "En la primera pasada dividimos el arreglo en 2 arreglos:\n",
        "\n",
        "$a_1=[5,3]$, $b_1=[2,4]$\n",
        "\n",
        "Luego, en la segunda pasada volvemos a dividir ambos arreglos por la mitad, terminando con 4 arreglos de un elemento:\n",
        "\n",
        "$a_2=[5]$, $b_2=[3]$, $c_2=[2]$, $d_2=[4]$\n",
        "\n",
        "En la tercera pasada, como tenemos ya los arreglos separados en arreglos de 1, podemos llamar a Merge y comenzar a ordenar y volver a juntar los arreglos:\n",
        "\n",
        "$a_3=[3,5]$, $b_3=[2,4]$\n",
        "\n",
        "Se repite Merge hasta que solo quede un arreglo ordenado:\n",
        "\n",
        "$a=[2,3,4,5]$\n",
        "\n",
        "Y tenemos un arreglo ordenado."
      ]
    },
    {
      "cell_type": "markdown",
      "metadata": {
        "id": "5TZnpkE0dgta"
      },
      "source": [
        "## 2.4. Ejecución del algoritmo paso a paso (`verbose=True`)\n",
        "\n",
        "Usando la opción `verbose=True`, podemos ver lo que ocurre en cada iteración del algoritmo."
      ]
    },
    {
      "cell_type": "code",
      "execution_count": 46,
      "metadata": {
        "colab": {
          "base_uri": "https://localhost:8080/"
        },
        "id": "H_93UBKv8VQl",
        "outputId": "8c5f0bb0-273a-4ec0-b395-4207bb9d28ff"
      },
      "outputs": [
        {
          "name": "stdout",
          "output_type": "stream",
          "text": [
            "Arreglo Actual:\n",
            "\u001b[32m[31, 10, 77, 29, 64]\u001b[0m\n",
            "Arreglo Separado:\n",
            "\u001b[31m[31, 10]\u001b[0m , \u001b[34m[77, 29, 64]\u001b[0m\n",
            "Arreglo Actual:\n",
            "\u001b[32m[31, 10]\u001b[0m\n",
            "Arreglo Separado:\n",
            "\u001b[31m[31]\u001b[0m , \u001b[34m[10]\u001b[0m\n",
            "\n",
            "Inicio Merge...\n",
            "Arreglo Izquierdo:  \u001b[31m[31]\u001b[0m\n",
            "Arreglo Derecho:  \u001b[34m[10]\u001b[0m \n",
            "\n",
            "Arreglos Combinados:\n",
            "[10, 31] \n",
            "\n",
            "Arreglo Actual:\n",
            "\u001b[32m[77, 29, 64]\u001b[0m\n",
            "Arreglo Separado:\n",
            "\u001b[31m[77]\u001b[0m , \u001b[34m[29, 64]\u001b[0m\n",
            "Arreglo Actual:\n",
            "\u001b[32m[29, 64]\u001b[0m\n",
            "Arreglo Separado:\n",
            "\u001b[31m[29]\u001b[0m , \u001b[34m[64]\u001b[0m\n",
            "\n",
            "Inicio Merge...\n",
            "Arreglo Izquierdo:  \u001b[31m[29]\u001b[0m\n",
            "Arreglo Derecho:  \u001b[34m[64]\u001b[0m \n",
            "\n",
            "Arreglos Combinados:\n",
            "[29, 64] \n",
            "\n",
            "\n",
            "Inicio Merge...\n",
            "Arreglo Izquierdo:  \u001b[31m[77]\u001b[0m\n",
            "Arreglo Derecho:  \u001b[34m[29, 64]\u001b[0m \n",
            "\n",
            "Arreglos Combinados:\n",
            "[29, 64, 77] \n",
            "\n",
            "\n",
            "Inicio Merge...\n",
            "Arreglo Izquierdo:  \u001b[31m[10, 31]\u001b[0m\n",
            "Arreglo Derecho:  \u001b[34m[29, 64, 77]\u001b[0m \n",
            "\n",
            "Arreglos Combinados:\n",
            "[10, 29, 31, 64, 77] \n",
            "\n",
            "# Comparaciones:  12\n",
            "# llamadas a MergeSort:  4\n"
          ]
        }
      ],
      "source": [
        "a = rand.sample(range(1, 100), 5)\n",
        "b, comps, sorts = MergeSort(a, 0, 0, True)\n",
        "print(\"# Comparaciones: \", comps)\n",
        "print(\"# llamadas a MergeSort: \", sorts)"
      ]
    },
    {
      "cell_type": "markdown",
      "metadata": {
        "id": "GXXxcYI38GFB"
      },
      "source": [
        "En cada iteración, los arreglos destacados en verde son los arreglos de entrada a MergeSort, los arreglos en rojo son el arreglo izquierdo y los azules los derechos.\n",
        "\n",
        "Al finalizar un Merge, recibimos los arreglos con los que se entró al Merge, ordenados en un solo arreglo."
      ]
    },
    {
      "cell_type": "markdown",
      "metadata": {
        "id": "NmzbekC-4NNC"
      },
      "source": [
        "# 3. Tiempo de ejecución\n",
        "\n",
        "### **Teorema (Tiempo de ejecución).**\n",
        "\n",
        "*El **MergeSort** tiene un **tiempo de ejecución de** $O(n log (n))$ en **todos** los casos.*\n",
        "\n",
        "### **Arbol de recurrencia**\n",
        "\n",
        "Para calcular el tiempo de ejecución del MergeSort, debemos recordar que este se basa en la metodología divide y vencerás, entonces tenemos que tener en cuenta 2 cosas:\n",
        "1. En cada iteracion el problema se va a dicidir en dos (n\\2)\n",
        "2. La suma de cada nivel es igual a n.\n",
        "\n",
        "Ahora tenemos que tomar en cuenta que $T(n)=O(nlog(n))$, siendo esto lo que nos quedaria si multiplicamos la altura con la cantidad de datos.\n",
        "En la siguiente imagen se muestra el arbol de recurrencia $T(n) = 2T(\\frac{n}{2})+cn$:"
      ]
    },
    {
      "cell_type": "markdown",
      "metadata": {
        "id": "KlqGq_7tNo40"
      },
      "source": [
        "![image](https://cdn.kastatic.org/ka-perseus-images/5fcbebf66560d8fc490de2a0d8a0e5b1d65c5c54.png)"
      ]
    },
    {
      "cell_type": "markdown",
      "metadata": {
        "id": "2HQH2ltkBUbq"
      },
      "source": [
        "En la imagen podemos observar como el árbol se expande progresivamente. Posee $log_2n$ niveles y cada nivel tiene un costo $cn$. Con esto podemos decir que el total sería $cn log_2$, lo cual intrepretamos como $O(n log (n))$"
      ]
    },
    {
      "cell_type": "markdown",
      "metadata": {},
      "source": [
        "### **Comprobación con código**\n",
        "Ahora que sabemos como funciona el algoritmo, podemos comprobar si nuestro teorema esta correcto al ejecutar el código previamente escrito para el MergeSort en un rango de valores para que veamos que nuestro teorema esta correcto."
      ]
    },
    {
      "cell_type": "code",
      "execution_count": 47,
      "metadata": {},
      "outputs": [
        {
          "name": "stdout",
          "output_type": "stream",
          "text": [
            "Caso 1 : [52]\n",
            "Comparaciones/Divisiones = 0 , n(log2(n)) = 0.0 \n",
            "\n",
            "Caso 2 : [18, 43]\n",
            "Comparaciones/Divisiones = 2 , n(log2(n)) = 2.0 \n",
            "\n",
            "Caso 3 : [9, 24, 78]\n",
            "Comparaciones/Divisiones = 5 , n(log2(n)) = 4.0 \n",
            "\n",
            "Caso 4 : [6, 35, 82, 99]\n",
            "Comparaciones/Divisiones = 8 , n(log2(n)) = 8.0 \n",
            "\n",
            "Caso 5 : [11, 61, 76, 79, 86]\n",
            "Comparaciones/Divisiones = 12 , n(log2(n)) = 11.0 \n",
            "\n",
            "Caso 6 : [12, 33, 49, 55, 65, 80]\n",
            "Comparaciones/Divisiones = 16 , n(log2(n)) = 15.0 \n",
            "\n",
            "Caso 7 : [2, 6, 15, 37, 40, 68, 86]\n",
            "Comparaciones/Divisiones = 20 , n(log2(n)) = 19.0 \n",
            "\n",
            "Caso 8 : [2, 38, 41, 75, 81, 85, 89, 92]\n",
            "Comparaciones/Divisiones = 24 , n(log2(n)) = 24.0 \n",
            "\n",
            "Caso 9 : [12, 36, 37, 38, 41, 46, 60, 75, 82]\n",
            "Comparaciones/Divisiones = 29 , n(log2(n)) = 28.0 \n",
            "\n",
            "Caso 10 : [5, 16, 34, 49, 59, 60, 61, 82, 84, 85]\n",
            "Comparaciones/Divisiones = 34 , n(log2(n)) = 33.0 \n",
            "\n",
            "Caso 11 : [3, 11, 25, 36, 39, 47, 69, 84, 86, 93, 94]\n",
            "Comparaciones/Divisiones = 39 , n(log2(n)) = 38.0 \n",
            "\n",
            "Caso 12 : [9, 12, 18, 32, 37, 45, 49, 50, 51, 55, 76, 81]\n",
            "Comparaciones/Divisiones = 44 , n(log2(n)) = 43.0 \n",
            "\n",
            "Caso 13 : [1, 3, 5, 12, 23, 34, 54, 62, 64, 67, 80, 82, 94]\n",
            "Comparaciones/Divisiones = 49 , n(log2(n)) = 48.0 \n",
            "\n",
            "Caso 14 : [3, 7, 11, 13, 14, 18, 19, 37, 66, 73, 88, 89, 93, 94]\n",
            "Comparaciones/Divisiones = 54 , n(log2(n)) = 53.0 \n",
            "\n",
            "Caso 15 : [2, 3, 34, 38, 40, 47, 49, 58, 69, 71, 73, 76, 85, 89, 99]\n",
            "Comparaciones/Divisiones = 59 , n(log2(n)) = 58.0 \n",
            "\n",
            "Caso 16 : [7, 11, 31, 46, 48, 51, 52, 58, 60, 63, 69, 73, 77, 81, 83, 95]\n",
            "Comparaciones/Divisiones = 64 , n(log2(n)) = 64.0 \n",
            "\n",
            "Caso 17 : [2, 4, 8, 10, 34, 44, 46, 48, 49, 51, 55, 59, 60, 64, 78, 83, 93]\n",
            "Comparaciones/Divisiones = 70 , n(log2(n)) = 69.0 \n",
            "\n",
            "Caso 18 : [7, 10, 11, 18, 20, 21, 22, 24, 48, 50, 54, 58, 65, 69, 70, 80, 83, 92]\n",
            "Comparaciones/Divisiones = 76 , n(log2(n)) = 75.0 \n",
            "\n",
            "Caso 19 : [8, 12, 19, 31, 35, 36, 37, 51, 57, 60, 72, 74, 75, 76, 77, 86, 92, 94, 97]\n",
            "Comparaciones/Divisiones = 82 , n(log2(n)) = 80.0 \n",
            "\n"
          ]
        }
      ],
      "source": [
        "for n in range(1,20):\n",
        "  a = rand.sample(range(1, 100), n)\n",
        "  a, comps, sorts = MergeSort(a, 0, 0)\n",
        "\n",
        "  log = n * mt.log2(n) # Caso general de MergeSort\n",
        "  print(\"Caso\",n,\":\",a)\n",
        "  print(\"Comparaciones/Divisiones =\", comps, \", n(log2(n)) =\", log // 1, \"\\n\")\n"
      ]
    },
    {
      "cell_type": "markdown",
      "metadata": {
        "id": "-ifxrrqlC4Hc"
      },
      "source": [
        "# 4. Correctitud\n",
        "\n",
        "### **Teorema (Correctitud)**\n",
        "\n",
        "*El algoritmo **MergeSort** genera un arreglo: $[a_1',a_2',...,a_n']$, con los mismos elementos del arreglo de entrada ordenados de menor a mayor, es decir,* $a_1'\\leq a_2' \\leq... \\leq a_n'$.\n",
        "\n",
        "## Prueba del Teorema\n",
        "\n",
        "Previamente observamos que en cada llamada del `MergeSort` subdividimos el arreglo hasta obtener $n$ arreglos de tamaño 1, y después con la función `Merge` volvemos a juntar y a ordenar los arreglos.\n",
        "\n",
        "Por lo tanto, probaremos la correctitud de la función `MergeSort` utilizando inducción matemática, y la correctitud de la función `Merge` con la propiedad del bucle invariante.\n",
        "\n",
        "# Prueba del teorema (Merge)\n",
        "\n",
        "La función Merge recibe dos arreglos, los cuales ordenara dentro de un nuevo arreglo.\n",
        "\n",
        "Esto lo logra comparando ambos arreglos, insertando el menor valor entre ambos arreglos a un nuevo arreglo ordenado.\n",
        "\n",
        "Para probar su correctitud con la propiedad del bucle invariante, primero debemos analizar la inicialización del bucle ($i = 0$ y $j = 0$), y comprobar si se mantiene durante la ejecución de este.\n",
        "\n",
        "> Al comienzo de cada iteración $i$ y $j$ del bucle, siendo $i$ el índice del primer arreglo y $j$ el índice del segundo arreglo, el arreglo resultante debe estar ordenado de menor a mayor.\n",
        "\n",
        "**Inicialización**\n",
        "\n",
        "Al comienzo de la primera iteración ($i = 0 y $j = 0$), los primeros $i+j$ elementos del arreglo nuevo ya se encuentran ordenados. Esto es trivialmente cierto, siendo que estamos considerando un solo elemento.\n",
        "\n",
        "**Mantención**\n",
        "\n",
        "Al comienzo de cada iteración $i$ y $j$ \n",
        "se cumple la propiedad, o sea los primeros elementos del arreglo resultante ya se encuentran ordenados de menor a mayor.\n",
        "\n",
        "Consideremos a $y$ como el menor elemento y a $x$ como mayor (como se muestra en la figura)\n",
        "\n",
        "![image](https://i.imgur.com/eAydZyR.png)\n",
        "\n",
        "Durante el bucle de la función Merge, el menor dato ($y$) será insertado al final del arreglo ordenado.\n",
        "\n",
        "![image](https://i.imgur.com/IeQKsqI.png)\n",
        "\n",
        "Al finalizar la iteración (y al comienzo de la siguiente), se seguirá cumpliendo la **propiedad invariante**.\n",
        "\n",
        "![image](https://i.imgur.com/CVvbdqM.png)\n",
        "\n",
        "# Prueba del teorema (MergeSort)\n",
        "Como destacamos previamente, utilizaremos inducción matemática para probar la correctitud de la función MergeSort. Para probar una declaración $P(n)$ en inducción matemática, para todos los números naturales $n$ debemos seguir los siguientes pasos:\n",
        "\n",
        "1.   Probar $P(n)$ con un caso base, en nuestro caso $P(1)$.\n",
        "2.   Probar si $P(m)$ es cierto para $m < n$, de tal forma que para $P(n)$ esto también esté correcto.\n",
        "\n",
        "En nuestro caso base $P(1)$, como MergeSort recibirá un arreglo de largo 1, la función lo considera como ya ordenado, entonces se cumple $P(1)$.\n",
        "\n",
        "Para el segundo caso, recordamos que MergeSort recibe un arreglo de largo $n$ y lo subdivide en subarreglos de tamaño $m = \\frac{n}{2}$ hasta llegar a $n$ arreglos de largo 1 para comenzar a volver a juntar y ordenar los arreglos con la función Merge, a la cual ya le comprobamos su correctitud previamente.\n",
        "\n"
      ]
    },
    {
      "cell_type": "markdown",
      "metadata": {
        "id": "2hYUM_9OHF38"
      },
      "source": [
        "# 5. Experimentos\n",
        "\n",
        "## 5.1. Número de comparaciones\n",
        "\n",
        "A continuación se muestra gráficamente una comparación entre:\n",
        "\n",
        "* Cantidad de comparaciones del peor caso calculadas matemáticamente\n",
        "* Cantidad de comparaciones del mejor caso calculadas matemáticamente\n",
        "* Cantidad de comparaciones realizadas experimentalmente para entradas aleatorias\n",
        "\n",
        "para tamaños de problemas con $n \\in [5,100]$.\n",
        "\n",
        "Los arreglos de entrada son generados aleatoriamente haciendo un sampling de un conjunto de números entre 1 y 100."
      ]
    },
    {
      "cell_type": "code",
      "execution_count": 48,
      "metadata": {
        "colab": {
          "base_uri": "https://localhost:8080/",
          "height": 279
        },
        "id": "LxKv6b1WE-t8",
        "outputId": "a3876ab3-2c20-4dce-dbff-a12396464a9b"
      },
      "outputs": [
        {
          "data": {
            "image/png": "[encoded data removed]",
            "text/plain": [
              "<Figure size 432x288 with 1 Axes>"
            ]
          },
          "metadata": {
            "needs_background": "light"
          },
          "output_type": "display_data"
        }
      ],
      "source": [
        "import matplotlib.pyplot as plt\n",
        "\n",
        "x=[n for n in range(5,100)] \n",
        "y1=[n * mt.log2(n) for n in range(5,100)] # worst case\n",
        "y2=[n * mt.log2(n) for n in range(5,100)] # best case\n",
        "y=[]; \n",
        "\n",
        "for n in range(5,100):\n",
        "  a = rand.sample(range(1, 100), n)\n",
        "  a, counter, sorts = MergeSort(a, 0, 0)\n",
        "  y.append(counter)\n",
        "\n",
        "plt.plot(x,y)\n",
        "plt.plot(x,y1)\n",
        "plt.plot(x,y2)\n",
        "plt.legend([\"Merge Sort\", \"theoretical worst case\", \"theoretical best case\"])\n",
        "\n",
        "plt.xlabel('n')\n",
        "plt.ylabel('number of operations')\n",
        "plt.show()"
      ]
    },
    {
      "cell_type": "markdown",
      "metadata": {
        "id": "0LpupLb_HnWS"
      },
      "source": [
        "### Análisis de resultados\n",
        "\n",
        "Como habiamos discutido en una seccion previa, los casos de ejecucion del MergeSort no varian, entonces ambos su mejor y peor caso son $O(n log(n))$.\n",
        "\n",
        "En el gráfico se puede apreciar que, como cabía de esperar, el tiempo de ejecucion del MergeSort no varia de $n(log(n))$."
      ]
    },
    {
      "cell_type": "markdown",
      "metadata": {
        "id": "5AszHwkmJIfJ"
      },
      "source": [
        "## 5.2. Tiempo de ejecución (experimental)\n",
        "\n",
        "En el siguiente gráfico se reporta el tiempo de ejecución del algoritmo **MergeSort** en función del tamaño del problema para arreglos generados aleatoriamente de tamaños $n \\in [5,500]$, y se compara al mismo tiempo del algoritmo **InsertionSort**.\n",
        "\n",
        "# Codigo InsertionSort\n"
      ]
    },
    {
      "cell_type": "code",
      "execution_count": 49,
      "metadata": {},
      "outputs": [],
      "source": [
        "def insertionSort(a, verbose=False):\n",
        "    comps = 0\n",
        "    movs = 0\n",
        "    chk = False\n",
        "    for i in range(1, len(a)):\n",
        "        if verbose == True: \n",
        "            print(\"\\nIndice actual\", i)\n",
        "            if (i < len(a)-1): print(str(a[:i])[1:-1],\",\",colored(f\"{str(a[i:i+1])[1:-1]}\",\"red\"),\",\",str(a[i+1:])[1:-1])\n",
        "            else: print(str(a[:i])[1:-1],\",\",colored(f\"{str(a[i:i+1])[1:-1]}\",\"red\"))\n",
        "\n",
        "        pos = a[i] # Variable que guarda el indice a mover\n",
        "        j = i-1\n",
        "\n",
        "        while j >= 0 and pos < a[j]:\n",
        "            if verbose == True: print(\"\\nIndice anterior menor al actual.\\nMoviendo posicion a indice\", j)\n",
        "            if chk == False: \n",
        "                movs += i\n",
        "                chk = True\n",
        "            comps += 1 # Esto cuenta como una comparacion\n",
        "            a[j+1] = a[j] # Se cambia el valor del indice actual por el anterior a este\n",
        "            j -= 1 # Se baja un indice\n",
        "            if verbose == True: print(a)\n",
        "        chk = False\n",
        "        a[j+1] = pos # El indice previamente guardado se vuelve a introducir al arreglo\n",
        "\n",
        "        if verbose == True: \n",
        "            print(\"\\nDespues de la pasada:\")\n",
        "            print(a)\n",
        "            print(\"\\n\")\n",
        "    if verbose == True:\n",
        "        print(\"Movimientos =\", movs)\n",
        "        print(\"Retrocesos Promedio =\", (movs/comps))\n",
        "    return a, comps"
      ]
    },
    {
      "cell_type": "code",
      "execution_count": 50,
      "metadata": {
        "colab": {
          "base_uri": "https://localhost:8080/",
          "height": 280
        },
        "id": "Ffz2Id4WJPsO",
        "outputId": "c0b8cdd7-9c1f-47ec-c7d2-f54b315bc192"
      },
      "outputs": [
        {
          "data": {
            "image/png": "[encoded data removed]",
            "text/plain": [
              "<Figure size 432x288 with 1 Axes>"
            ]
          },
          "metadata": {
            "needs_background": "light"
          },
          "output_type": "display_data"
        }
      ],
      "source": [
        "x=[]; y=[]\n",
        "\n",
        "for n in range(5,500):\n",
        "\n",
        "  a = rand.sample(range(1, 1000), n)\n",
        "\n",
        "  #la función repeat está ejecutando 20 veces bubble_sort con el arreglo a y retorna el mejor tiepo obtenido.\n",
        "  t = repeat(setup=\"from __main__ import MergeSort\", stmt=f\"MergeSort({a}, 0, 0)\", repeat=1, number=10)\n",
        "  x.append(n)\n",
        "  y.append(t)\n",
        "\n",
        "plt.plot(x,y)\n",
        "\n",
        "x=[]; y=[]\n",
        "\n",
        "for n in range(5,500):\n",
        "\n",
        "  a = rand.sample(range(1, 1000), n)\n",
        "\n",
        "  #la función repeat está ejecutando 20 veces bubble_sort con el arreglo a y retorna el mejor tiepo obtenido.\n",
        "  t = repeat(setup=\"from __main__ import insertionSort\", stmt=f\"insertionSort({a})\", repeat=1, number=10)\n",
        "  x.append(n)\n",
        "  y.append(t)\n",
        "\n",
        "plt.plot(x,y)\n",
        "plt.legend([\"Merge Sort\", \"Insertion Sort\"])\n",
        "\n",
        "plt.xlabel('n')\n",
        "plt.ylabel('time in ms')\n",
        "plt.show()"
      ]
    },
    {
      "cell_type": "markdown",
      "metadata": {
        "id": "8lSmgt-vvpWB"
      },
      "source": [
        "### Análisis de resultados\n",
        "\n",
        "En el gráfico podemos inmediatamente darnos cuenta de que el MergeSort es drasticamente mas rapido que el InsertionSort, manteniendo una velocidad semi constante a diferencia de la velocidad cada vez mas lenta del InsertionSort.\n",
        "\n",
        "Note que hay unos peaks de tiempo. Estos se deben probablemente al comportamiento impredecible de los procesadores y quizás a otros procesos que también lo están ocupando."
      ]
    }
  ],
  "metadata": {
    "colab": {
      "authorship_tag": "ABX9TyM0ORc3ade3TKzNYfj5A315",
      "include_colab_link": true,
      "name": "BubbleSort",
      "provenance": []
    },
    "kernelspec": {
      "display_name": "Python 3.10.3 64-bit",
      "language": "python",
      "name": "python3"
    },
    "language_info": {
      "codemirror_mode": {
        "name": "ipython",
        "version": 3
      },
      "file_extension": ".py",
      "mimetype": "text/x-python",
      "name": "python",
      "nbconvert_exporter": "python",
      "pygments_lexer": "ipython3",
      "version": "3.10.3"
    },
    "vscode": {
      "interpreter": {
        "hash": "91c5405521f7dfe0cfba6df6041227d649f645edbf13a25c7854227ce3a5d840"
      }
    }
  },
  "nbformat": 4,
  "nbformat_minor": 0
}
