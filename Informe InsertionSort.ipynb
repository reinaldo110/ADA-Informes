{
  "cells": [
    {
      "cell_type": "markdown",
      "metadata": {
        "id": "jT2qsbCS3Fzu"
      },
      "source": [
        "# 1. Introducción al Problema de ordenamiento\n",
        "\n",
        "**Entrada**: Una secuencia de n números $[a_1,a_2,...,a_n]$\n",
        "\n",
        "**Salida**: Permutación ordenada de la secuencia de entrada: $[a_1',a_2',...,a_n']$, tal que $a_1'\\leq a_2' \\leq... \\leq a_n'$.\n",
        "\n",
        "Similar al BubbleSort, otro algoritmo de ordenamiento simple que ha sido analizado desde inicios de la computación es el InsertionSort. Aunque este tenga un uso limitado debido a su simplicidad, puede ser implementado para listas cortas de manera eficiente.\n",
        "\n"
      ]
    },
    {
      "cell_type": "markdown",
      "metadata": {
        "id": "nn1Sn60L3mrJ"
      },
      "source": [
        "# 2. InsertionSort\n",
        "\n",
        "El siguiente código muestra una implementación del algoritmo **InsertionSort**."
      ]
    },
    {
      "cell_type": "markdown",
      "metadata": {
        "id": "ye6dYlnqLNtD"
      },
      "source": [
        "## 2.1. Código"
      ]
    },
    {
      "cell_type": "code",
      "execution_count": 20,
      "metadata": {
        "colab": {
          "base_uri": "https://localhost:8080/"
        },
        "id": "X6zMAoC1aos8",
        "outputId": "1ff78cbd-428d-431b-c950-c4da7e8f4818"
      },
      "outputs": [
        {
          "name": "stdout",
          "output_type": "stream",
          "text": [
            "Entrada:  [26, 16, 21, 38, 22]\n",
            "Salida:  [16, 21, 22, 26, 38]\n",
            "# comparaciones:  6\n"
          ]
        }
      ],
      "source": [
        "import random\n",
        "from termcolor import colored\n",
        "import copy\n",
        "\n",
        "\n",
        "def insertionSort(a, verbose=False):\n",
        "    comps = 0\n",
        "    for i in range(1, len(a)):\n",
        "        if verbose == True: \n",
        "            print(\"\\nIndice actual\", i)\n",
        "            if (i < len(a)-1): print(str(a[:i])[1:-1],\",\",colored(f\"{str(a[i:i+1])[1:-1]}\",\"red\"),\",\",str(a[i+1:])[1:-1])\n",
        "            else: print(str(a[:i])[1:-1],\",\",colored(f\"{str(a[i:i+1])[1:-1]}\",\"red\"))\n",
        "\n",
        "        pos = a[i] # Variable que guarda el indice a mover\n",
        "        j = i-1\n",
        "\n",
        "        while j >= 0 and pos < a[j]:\n",
        "            if verbose == True: print(\"\\nIndice anterior menor al actual.\\nMoviendo posicion a indice\", j)\n",
        "            comps += j # Esto cuenta como una comparacion\n",
        "            a[j+1] = a[j] # Se cambia el valor del indice actual por el anterior a este\n",
        "            j -= 1 # Se baja un indice\n",
        "            if verbose == True: print(a)\n",
        "\n",
        "        a[j+1] = pos # El indice previamente guardado se vuelve a introducir al arreglo\n",
        "\n",
        "        if verbose == True: \n",
        "            print(\"\\nDespues de la pasada:\")\n",
        "            print(a)\n",
        "            print(\"\\n\")\n",
        "    if verbose == True:\n",
        "        print(\"output final = \")\n",
        "        print(a)\n",
        "    return a, comps\n",
        "\n",
        "a = [26, 16, 21, 38, 22]\n",
        "print(\"Entrada: \", a)\n",
        "a, comps = insertionSort(a)\n",
        "print(\"Salida: \", a)\n",
        "print(\"# comparaciones: \", comps)"
      ]
    },
    {
      "cell_type": "markdown",
      "metadata": {
        "id": "XHIw15F97CnZ"
      },
      "source": [
        "## 2.2. Descripción del algoritmo\n",
        "\n",
        "El algoritmo recibe como entrada una lista (o arreglo) $a$ con la secuencia de $n$ elementos que queremos ordenar. Luego, los números se ordenan dentro de la misma lista.\n",
        "\n",
        "1. En cada iteración $i$, el algoritmo recorre el arreglo comparando cada elemento `a[i]`(variable `pos`) con el elemento `a[i-1]`(variable `j` interpretada como `a[j]`). Si `pos < a[j]`, entonces los elementos se intercambian de posiciones y se reduce el valor de j por 1, esto se repite hasta que no hayan numeros menores detrás del valor que esta siendo movido, y se reinserta el indice inicial en su posicion debida `a[j+1]`. Si no se cumple `pos < a[j]`, eso quiere decir que el arreglo esta ordenado hasta `pos` y no se hace ningun cambio.\n",
        "\n",
        "2. Repetir Paso 1 hasta llegar al final del arreglo.\n",
        "\n",
        "3. Al final, se retorna el arreglo ordenado y un contador de comparaciones: `comps`.\n",
        "\n",
        "InsertionSort recorre todo el arreglo indice por indice, pausando y retrocediendo en el arreglo ya recorrido para ir ordenando, como se muestra en la siguiente animacion:\n",
        "\n",
        "![image](https://upload.wikimedia.org/wikipedia/commons/0/0f/Insertion-sort-example-300px.gif)\n",
        "\n",
        "Cuando la variable `verbose` es `True` se muestra información para ver lo que pasa paso a paso dentro de la función."
      ]
    },
    {
      "cell_type": "markdown",
      "metadata": {
        "id": "o0BhPA6mio_M"
      },
      "source": [
        "## 2.3. Ejemplo\n",
        "\n",
        "Por ejemplo, tenemos un arreglo:\n",
        "\n",
        "$a=[5,3,2,4]$\n",
        "\n",
        "En la primera pasada intercambiamos el 5 por el 3:\n",
        "\n",
        "$a=[3,5,2,4]$\n",
        "\n",
        "Luego, en la segunda pasada se intercambian el 2 con el 5, e inmediatamente despues el 2 con el 3:\n",
        "\n",
        "$a=[3,2,5,4]$\n",
        "\n",
        "$a=[2,3,5,4]$\n",
        "\n",
        "Y en la tercera pasada se cambian el 4 con el 5:\n",
        "\n",
        "$a=[2,3,4,5]$\n",
        "\n",
        "Y ya tenemos el arreglo ordenado."
      ]
    },
    {
      "cell_type": "markdown",
      "metadata": {
        "id": "5TZnpkE0dgta"
      },
      "source": [
        "## 2.4. Ejecución del algoritmo paso a paso (`verbose=True`)\n",
        "\n",
        "Usando la opción `verbose=True`, podemos ver lo que ocurre en cada iteración del algoritmo."
      ]
    },
    {
      "cell_type": "code",
      "execution_count": 21,
      "metadata": {
        "colab": {
          "base_uri": "https://localhost:8080/"
        },
        "id": "H_93UBKv8VQl",
        "outputId": "8c5f0bb0-273a-4ec0-b395-4207bb9d28ff"
      },
      "outputs": [
        {
          "name": "stdout",
          "output_type": "stream",
          "text": [
            "\n",
            "Indice actual 1\n",
            "53 , \u001b[31m73\u001b[0m , 49, 99, 84\n",
            "\n",
            "Despues de la pasada:\n",
            "[53, 73, 49, 99, 84]\n",
            "\n",
            "\n",
            "\n",
            "Indice actual 2\n",
            "53, 73 , \u001b[31m49\u001b[0m , 99, 84\n",
            "\n",
            "Indice anterior menor al actual.\n",
            "Moviendo posicion a indice 1\n",
            "[53, 73, 73, 99, 84]\n",
            "\n",
            "Indice anterior menor al actual.\n",
            "Moviendo posicion a indice 0\n",
            "[53, 53, 73, 99, 84]\n",
            "\n",
            "Despues de la pasada:\n",
            "[49, 53, 73, 99, 84]\n",
            "\n",
            "\n",
            "\n",
            "Indice actual 3\n",
            "49, 53, 73 , \u001b[31m99\u001b[0m , 84\n",
            "\n",
            "Despues de la pasada:\n",
            "[49, 53, 73, 99, 84]\n",
            "\n",
            "\n",
            "\n",
            "Indice actual 4\n",
            "49, 53, 73, 99 , \u001b[31m84\u001b[0m\n",
            "\n",
            "Indice anterior menor al actual.\n",
            "Moviendo posicion a indice 3\n",
            "[49, 53, 73, 99, 99]\n",
            "\n",
            "Despues de la pasada:\n",
            "[49, 53, 73, 84, 99]\n",
            "\n",
            "\n",
            "output final = \n",
            "[49, 53, 73, 84, 99]\n"
          ]
        },
        {
          "data": {
            "text/plain": [
              "([49, 53, 73, 84, 99], 4)"
            ]
          },
          "execution_count": 21,
          "metadata": {},
          "output_type": "execute_result"
        }
      ],
      "source": [
        "a = random.sample(range(1, 100), 5)\n",
        "insertionSort(a,verbose=True)"
      ]
    },
    {
      "cell_type": "markdown",
      "metadata": {
        "id": "GXXxcYI38GFB"
      },
      "source": [
        "En cada iteración (pasada) se recorre e intercambian elementos en rojo.\n",
        "\n",
        "Note que al finalizar cada pasada, un nuevo elemento queda ordenado al final del arreglo (elementos en azul).\n",
        "\n",
        "\n",
        "\n"
      ]
    },
    {
      "cell_type": "markdown",
      "metadata": {
        "id": "NmzbekC-4NNC"
      },
      "source": [
        "# 3. Tiempo de ejecución\n",
        "\n",
        "### **Teorema (Tiempo de ejecución).**\n",
        "\n",
        "*El **InsertionSort** tiene un **tiempo de ejecución de** $O(n^2)$ en el peor caso, y $O(n)$ en el mejor caso.*\n",
        "\n",
        "## Prueba del teorema\n",
        "\n",
        "Echándole un vistazo al código, podemos ver que este peor caso se daría si el arreglo estuviera ordenado de mayor a menor. Ya que por cada indice recorrido, el algoritmo debe retroceder todo lo recorrido y cambiarlo de a uno en uno para ordenarlo."
      ]
    },
    {
      "cell_type": "markdown",
      "metadata": {
        "id": "KlqGq_7tNo40"
      },
      "source": [
        "### Ejemplo"
      ]
    },
    {
      "cell_type": "code",
      "execution_count": 22,
      "metadata": {
        "colab": {
          "base_uri": "https://localhost:8080/"
        },
        "id": "hpqCkU0wBNAv",
        "outputId": "5854417a-3f10-44b5-8250-a4c75a3bdfcf"
      },
      "outputs": [
        {
          "name": "stdout",
          "output_type": "stream",
          "text": [
            "Entrada no ordenada: [5, 4, 3, 2, 1]\n",
            "\n",
            "Indice actual 1\n",
            "5 , \u001b[31m4\u001b[0m , 3, 2, 1\n",
            "\n",
            "Indice anterior menor al actual.\n",
            "Moviendo posicion a indice 0\n",
            "[5, 5, 3, 2, 1]\n",
            "\n",
            "Despues de la pasada:\n",
            "[4, 5, 3, 2, 1]\n",
            "\n",
            "\n",
            "\n",
            "Indice actual 2\n",
            "4, 5 , \u001b[31m3\u001b[0m , 2, 1\n",
            "\n",
            "Indice anterior menor al actual.\n",
            "Moviendo posicion a indice 1\n",
            "[4, 5, 5, 2, 1]\n",
            "\n",
            "Indice anterior menor al actual.\n",
            "Moviendo posicion a indice 0\n",
            "[4, 4, 5, 2, 1]\n",
            "\n",
            "Despues de la pasada:\n",
            "[3, 4, 5, 2, 1]\n",
            "\n",
            "\n",
            "\n",
            "Indice actual 3\n",
            "3, 4, 5 , \u001b[31m2\u001b[0m , 1\n",
            "\n",
            "Indice anterior menor al actual.\n",
            "Moviendo posicion a indice 2\n",
            "[3, 4, 5, 5, 1]\n",
            "\n",
            "Indice anterior menor al actual.\n",
            "Moviendo posicion a indice 1\n",
            "[3, 4, 4, 5, 1]\n",
            "\n",
            "Indice anterior menor al actual.\n",
            "Moviendo posicion a indice 0\n",
            "[3, 3, 4, 5, 1]\n",
            "\n",
            "Despues de la pasada:\n",
            "[2, 3, 4, 5, 1]\n",
            "\n",
            "\n",
            "\n",
            "Indice actual 4\n",
            "2, 3, 4, 5 , \u001b[31m1\u001b[0m\n",
            "\n",
            "Indice anterior menor al actual.\n",
            "Moviendo posicion a indice 3\n",
            "[2, 3, 4, 5, 5]\n",
            "\n",
            "Indice anterior menor al actual.\n",
            "Moviendo posicion a indice 2\n",
            "[2, 3, 4, 4, 5]\n",
            "\n",
            "Indice anterior menor al actual.\n",
            "Moviendo posicion a indice 1\n",
            "[2, 3, 3, 4, 5]\n",
            "\n",
            "Indice anterior menor al actual.\n",
            "Moviendo posicion a indice 0\n",
            "[2, 2, 3, 4, 5]\n",
            "\n",
            "Despues de la pasada:\n",
            "[1, 2, 3, 4, 5]\n",
            "\n",
            "\n",
            "output final = \n",
            "[1, 2, 3, 4, 5]\n",
            "Salida ordenada: [1, 2, 3, 4, 5]\n",
            "Total de comparaciones realizadas: 10\n"
          ]
        }
      ],
      "source": [
        "a =[5,4,3,2,1];\n",
        "print(\"Entrada no ordenada:\",a)\n",
        "a,counter=insertionSort(a,True)\n",
        "print(\"Salida ordenada:\",a)\n",
        "print(\"Total de comparaciones realizadas:\",counter)"
      ]
    },
    {
      "cell_type": "markdown",
      "metadata": {
        "id": "2HQH2ltkBUbq"
      },
      "source": [
        "En este caso, la primera pasada hizo 1 comparacion, la segunda 2, la tercera 3 y la cuarta 4, para un total de 10 comparaciones.\n",
        "\n",
        "En el caso general, se deberían realizar $\\sum\\limits_{i=0}^{n-1} i=\\frac{n(n-1)}{2}$ comparaciones. Por lo que el **tiempo de ejecución del algoritmo en el peor caso** es $O(n^2)$."
      ]
    }
  ],
  "metadata": {
    "colab": {
      "authorship_tag": "ABX9TyM0ORc3ade3TKzNYfj5A315",
      "include_colab_link": true,
      "name": "BubbleSort",
      "provenance": []
    },
    "kernelspec": {
      "display_name": "Python 3.10.3 64-bit",
      "language": "python",
      "name": "python3"
    },
    "language_info": {
      "codemirror_mode": {
        "name": "ipython",
        "version": 3
      },
      "file_extension": ".py",
      "mimetype": "text/x-python",
      "name": "python",
      "nbconvert_exporter": "python",
      "pygments_lexer": "ipython3",
      "version": "3.10.3"
    },
    "vscode": {
      "interpreter": {
        "hash": "91c5405521f7dfe0cfba6df6041227d649f645edbf13a25c7854227ce3a5d840"
      }
    }
  },
  "nbformat": 4,
  "nbformat_minor": 0
}
