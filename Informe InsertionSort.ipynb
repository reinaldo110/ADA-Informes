{
  "cells": [
    {
      "cell_type": "markdown",
      "metadata": {
        "id": "jT2qsbCS3Fzu"
      },
      "source": [
        "# 1. Introducción al Problema de ordenamiento\n",
        "\n",
        "**Entrada**: Una secuencia de n números $[a_1,a_2,...,a_n]$\n",
        "\n",
        "**Salida**: Permutación ordenada de la secuencia de entrada: $[a_1',a_2',...,a_n']$, tal que $a_1'\\leq a_2' \\leq... \\leq a_n'$.\n",
        "\n",
        "Similar al BubbleSort, otro algoritmo de ordenamiento simple que ha sido analizado desde inicios de la computación es el InsertionSort. Aunque este tenga un uso limitado debido a su simplicidad, esta misma simplicidad de implementación lo hace una buena opción fácil de implementar.\n",
        "\n"
      ]
    },
    {
      "cell_type": "markdown",
      "metadata": {
        "id": "nn1Sn60L3mrJ"
      },
      "source": [
        "# 2. InsertionSort\n",
        "\n",
        "El siguiente código muestra una implementación del algoritmo **InsertionSort**."
      ]
    },
    {
      "cell_type": "markdown",
      "metadata": {
        "id": "ye6dYlnqLNtD"
      },
      "source": [
        "## 2.1. Código"
      ]
    },
    {
      "cell_type": "code",
      "execution_count": 1,
      "metadata": {
        "colab": {
          "base_uri": "https://localhost:8080/"
        },
        "id": "X6zMAoC1aos8",
        "outputId": "1ff78cbd-428d-431b-c950-c4da7e8f4818"
      },
      "outputs": [
        {
          "name": "stdout",
          "output_type": "stream",
          "text": [
            "Entrada:  [26, 16, 21, 38, 22]\n",
            "Salida:  [16, 21, 22, 26, 38]\n",
            "# comparaciones:  4\n"
          ]
        }
      ],
      "source": [
        "import random\n",
        "from termcolor import colored\n",
        "import copy\n",
        "\n",
        "\n",
        "def insertionSort(a, verbose=False):\n",
        "    comps = 0\n",
        "    movs = 0\n",
        "    chk = False\n",
        "    for i in range(1, len(a)):\n",
        "        if verbose == True: \n",
        "            print(\"\\nIndice actual\", i)\n",
        "            if (i < len(a)-1): print(str(a[:i])[1:-1],\",\",colored(f\"{str(a[i:i+1])[1:-1]}\",\"red\"),\",\",str(a[i+1:])[1:-1])\n",
        "            else: print(str(a[:i])[1:-1],\",\",colored(f\"{str(a[i:i+1])[1:-1]}\",\"red\"))\n",
        "\n",
        "        pos = a[i] # Variable que guarda el indice a mover\n",
        "        j = i-1\n",
        "\n",
        "        while j >= 0 and pos < a[j]:\n",
        "            if verbose == True: print(\"\\nIndice anterior menor al actual.\\nMoviendo posicion a indice\", j)\n",
        "            if chk == False: \n",
        "                movs += i\n",
        "                chk = True\n",
        "            comps += 1 # Esto cuenta como una comparacion\n",
        "            a[j+1] = a[j] # Se cambia el valor del indice actual por el anterior a este\n",
        "            j -= 1 # Se baja un indice\n",
        "            if verbose == True: print(a)\n",
        "        chk = False\n",
        "        a[j+1] = pos # El indice previamente guardado se vuelve a introducir al arreglo\n",
        "\n",
        "        if verbose == True: \n",
        "            print(\"\\nDespues de la pasada:\")\n",
        "            print(a)\n",
        "            print(\"\\n\")\n",
        "    if verbose == True:\n",
        "        print(\"Movimientos =\", movs)\n",
        "        print(\"Retrocesos Promedio =\", (movs/comps))\n",
        "    return a, comps\n",
        "\n",
        "a = [26, 16, 21, 38, 22]\n",
        "print(\"Entrada: \", a)\n",
        "a, comps = insertionSort(a)\n",
        "print(\"Salida: \", a)\n",
        "print(\"# comparaciones: \", comps)"
      ]
    },
    {
      "cell_type": "markdown",
      "metadata": {
        "id": "XHIw15F97CnZ"
      },
      "source": [
        "## 2.2. Descripción del algoritmo\n",
        "\n",
        "El algoritmo recibe como entrada una lista (o arreglo) $a$ con la secuencia de $n$ elementos que queremos ordenar. Luego, los números se ordenan dentro de la misma lista.\n",
        "\n",
        "1. En cada iteración $i$, el algoritmo recorre el arreglo comparando cada elemento `a[i]`(variable `pos`) con el elemento `a[i-1]`(variable `j` interpretada como `a[j]`). Si `pos < a[j]`, entonces los elementos se intercambian de posiciones y se reduce el valor de j por 1, esto se repite hasta que no hayan números menores detrás del valor que esta siendo movido, y se reinserta el indice inicial en su posicion debida `a[j+1]`. Si no se cumple `pos < a[j]`, eso quiere decir que el arreglo esta ordenado hasta `pos` y no se hace ningun cambio.\n",
        "\n",
        "2. Repetir Paso 1 hasta llegar al final del arreglo.\n",
        "\n",
        "3. Al final, se retorna el arreglo ordenado y un contador de comparaciones: `comps`.\n",
        "\n",
        "InsertionSort recorre todo el arreglo indice por indice, pausando y retrocediendo en el arreglo ya recorrido para ir ordenando, como se muestra en la siguiente animacion:\n",
        "\n",
        "![image](https://upload.wikimedia.org/wikipedia/commons/0/0f/Insertion-sort-example-300px.gif)\n",
        "\n",
        "Cuando la variable `verbose` es `True` se muestra información para ver lo que pasa paso a paso dentro de la función."
      ]
    },
    {
      "cell_type": "markdown",
      "metadata": {
        "id": "o0BhPA6mio_M"
      },
      "source": [
        "## 2.3. Ejemplo\n",
        "\n",
        "Por ejemplo, tenemos un arreglo:\n",
        "\n",
        "$a=[5,3,2,4]$\n",
        "\n",
        "En la primera pasada intercambiamos el 5 por el 3:\n",
        "\n",
        "$a=[3,5,2,4]$\n",
        "\n",
        "Luego, en la segunda pasada se intercambian el 2 con el 5, e inmediatamente después el 2 con el 3:\n",
        "\n",
        "$a=[3,2,5,4]$\n",
        "\n",
        "$a=[2,3,5,4]$\n",
        "\n",
        "Y en la tercera pasada se cambian el 4 con el 5:\n",
        "\n",
        "$a=[2,3,4,5]$\n",
        "\n",
        "Y ya tenemos el arreglo ordenado."
      ]
    },
    {
      "cell_type": "markdown",
      "metadata": {
        "id": "5TZnpkE0dgta"
      },
      "source": [
        "## 2.4. Ejecución del algoritmo paso a paso (`verbose=True`)\n",
        "\n",
        "Usando la opción `verbose=True`, podemos ver lo que ocurre en cada iteración del algoritmo."
      ]
    },
    {
      "cell_type": "code",
      "execution_count": 2,
      "metadata": {
        "colab": {
          "base_uri": "https://localhost:8080/"
        },
        "id": "H_93UBKv8VQl",
        "outputId": "8c5f0bb0-273a-4ec0-b395-4207bb9d28ff"
      },
      "outputs": [
        {
          "name": "stdout",
          "output_type": "stream",
          "text": [
            "\n",
            "Indice actual 1\n",
            "19 , \u001b[31m39\u001b[0m , 61, 8, 70\n",
            "\n",
            "Despues de la pasada:\n",
            "[19, 39, 61, 8, 70]\n",
            "\n",
            "\n",
            "\n",
            "Indice actual 2\n",
            "19, 39 , \u001b[31m61\u001b[0m , 8, 70\n",
            "\n",
            "Despues de la pasada:\n",
            "[19, 39, 61, 8, 70]\n",
            "\n",
            "\n",
            "\n",
            "Indice actual 3\n",
            "19, 39, 61 , \u001b[31m8\u001b[0m , 70\n",
            "\n",
            "Indice anterior menor al actual.\n",
            "Moviendo posicion a indice 2\n",
            "[19, 39, 61, 61, 70]\n",
            "\n",
            "Indice anterior menor al actual.\n",
            "Moviendo posicion a indice 1\n",
            "[19, 39, 39, 61, 70]\n",
            "\n",
            "Indice anterior menor al actual.\n",
            "Moviendo posicion a indice 0\n",
            "[19, 19, 39, 61, 70]\n",
            "\n",
            "Despues de la pasada:\n",
            "[8, 19, 39, 61, 70]\n",
            "\n",
            "\n",
            "\n",
            "Indice actual 4\n",
            "8, 19, 39, 61 , \u001b[31m70\u001b[0m\n",
            "\n",
            "Despues de la pasada:\n",
            "[8, 19, 39, 61, 70]\n",
            "\n",
            "\n",
            "Movimientos = 3\n",
            "Retrocesos Promedio = 1.0\n"
          ]
        },
        {
          "data": {
            "text/plain": [
              "([8, 19, 39, 61, 70], 3)"
            ]
          },
          "execution_count": 2,
          "metadata": {},
          "output_type": "execute_result"
        }
      ],
      "source": [
        "a = random.sample(range(1, 100), 5)\n",
        "insertionSort(a,verbose=True)"
      ]
    },
    {
      "cell_type": "markdown",
      "metadata": {
        "id": "GXXxcYI38GFB"
      },
      "source": [
        "En cada iteración (pasada) se recorre e intercambian elementos en rojo.\n",
        "\n",
        "Note que al finalizar cada pasada, un nuevo elemento queda ordenado al final del arreglo (elementos en azul).\n",
        "\n",
        "\n",
        "\n"
      ]
    },
    {
      "cell_type": "markdown",
      "metadata": {
        "id": "NmzbekC-4NNC"
      },
      "source": [
        "# 3. Tiempo de ejecución\n",
        "\n",
        "### **Teorema (Tiempo de ejecución).**\n",
        "\n",
        "*El **InsertionSort** tiene un **tiempo de ejecución de** $O(n^2)$ en el peor caso, y $O(n)$ en el mejor caso.*\n",
        "\n",
        "## Prueba del teorema\n",
        "\n",
        "Echándole un vistazo al código, podemos ver que este peor caso se daría si el arreglo estuviera ordenado de mayor a menor. Ya que por cada indice recorrido, el algoritmo debe retroceder todo lo recorrido y cambiarlo de a uno en uno para ordenarlo."
      ]
    },
    {
      "cell_type": "markdown",
      "metadata": {
        "id": "KlqGq_7tNo40"
      },
      "source": [
        "### Ejemplo"
      ]
    },
    {
      "cell_type": "code",
      "execution_count": 3,
      "metadata": {
        "colab": {
          "base_uri": "https://localhost:8080/"
        },
        "id": "hpqCkU0wBNAv",
        "outputId": "5854417a-3f10-44b5-8250-a4c75a3bdfcf"
      },
      "outputs": [
        {
          "name": "stdout",
          "output_type": "stream",
          "text": [
            "Entrada no ordenada: [5, 4, 3, 2, 1]\n",
            "\n",
            "Indice actual 1\n",
            "5 , \u001b[31m4\u001b[0m , 3, 2, 1\n",
            "\n",
            "Indice anterior menor al actual.\n",
            "Moviendo posicion a indice 0\n",
            "[5, 5, 3, 2, 1]\n",
            "\n",
            "Despues de la pasada:\n",
            "[4, 5, 3, 2, 1]\n",
            "\n",
            "\n",
            "\n",
            "Indice actual 2\n",
            "4, 5 , \u001b[31m3\u001b[0m , 2, 1\n",
            "\n",
            "Indice anterior menor al actual.\n",
            "Moviendo posicion a indice 1\n",
            "[4, 5, 5, 2, 1]\n",
            "\n",
            "Indice anterior menor al actual.\n",
            "Moviendo posicion a indice 0\n",
            "[4, 4, 5, 2, 1]\n",
            "\n",
            "Despues de la pasada:\n",
            "[3, 4, 5, 2, 1]\n",
            "\n",
            "\n",
            "\n",
            "Indice actual 3\n",
            "3, 4, 5 , \u001b[31m2\u001b[0m , 1\n",
            "\n",
            "Indice anterior menor al actual.\n",
            "Moviendo posicion a indice 2\n",
            "[3, 4, 5, 5, 1]\n",
            "\n",
            "Indice anterior menor al actual.\n",
            "Moviendo posicion a indice 1\n",
            "[3, 4, 4, 5, 1]\n",
            "\n",
            "Indice anterior menor al actual.\n",
            "Moviendo posicion a indice 0\n",
            "[3, 3, 4, 5, 1]\n",
            "\n",
            "Despues de la pasada:\n",
            "[2, 3, 4, 5, 1]\n",
            "\n",
            "\n",
            "\n",
            "Indice actual 4\n",
            "2, 3, 4, 5 , \u001b[31m1\u001b[0m\n",
            "\n",
            "Indice anterior menor al actual.\n",
            "Moviendo posicion a indice 3\n",
            "[2, 3, 4, 5, 5]\n",
            "\n",
            "Indice anterior menor al actual.\n",
            "Moviendo posicion a indice 2\n",
            "[2, 3, 4, 4, 5]\n",
            "\n",
            "Indice anterior menor al actual.\n",
            "Moviendo posicion a indice 1\n",
            "[2, 3, 3, 4, 5]\n",
            "\n",
            "Indice anterior menor al actual.\n",
            "Moviendo posicion a indice 0\n",
            "[2, 2, 3, 4, 5]\n",
            "\n",
            "Despues de la pasada:\n",
            "[1, 2, 3, 4, 5]\n",
            "\n",
            "\n",
            "Movimientos = 10\n",
            "Retrocesos Promedio = 1.0\n",
            "Salida ordenada: [1, 2, 3, 4, 5]\n",
            "Total de comparaciones realizadas: 10\n"
          ]
        }
      ],
      "source": [
        "a =[5,4,3,2,1];\n",
        "print(\"Entrada no ordenada:\",a)\n",
        "a,counter=insertionSort(a,True)\n",
        "print(\"Salida ordenada:\",a)\n",
        "print(\"Total de comparaciones realizadas:\",counter)"
      ]
    },
    {
      "cell_type": "markdown",
      "metadata": {
        "id": "2HQH2ltkBUbq"
      },
      "source": [
        "En este caso, la primera pasada hizo 1 comparacion, la segunda 2, la tercera 3 y la cuarta 4, para un total de 10 comparaciones.\n",
        "\n",
        "En el caso general, se deberían realizar $\\sum\\limits_{i=0}^{n-1} i=\\frac{n(n-1)}{2}$ comparaciones. Por lo que el **tiempo de ejecución del algoritmo en el peor caso** es $O(n^2)$."
      ]
    },
    {
      "cell_type": "markdown",
      "metadata": {
        "id": "-ifxrrqlC4Hc"
      },
      "source": [
        "# 4. Correctitud\n",
        "\n",
        "### **Teorema (Correctitud).**\n",
        "\n",
        "*El algoritmo **InsertionSort** genera un arreglo: $[a_1',a_2',...,a_n']$, con los mismos elementos del arreglo de entrada ordenados de menor a mayor, es decir,* $a_1'\\leq a_2' \\leq... \\leq a_n'$.\n",
        "\n",
        "\n",
        "## Prueba del Teorema\n",
        "\n",
        "Previamente observamos que en cada iteración de InsertionSort agregamos un nuevo elemento ordenado al inicio del arreglo.\n",
        "\n",
        "Por lo tanto probaremos la siguiente **propiedad invariante de bucle** para el `InsertionSort`:\n",
        "\n",
        "> Al comienzo de cada iteración $i$ del bucle más grande, los primeros $i-1$ elementos del arreglo corresponden a los menores elementos del arreglo original ordenados de menor a mayor.\n",
        "\n",
        "**Inicialización**\n",
        "\n",
        "Al comienzo de la primera iteración (i=1), los primeros $i-1=0$ elementos del arreglo cumplen la propiedad. Esto es trivialmente cierto.\n",
        "\n",
        "**Mantención**\n",
        "\n",
        "Al comienzo de cada iteracion $i$ los elementos desde $0$ a $i-1$ del arreglo de encuentran ordenados de menor a mayor.\n",
        "\n",
        "Consideremos que $x$ como el menor elemento no ordenado del arreglo (como se muestra en la figura)\n",
        "\n",
        "![image](https://i.imgur.com/oyNqHf4.png)\n",
        "\n",
        "Durante el recorrido del InsertionSort, $x$ se irá intercambiando con los anteriores elementos (ya que son mayores) hasta llegar justo a la posicion correcta:\n",
        "\n",
        "![image](https://i.imgur.com/QPjw8vG.png)\n",
        "\n",
        "\n",
        "Al finalizar la iteración (y al comienzo de la siguiente), se seguirá cumpliendo la **propiedad invariante**.\n",
        "\n",
        "![image](https://i.imgur.com/ae3wj3v.png)\n",
        "\n",
        "\n",
        "**Correctitud**\n",
        "\n",
        "Finalmente, como la propiedad de bucle invariante es verdadera al incio del bucle y se mantiene en cada iteración, podemos decir que al **finalizar la n-ésima iteración del algoritmo**, se que genera un arreglo con los mismos elementos del arreglo de entrada ordenados de menor a mayor."
      ]
    },
    {
      "cell_type": "markdown",
      "metadata": {
        "id": "2hYUM_9OHF38"
      },
      "source": [
        "# 5. Experimentos\n",
        "\n",
        "## 5.1. Número de comparaciones\n",
        "\n",
        "A continuación se muestra gráficamente una comparación entre:\n",
        "\n",
        "* cantidad de comparaciones del peor caso calculadas matemáticamente,\n",
        "* cantidad de comparaciones del mejor caso calculadas matemáticamente (n-1 comparaciones si el arreglo está ordenado)\n",
        "* cantidad de comparaciones realizadas experimentalmente para entradas aleatorias\n",
        "\n",
        "para tamaños de problemas con $n \\in [5,100]$.\n",
        "\n",
        "Los arreglos de entrada son generados aleatoriamente haciendo un sampling de un conjunto de números entre 1 y 100."
      ]
    },
    {
      "cell_type": "code",
      "execution_count": 4,
      "metadata": {
        "colab": {
          "base_uri": "https://localhost:8080/",
          "height": 279
        },
        "id": "LxKv6b1WE-t8",
        "outputId": "a3876ab3-2c20-4dce-dbff-a12396464a9b"
      },
      "outputs": [
        {
          "data": {
            "image/png": "[encoded data removed]",
            "text/plain": [
              "<Figure size 432x288 with 1 Axes>"
            ]
          },
          "metadata": {
            "needs_background": "light"
          },
          "output_type": "display_data"
        }
      ],
      "source": [
        "import matplotlib.pyplot as plt\n",
        "\n",
        "x=[n for n in range(5,100)] \n",
        "y1=[n*(n-1)/2 for n in range(5,100)] # worst case\n",
        "y2=[n-1 for n in range(5,100)] # best case\n",
        "y=[]; \n",
        "\n",
        "for n in range(5,100):\n",
        "  a = random.sample(range(1, 100), n)\n",
        "  a,counter = insertionSort(a)\n",
        "  y.append(counter)\n",
        "\n",
        "plt.plot(x,y)\n",
        "plt.plot(x,y1)\n",
        "plt.plot(x,y2)\n",
        "plt.legend([\"Insertion Sort\", \"theoretical worst case\", \"theoretical best case\"])\n",
        "\n",
        "plt.xlabel('n')\n",
        "plt.ylabel('number of operations')\n",
        "plt.show()"
      ]
    },
    {
      "cell_type": "markdown",
      "metadata": {
        "id": "0LpupLb_HnWS"
      },
      "source": [
        "### Análisis de resultados\n",
        "\n",
        "En el gráfico se puede apreciar que, como cabía de esperar, el tiempo de ejecución empírico esta por debajo del peor caso teórico.\n",
        "\n",
        "Por otro lado, el mejor caso tiene cota asintótica $\\Omega(n)$, sin embargo, para arreglos generados aleatoriamente está muy lejos de los resultados experimentales."
      ]
    },
    {
      "cell_type": "markdown",
      "metadata": {
        "id": "5AszHwkmJIfJ"
      },
      "source": [
        "## 5.2. Tiempo de ejecución (experimental)\n",
        "\n",
        "En el siguiente gráfico se reporta el tiempo de ejecución del algoritmo **InsertionSort** en función del tamaño del problema para arreglos generados aleatoriamente de tamaños entre $5$ y $500$, y se compara al mismo tiempo del algoritmo **BubbleSort**.\n",
        "\n"
      ]
    },
    {
      "cell_type": "code",
      "execution_count": 5,
      "metadata": {},
      "outputs": [
        {
          "name": "stdout",
          "output_type": "stream",
          "text": [
            "Entrada:  [5, 8, 7, 1, 3]\n",
            "Salida:  [1, 3, 5, 7, 8]\n",
            "# comparaciones:  10\n"
          ]
        }
      ],
      "source": [
        "import random\n",
        "from termcolor import colored\n",
        "import copy\n",
        "\n",
        "def bubble_sort(a, verbose=False):\n",
        "    n = len(a)\n",
        "    T = 0 #contador de comparaciones\n",
        "\n",
        "    if verbose == True: print(\"input array:\",a)\n",
        "\n",
        "    for i in range(1,n+1):\n",
        "        if verbose == True: print(\"\\nPasada\",i)\n",
        "        # Flag que indica si el arreglo ya se encuentra ordenado\n",
        "        already_sorted = True\n",
        "\n",
        "        # Se recorre el arreglo\n",
        "        for j in range(n - i):\n",
        "            T +=1\n",
        "            if a[j] > a[j + 1]:\n",
        "                # Si el elemento es mayor al siguiente se intercambia\n",
        "                a[j], a[j + 1] = a[j + 1], a[j]\n",
        "                if verbose == True: \n",
        "                  print(str(a[:j])[1:-1],\",\",colored(f\"{str(a[j:j+2])[1:-1]}\",\"red\"),\",\",str(a[j+2:])[1:-1])\n",
        "\n",
        "                already_sorted = False\n",
        "\n",
        "        if already_sorted == False and verbose == True: \n",
        "           print(\"\\nAl finalizar pasada:\")\n",
        "           print(str(a[:n-i])[1:-1],\",\",colored(f\"{str(a[n-i:])[1:-1]}\",\"blue\"))\n",
        "\n",
        "        if already_sorted:\n",
        "            if verbose == True: print(\"is sorted!\")\n",
        "            break\n",
        "\n",
        "    if verbose == True: print(\"\\noutput array:\",a)\n",
        "\n",
        "    return a, T\n",
        "\n",
        "# Ejemplo\n",
        "A = [5,8,7,1,3]\n",
        "print(\"Entrada: \",A)\n",
        "A, counter = bubble_sort(A)\n",
        "print(\"Salida: \",A)\n",
        "print(\"# comparaciones: \", counter)"
      ]
    },
    {
      "cell_type": "code",
      "execution_count": 7,
      "metadata": {
        "colab": {
          "base_uri": "https://localhost:8080/",
          "height": 280
        },
        "id": "Ffz2Id4WJPsO",
        "outputId": "c0b8cdd7-9c1f-47ec-c7d2-f54b315bc192"
      },
      "outputs": [
        {
          "data": {
            "image/png": "[encoded data removed]",
            "text/plain": [
              "<Figure size 432x288 with 1 Axes>"
            ]
          },
          "metadata": {
            "needs_background": "light"
          },
          "output_type": "display_data"
        }
      ],
      "source": [
        "import matplotlib.pyplot as plt\n",
        "import datetime\n",
        "from timeit import repeat\n",
        "\n",
        "x=[]; y=[]\n",
        "\n",
        "for n in range(5,500):\n",
        "\n",
        "  a = random.sample(range(1, 1000), n)\n",
        "\n",
        "  #la función repeat está ejecutando 20 veces bubble_sort con el arreglo a y retorna el mejor tiepo obtenido.\n",
        "  t = repeat(setup=\"from __main__ import insertionSort\", stmt=f\"insertionSort({a})\", repeat=1, number=10)\n",
        "  x.append(n)\n",
        "  y.append(t)\n",
        "\n",
        "plt.plot(x,y)\n",
        "\n",
        "x=[]; y=[]\n",
        "\n",
        "for n in range(5,500):\n",
        "\n",
        "  a = random.sample(range(1, 1000), n)\n",
        "\n",
        "  #la función repeat está ejecutando 20 veces bubble_sort con el arreglo a y retorna el mejor tiepo obtenido.\n",
        "  t = repeat(setup=\"from __main__ import bubble_sort\", stmt=f\"bubble_sort({a})\", repeat=1, number=10)\n",
        "  x.append(n)\n",
        "  y.append(t)\n",
        "\n",
        "plt.plot(x,y)\n",
        "plt.legend([\"InsertionSort\", \"BubbleSort\"])\n",
        "\n",
        "plt.xlabel('n')\n",
        "plt.ylabel('time in ms')\n",
        "plt.show()"
      ]
    },
    {
      "cell_type": "markdown",
      "metadata": {
        "id": "8lSmgt-vvpWB"
      },
      "source": [
        "### Análisis de resultados\n",
        "\n",
        "En el gráfico se puede apreciar que el InsertionSort es más rápido que el BubbleSort, mostrando una mayor diferencia de tiempo mientras más largo sea el arreglo a ordenar.\n",
        "\n",
        "Note que hay unos peaks de tiempo. Estos se deben probablemente al comportamiento impredecible de los procesadores y quizás a otros procesos que también lo están ocupando."
      ]
    }
  ],
  "metadata": {
    "colab": {
      "authorship_tag": "ABX9TyM0ORc3ade3TKzNYfj5A315",
      "include_colab_link": true,
      "name": "BubbleSort",
      "provenance": []
    },
    "kernelspec": {
      "display_name": "Python 3.10.3 64-bit",
      "language": "python",
      "name": "python3"
    },
    "language_info": {
      "codemirror_mode": {
        "name": "ipython",
        "version": 3
      },
      "file_extension": ".py",
      "mimetype": "text/x-python",
      "name": "python",
      "nbconvert_exporter": "python",
      "pygments_lexer": "ipython3",
      "version": "3.10.3"
    },
    "vscode": {
      "interpreter": {
        "hash": "91c5405521f7dfe0cfba6df6041227d649f645edbf13a25c7854227ce3a5d840"
      }
    }
  },
  "nbformat": 4,
  "nbformat_minor": 0
}
